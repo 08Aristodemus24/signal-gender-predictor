{
 "cells": [
  {
   "cell_type": "code",
   "execution_count": 74,
   "id": "13841566",
   "metadata": {},
   "outputs": [],
   "source": [
    "from azure.identity import DefaultAzureCredential, ClientSecretCredential\n",
    "from azure.storage.blob import (\n",
    "    BlobServiceClient,\n",
    "    ContainerClient,\n",
    "    BlobClient,\n",
    "\n",
    "    BlobSasPermissions,\n",
    "    ContainerSasPermissions,\n",
    "    AccountSasPermissions,\n",
    "    Services,\n",
    "    ResourceTypes,\n",
    "    UserDelegationKey,\n",
    "    generate_account_sas,\n",
    "    generate_container_sas,\n",
    "    generate_blob_sas,\n",
    ")\n",
    "\n",
    "from datetime import datetime, timedelta\n",
    "from argparse import ArgumentParser\n",
    "from concurrent.futures import ThreadPoolExecutor\n",
    "from dotenv import load_dotenv\n",
    "from pathlib import Path\n",
    "from urllib.parse import urlencode\n",
    "\n",
    "import requests\n",
    "import os\n"
   ]
  },
  {
   "cell_type": "code",
   "execution_count": 75,
   "id": "a6874353",
   "metadata": {},
   "outputs": [
    {
     "data": {
      "text/plain": [
       "True"
      ]
     },
     "execution_count": 75,
     "metadata": {},
     "output_type": "execute_result"
    }
   ],
   "source": [
    "# load env variables\n",
    "env_dir = Path('../').resolve()\n",
    "load_dotenv(os.path.join(env_dir, '.env'))"
   ]
  },
  {
   "cell_type": "code",
   "execution_count": 76,
   "id": "7f0d694f",
   "metadata": {},
   "outputs": [],
   "source": [
    "# Retrieve credentials from environment variables\n",
    "tenant_id = os.environ.get(\"AZURE_TENANT_ID\")\n",
    "client_id = os.environ.get(\"AZURE_CLIENT_ID\")\n",
    "client_secret = os.environ.get(\"AZURE_CLIENT_SECRET\")\n",
    "subscription_id = os.environ.get(\"AZURE_SUBSCRIPTION_ID\")\n",
    "storage_account_name = os.environ.get(\"STORAGE_ACCOUNT_NAME\")\n",
    "storage_account_key = os.environ.get(\"STORAGE_ACCOUNT_KEY\")\n",
    "resource_group_name = os.environ.get(\"RESOURCE_GROUP_NAME\")"
   ]
  },
  {
   "cell_type": "code",
   "execution_count": 77,
   "id": "da6accad",
   "metadata": {},
   "outputs": [],
   "source": [
    "credential = ClientSecretCredential(tenant_id=tenant_id, client_id=client_id, client_secret=client_secret)\n",
    "\n",
    "# Create a BlobServiceClient object\n",
    "blob_service_client = BlobServiceClient(account_url=f\"https://{storage_account_name}.blob.core.windows.net\", credential=credential,)"
   ]
  },
  {
   "cell_type": "code",
   "execution_count": 78,
   "id": "afac4870",
   "metadata": {},
   "outputs": [],
   "source": [
    "account_sas_kwargs = {\n",
    "    \"account_name\": storage_account_name,\n",
    "    \"account_key\": storage_account_key,\n",
    "    \"resource_types\": ResourceTypes(\n",
    "        service=True, \n",
    "        container=True, \n",
    "        object=True\n",
    "    ), \n",
    "    \"permission\": AccountSasPermissions(\n",
    "        read=True, \n",
    "        write=True,\n",
    "        delete=True,\n",
    "        list=True,\n",
    "        add=True,\n",
    "        create=True,\n",
    "        update=True,\n",
    "        process=True\n",
    "    ), \n",
    "    \"start\": datetime.utcnow(),  \n",
    "    \"services\": Services(blob=True, queue=True, fileshare=True),\n",
    "    \"expiry\": datetime.utcnow() + timedelta(days=1) \n",
    "} "
   ]
  },
  {
   "cell_type": "code",
   "execution_count": 79,
   "id": "899b4bdc",
   "metadata": {},
   "outputs": [],
   "source": [
    "# generated sas token is at the level of the storage account, \n",
    "# permitting services like blobs, files, queues, and tables \n",
    "# to be read, listed, retrieved, updated, deleted etc. \n",
    "# where allowed resource types are service, container \n",
    "sas_token = generate_account_sas(**account_sas_kwargs)"
   ]
  },
  {
   "cell_type": "code",
   "execution_count": 80,
   "id": "76a7d5ea",
   "metadata": {},
   "outputs": [],
   "source": [
    "# for the sake of example this is an account shared access\n",
    "# signature (not user delegated shared access signature) \n",
    "# generated using the azure portal, when we go at the level\n",
    "# of our storage account and generate a shared access signature\n",
    "# token and url\n",
    "\n",
    "# sas_token = \"sv=2024-11-04&ss=bfqt&srt=sco&sp=rwdlacupiytfx&se=2025-07-23T09:46:53Z&st=2025-07-23T01:31:53Z&spr=https&sig=l51AGC01gswW%2FfLY3LpqP8I6W4E%2BdOmmjpr%2FI5LpjWU%3D\"\n",
    "# params = {\n",
    "#     # signedVersion (required)\n",
    "#     \"sv\": \"2024-11-04\",\n",
    "\n",
    "#     # signedServices (required)\n",
    "#     \"ss\": \"bfqt\",\n",
    "\n",
    "#     # signedResourceTypes (required)\n",
    "#     \"srt\": \"sco\",\n",
    "\n",
    "#     # signedPermissions  (rqeuired)\n",
    "#     \"sp\": \"rwdlacupiytfx\",\n",
    "\n",
    "#     # signedStart (optional)\n",
    "#     \"se\": \"2025-07-23T09:46:53Z\",\n",
    "\n",
    "#     # signedEnd (required)\n",
    "#     \"st\": \"2025-07-23T01:31:53Z\",\n",
    "\n",
    "#     # signedProtocol (optional) default value is \"https,http\"\n",
    "#     \"spr\": \"https\",\n",
    "\n",
    "#     # signature (required) is actually a unique string that\n",
    "#     # results from encoding of base64 result of the SHA256 algorithm\n",
    "#     # where this algorithm takes in a string-to-sign constructed from \n",
    "#     # the param fields like sv, ss, srt, etc. along with a key\n",
    "#     \"sig\": \"l51AGC01gswW%2FfLY3LpqP8I6W4E%2BdOmmjpr%2FI5LpjWU%3D\"\n",
    "# }\n",
    "\n",
    "# this is what is basically generated however the problem is we \n",
    "# don't exactly know how to generate the hash based authentication\n",
    "# code (HMAC) signature itself usign the SHA256 algorithm  as this\n",
    "# is abstracted out during the creation of this sas token in the\n",
    "# azure portal, and for now I can't find any documentation indicating\n",
    "# how to use the SHA256 to create this signature from our storage \n",
    "# account key and the string-to-sign we can build from our parameters\n",
    "\n",
    "# but luckily azure python sdk provides a function that generates this \n",
    "# sas_token programmatically. And if we wanted access to the whole of\n",
    "# the storage accounts resources itself, including storage account meta\n",
    "# data, containers, blobs, etc. we can do so by using generate_account_sas()\n",
    "# which generates a key at the level of the storage account itself, if we \n",
    "# wanted to grant access at the level of the container itself or the individual\n",
    "# blob file itself we would use generate_container_sas() or generate_blob_sas()\n",
    "# itself\n",
    "\n",
    "# we can replicate the whole example sas token above with generate_account_sas()\n",
    "# which results in the params we want to for instance list all containers and \n",
    "# blobs/files in all containers\n",
    "# st=2025-07-23T02%3A52%3A43Z\n",
    "# se=2025-07-24T02%3A52%3A43Z\n",
    "# sp=rwdlacup\n",
    "# sv=2025-07-05\n",
    "# ss=bqt\n",
    "# srt=sco\n",
    "# sig=pevOTb7Z4Bg%2BHpUgXHRycIxWAlEIYvHdBtUqWuOAauI%3D"
   ]
  },
  {
   "cell_type": "code",
   "execution_count": 81,
   "id": "93de1757",
   "metadata": {},
   "outputs": [
    {
     "name": "stdout",
     "output_type": "stream",
     "text": [
      "sgppipelinesa-bronze\n",
      "1028-20100710-hne.tgz\n",
      "1028-20100710-hne/LICENSE\n",
      "1028-20100710-hne/etc/GPL_license.txt\n",
      "1028-20100710-hne/etc/HDMan_log\n",
      "1028-20100710-hne/etc/HVite_log\n",
      "1028-20100710-hne/etc/PROMPTS\n",
      "1028-20100710-hne/etc/README\n",
      "1028-20100710-hne/etc/audiofile_details\n",
      "1028-20100710-hne/etc/prompts-original\n",
      "1028-20100710-hne/wav/ar-01.wav\n",
      "1028-20100710-hne/wav/ar-02.wav\n",
      "1028-20100710-hne/wav/ar-03.wav\n",
      "1028-20100710-hne/wav/ar-04.wav\n",
      "1028-20100710-hne/wav/ar-05.wav\n",
      "1028-20100710-hne/wav/ar-06.wav\n",
      "1028-20100710-hne/wav/ar-07.wav\n",
      "1028-20100710-hne/wav/rp-29.wav\n",
      "1028-20100710-hne/wav/rp-30.wav\n",
      "1028-20100710-hne/wav/rp-31.wav\n",
      "sgppipelinesa-gold\n",
      "sgppipelinesa-silver\n"
     ]
    }
   ],
   "source": [
    "blob_service_client = BlobServiceClient(account_url=f\"https://{storage_account_name}.blob.core.windows.net\", credential=sas_token)\n",
    "for container in blob_service_client.list_containers():\n",
    "    print(container.name)\n",
    "    curr = blob_service_client.get_container_client(container.get(\"name\"))\n",
    "    for file in curr.list_blobs():\n",
    "        print(file.name)"
   ]
  }
 ],
 "metadata": {
  "kernelspec": {
   "display_name": ".venv",
   "language": "python",
   "name": "python3"
  },
  "language_info": {
   "codemirror_mode": {
    "name": "ipython",
    "version": 3
   },
   "file_extension": ".py",
   "mimetype": "text/x-python",
   "name": "python",
   "nbconvert_exporter": "python",
   "pygments_lexer": "ipython3",
   "version": "3.11.5"
  }
 },
 "nbformat": 4,
 "nbformat_minor": 5
}
