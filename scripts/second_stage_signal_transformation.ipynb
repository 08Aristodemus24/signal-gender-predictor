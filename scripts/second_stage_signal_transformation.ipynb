{
 "cells": [
  {
   "cell_type": "code",
   "execution_count": 12,
   "id": "8aa806d0",
   "metadata": {},
   "outputs": [],
   "source": [
    "import os\n",
    "import pyarrow as pa\n",
    "import pyarrow.parquet as pq\n",
    "from pyarrow.compute import kurtosis\n",
    "import numpy as np\n",
    "import librosa\n",
    "import duckdb\n",
    "\n",
    "from concurrent.futures import ThreadPoolExecutor"
   ]
  },
  {
   "cell_type": "code",
   "execution_count": 3,
   "id": "01a55d2a",
   "metadata": {},
   "outputs": [],
   "source": [
    "DATA_DIR = \"../include/data/\""
   ]
  },
  {
   "cell_type": "code",
   "execution_count": 5,
   "id": "9d404efc",
   "metadata": {},
   "outputs": [
    {
     "data": {
      "text/plain": [
       "'../include/data/silver/stage-01/'"
      ]
     },
     "execution_count": 5,
     "metadata": {},
     "output_type": "execute_result"
    }
   ],
   "source": [
    "# # cloud\n",
    "# SILVER_FOLDER_NAME = \"sgppipelinesa-silver\"\n",
    "# SUB_FOLDER_NAME = \"stage-01\"\n",
    "# SILVER_DATA_DIR = os.path.join(URL.format(FOLDER_NAME=SILVER_FOLDER_NAME), SUB_FOLDER_NAME)\n",
    "# SILVER_DATA_DIR\n",
    "\n",
    "# local\n",
    "SILVER_FOLDER_NAME = \"silver/\"\n",
    "SUB_FOLDER_NAME = \"stage-01/\"\n",
    "SILVER_DATA_DIR = os.path.join(DATA_DIR, os.path.join(SILVER_FOLDER_NAME, SUB_FOLDER_NAME))\n",
    "SILVER_DATA_DIR"
   ]
  },
  {
   "cell_type": "code",
   "execution_count": 11,
   "id": "caa42962",
   "metadata": {},
   "outputs": [
    {
     "data": {
      "text/plain": [
       "pyarrow.Table\n",
       "signals: float\n",
       "subjectId: string\n",
       "rowId: int32\n",
       "----\n",
       "signals: [[0.0009460449,0.0008239746,0.00076293945,0.00064086914,0.00048828125,...,-0.077941895,-0.08255005,-0.0909729,-0.098846436,-0.10534668],[-0.10913086,-0.11035156,-0.10748291,-0.10131836,-0.08596802,...,-0.0005187988,0.001739502,-0.00030517578,0.00061035156,0.003692627],...,[-0.021118164,-0.0065612793,0.0034179688,0.004486084,-0.011230469,...,0.026397705,0.004425049,-0.0184021,-0.04437256,-0.06384277],[-0.067718506,-0.056793213,-0.04071045,-0.023620605,0.0061950684,...,0.008422852,0.009674072,0.010498047,0.011352539,0.012268066]]\n",
       "subjectId: [[\"_caustic_-20170306-smy\",\"_caustic_-20170306-smy\",\"_caustic_-20170306-smy\",\"_caustic_-20170306-smy\",\"_caustic_-20170306-smy\",...,\"_caustic_-20170306-smy\",\"_caustic_-20170306-smy\",\"_caustic_-20170306-smy\",\"_caustic_-20170306-smy\",\"_caustic_-20170306-smy\"],[\"_caustic_-20170306-smy\",\"_caustic_-20170306-smy\",\"_caustic_-20170306-smy\",\"_caustic_-20170306-smy\",\"_caustic_-20170306-smy\",...,\"_caustic_-20170306-smy\",\"_caustic_-20170306-smy\",\"_caustic_-20170306-smy\",\"_caustic_-20170306-smy\",\"_caustic_-20170306-smy\"],...,[\"_caustic_-20170306-smy\",\"_caustic_-20170306-smy\",\"_caustic_-20170306-smy\",\"_caustic_-20170306-smy\",\"_caustic_-20170306-smy\",...,\"_caustic_-20170306-smy\",\"_caustic_-20170306-smy\",\"_caustic_-20170306-smy\",\"_caustic_-20170306-smy\",\"_caustic_-20170306-smy\"],[\"_caustic_-20170306-smy\",\"_caustic_-20170306-smy\",\"_caustic_-20170306-smy\",\"_caustic_-20170306-smy\",\"_caustic_-20170306-smy\",...,\"_caustic_-20170306-smy\",\"_caustic_-20170306-smy\",\"_caustic_-20170306-smy\",\"_caustic_-20170306-smy\",\"_caustic_-20170306-smy\"]]\n",
       "rowId: [[0,1,2,3,4,...,131067,131068,131069,131070,131071],[131072,131073,131074,131075,131076,...,262139,262140,262141,262142,262143],...,[393216,393217,393218,393219,393220,...,524283,524284,524285,524286,524287],[524288,524289,524290,524291,524292,...,553467,553468,553469,553470,553471]]"
      ]
     },
     "execution_count": 11,
     "metadata": {},
     "output_type": "execute_result"
    }
   ],
   "source": [
    "subject_table = pq.read_table(os.path.join(SILVER_DATA_DIR, \"_caustic_-20170306-smy_signals.parquet\"))\n",
    "subject_table"
   ]
  },
  {
   "cell_type": "code",
   "execution_count": 14,
   "id": "07b06df5",
   "metadata": {},
   "outputs": [],
   "source": [
    "# connect to an in-memory database\n",
    "conn = duckdb.connect()"
   ]
  },
  {
   "cell_type": "code",
   "execution_count": null,
   "id": "e6c1f5f7",
   "metadata": {},
   "outputs": [
    {
     "data": {
      "text/plain": [
       "┌────────────────┬────────────────────────┬───────┬────────────────┐\n",
       "│    signals     │       subjectId        │ rowId │   freq_kurt    │\n",
       "│     float      │        varchar         │ int32 │     float      │\n",
       "├────────────────┼────────────────────────┼───────┼────────────────┤\n",
       "│ -3.0517578e-05 │ _caustic_-20170306-smy │    35 │ -3.0517578e-05 │\n",
       "│  9.1552734e-05 │ _caustic_-20170306-smy │    37 │  9.1552734e-05 │\n",
       "│   -0.000579834 │ _caustic_-20170306-smy │    54 │   -0.000579834 │\n",
       "│ -0.00064086914 │ _caustic_-20170306-smy │    62 │ -0.00064086914 │\n",
       "│ -0.00079345703 │ _caustic_-20170306-smy │    64 │ -0.00079345703 │\n",
       "│ -0.00048828125 │ _caustic_-20170306-smy │    85 │ -0.00048828125 │\n",
       "│  -0.0002746582 │ _caustic_-20170306-smy │    96 │  -0.0002746582 │\n",
       "│  -0.0018005371 │ _caustic_-20170306-smy │   165 │  -0.0018005371 │\n",
       "│  -0.0014953613 │ _caustic_-20170306-smy │   168 │  -0.0014953613 │\n",
       "│ -0.00048828125 │ _caustic_-20170306-smy │   189 │ -0.00048828125 │\n",
       "│         ·      │           ·            │    ·  │         ·      │\n",
       "│         ·      │           ·            │    ·  │         ·      │\n",
       "│         ·      │           ·            │    ·  │         ·      │\n",
       "│   -0.080963135 │ _caustic_-20170306-smy │ 93141 │   -0.080963135 │\n",
       "│    -0.03717041 │ _caustic_-20170306-smy │ 93149 │    -0.03717041 │\n",
       "│    0.108673096 │ _caustic_-20170306-smy │ 93156 │    0.108673096 │\n",
       "│      0.0899353 │ _caustic_-20170306-smy │ 93162 │      0.0899353 │\n",
       "│    0.084747314 │ _caustic_-20170306-smy │ 93163 │    0.084747314 │\n",
       "│   0.0030212402 │ _caustic_-20170306-smy │ 93184 │   0.0030212402 │\n",
       "│     0.03555298 │ _caustic_-20170306-smy │ 93189 │     0.03555298 │\n",
       "│    0.040802002 │ _caustic_-20170306-smy │ 93191 │    0.040802002 │\n",
       "│    0.030456543 │ _caustic_-20170306-smy │ 93200 │    0.030456543 │\n",
       "│    0.009552002 │ _caustic_-20170306-smy │ 93203 │    0.009552002 │\n",
       "├────────────────┴────────────────────────┴───────┴────────────────┤\n",
       "│ ? rows (>9999 rows, 20 shown)                          4 columns │\n",
       "└──────────────────────────────────────────────────────────────────┘"
      ]
     },
     "execution_count": 27,
     "metadata": {},
     "output_type": "execute_result"
    }
   ],
   "source": [
    "conn.sql(\"\"\"\n",
    "    SELECT\n",
    "        signals, \n",
    "        subjectId, \n",
    "        rowId,\n",
    "        median(signals) OVER(PARTITION BY rowId ORDER BY subjectId ROWS BETWEEN CURRENT ROW AND 48000 FOLLOWING) AS freq_kurt\n",
    "    FROM subject_table\n",
    "\"\"\")"
   ]
  },
  {
   "cell_type": "code",
   "execution_count": null,
   "id": "462203c7",
   "metadata": {},
   "outputs": [],
   "source": []
  }
 ],
 "metadata": {
  "kernelspec": {
   "display_name": "tech-interview",
   "language": "python",
   "name": "python3"
  },
  "language_info": {
   "codemirror_mode": {
    "name": "ipython",
    "version": 3
   },
   "file_extension": ".py",
   "mimetype": "text/x-python",
   "name": "python",
   "nbconvert_exporter": "python",
   "pygments_lexer": "ipython3",
   "version": "3.11.8"
  }
 },
 "nbformat": 4,
 "nbformat_minor": 5
}
