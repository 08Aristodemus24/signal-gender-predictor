{
 "cells": [
  {
   "cell_type": "code",
   "execution_count": 12,
   "id": "8aa806d0",
   "metadata": {},
   "outputs": [],
   "source": [
    "import os\n",
    "import pyarrow as pa\n",
    "import pyarrow.parquet as pq\n",
    "from pyarrow.compute import kurtosis\n",
    "import numpy as np\n",
    "import librosa\n",
    "import duckdb\n",
    "\n",
    "from concurrent.futures import ThreadPoolExecutor"
   ]
  },
  {
   "cell_type": "code",
   "execution_count": 3,
   "id": "01a55d2a",
   "metadata": {},
   "outputs": [],
   "source": [
    "DATA_DIR = \"../include/data/\""
   ]
  },
  {
   "cell_type": "code",
   "execution_count": 5,
   "id": "9d404efc",
   "metadata": {},
   "outputs": [
    {
     "data": {
      "text/plain": [
       "'../include/data/silver/stage-01/'"
      ]
     },
     "execution_count": 5,
     "metadata": {},
     "output_type": "execute_result"
    }
   ],
   "source": [
    "# # cloud\n",
    "# SILVER_FOLDER_NAME = \"sgppipelinesa-silver\"\n",
    "# SUB_FOLDER_NAME = \"stage-01\"\n",
    "# SILVER_DATA_DIR = os.path.join(URL.format(FOLDER_NAME=SILVER_FOLDER_NAME), SUB_FOLDER_NAME)\n",
    "# SILVER_DATA_DIR\n",
    "\n",
    "# local\n",
    "SILVER_FOLDER_NAME = \"silver/\"\n",
    "SUB_FOLDER_NAME = \"stage-01/\"\n",
    "SILVER_DATA_DIR = os.path.join(DATA_DIR, os.path.join(SILVER_FOLDER_NAME, SUB_FOLDER_NAME))\n",
    "SILVER_DATA_DIR"
   ]
  },
  {
   "cell_type": "code",
   "execution_count": 11,
   "id": "caa42962",
   "metadata": {},
   "outputs": [
    {
     "data": {
      "text/plain": [
       "pyarrow.Table\n",
       "signals: float\n",
       "subjectId: string\n",
       "rowId: int32\n",
       "----\n",
       "signals: [[0.0009460449,0.0008239746,0.00076293945,0.00064086914,0.00048828125,...,-0.077941895,-0.08255005,-0.0909729,-0.098846436,-0.10534668],[-0.10913086,-0.11035156,-0.10748291,-0.10131836,-0.08596802,...,-0.0005187988,0.001739502,-0.00030517578,0.00061035156,0.003692627],...,[-0.021118164,-0.0065612793,0.0034179688,0.004486084,-0.011230469,...,0.026397705,0.004425049,-0.0184021,-0.04437256,-0.06384277],[-0.067718506,-0.056793213,-0.04071045,-0.023620605,0.0061950684,...,0.008422852,0.009674072,0.010498047,0.011352539,0.012268066]]\n",
       "subjectId: [[\"_caustic_-20170306-smy\",\"_caustic_-20170306-smy\",\"_caustic_-20170306-smy\",\"_caustic_-20170306-smy\",\"_caustic_-20170306-smy\",...,\"_caustic_-20170306-smy\",\"_caustic_-20170306-smy\",\"_caustic_-20170306-smy\",\"_caustic_-20170306-smy\",\"_caustic_-20170306-smy\"],[\"_caustic_-20170306-smy\",\"_caustic_-20170306-smy\",\"_caustic_-20170306-smy\",\"_caustic_-20170306-smy\",\"_caustic_-20170306-smy\",...,\"_caustic_-20170306-smy\",\"_caustic_-20170306-smy\",\"_caustic_-20170306-smy\",\"_caustic_-20170306-smy\",\"_caustic_-20170306-smy\"],...,[\"_caustic_-20170306-smy\",\"_caustic_-20170306-smy\",\"_caustic_-20170306-smy\",\"_caustic_-20170306-smy\",\"_caustic_-20170306-smy\",...,\"_caustic_-20170306-smy\",\"_caustic_-20170306-smy\",\"_caustic_-20170306-smy\",\"_caustic_-20170306-smy\",\"_caustic_-20170306-smy\"],[\"_caustic_-20170306-smy\",\"_caustic_-20170306-smy\",\"_caustic_-20170306-smy\",\"_caustic_-20170306-smy\",\"_caustic_-20170306-smy\",...,\"_caustic_-20170306-smy\",\"_caustic_-20170306-smy\",\"_caustic_-20170306-smy\",\"_caustic_-20170306-smy\",\"_caustic_-20170306-smy\"]]\n",
       "rowId: [[0,1,2,3,4,...,131067,131068,131069,131070,131071],[131072,131073,131074,131075,131076,...,262139,262140,262141,262142,262143],...,[393216,393217,393218,393219,393220,...,524283,524284,524285,524286,524287],[524288,524289,524290,524291,524292,...,553467,553468,553469,553470,553471]]"
      ]
     },
     "execution_count": 11,
     "metadata": {},
     "output_type": "execute_result"
    }
   ],
   "source": [
    "subject_table = pq.read_table(os.path.join(SILVER_DATA_DIR, \"_caustic_-20170306-smy_signals.parquet\"))\n",
    "subject_table"
   ]
  },
  {
   "cell_type": "code",
   "execution_count": 14,
   "id": "07b06df5",
   "metadata": {},
   "outputs": [],
   "source": [
    "# connect to an in-memory database\n",
    "conn = duckdb.connect()"
   ]
  },
  {
   "cell_type": "code",
   "execution_count": 32,
   "id": "337f6739",
   "metadata": {},
   "outputs": [
    {
     "data": {
      "text/plain": [
       "┌──────────────┐\n",
       "│ count_star() │\n",
       "│    int64     │\n",
       "├──────────────┤\n",
       "│       553472 │\n",
       "└──────────────┘"
      ]
     },
     "execution_count": 32,
     "metadata": {},
     "output_type": "execute_result"
    }
   ],
   "source": [
    "conn.sql(\"\"\"\n",
    "    SELECT COUNT(*) FROM subject_table\n",
    "\"\"\")"
   ]
  },
  {
   "cell_type": "code",
   "execution_count": 39,
   "id": "e6c1f5f7",
   "metadata": {},
   "outputs": [
    {
     "data": {
      "text/plain": [
       "┌────────────────┬────────────────────────┬───────┬───────────┐\n",
       "│    signals     │       subjectId        │ rowId │ freq_kurt │\n",
       "│     float      │        varchar         │ int32 │  int128   │\n",
       "├────────────────┼────────────────────────┼───────┼───────────┤\n",
       "│   0.0009460449 │ _caustic_-20170306-smy │     0 │         1 │\n",
       "│   0.0008239746 │ _caustic_-20170306-smy │     1 │         3 │\n",
       "│  0.00076293945 │ _caustic_-20170306-smy │     2 │         5 │\n",
       "│  0.00064086914 │ _caustic_-20170306-smy │     3 │         7 │\n",
       "│  0.00048828125 │ _caustic_-20170306-smy │     4 │         9 │\n",
       "│  0.00045776367 │ _caustic_-20170306-smy │     5 │        11 │\n",
       "│   0.0005187988 │ _caustic_-20170306-smy │     6 │        13 │\n",
       "│   0.0004272461 │ _caustic_-20170306-smy │     7 │        15 │\n",
       "│  0.00030517578 │ _caustic_-20170306-smy │     8 │        17 │\n",
       "│  0.00039672852 │ _caustic_-20170306-smy │     9 │        19 │\n",
       "│        ·       │           ·            │     · │         · │\n",
       "│        ·       │           ·            │     · │         · │\n",
       "│        ·       │           ·            │     · │         · │\n",
       "│  -0.0008239746 │ _caustic_-20170306-smy │  9990 │     19981 │\n",
       "│  -0.0028076172 │ _caustic_-20170306-smy │  9991 │     19983 │\n",
       "│  -0.0011291504 │ _caustic_-20170306-smy │  9992 │     19985 │\n",
       "│  -0.0029296875 │ _caustic_-20170306-smy │  9993 │     19987 │\n",
       "│   -0.004852295 │ _caustic_-20170306-smy │  9994 │     19989 │\n",
       "│  -0.0025024414 │ _caustic_-20170306-smy │  9995 │     19991 │\n",
       "│  -0.0012817383 │ _caustic_-20170306-smy │  9996 │     19993 │\n",
       "│  -0.0046081543 │ _caustic_-20170306-smy │  9997 │     19995 │\n",
       "│  -0.0030212402 │ _caustic_-20170306-smy │  9998 │     19997 │\n",
       "│ -0.00076293945 │ _caustic_-20170306-smy │  9999 │     19999 │\n",
       "├────────────────┴────────────────────────┴───────┴───────────┤\n",
       "│ ? rows (>9999 rows, 20 shown)                     4 columns │\n",
       "└─────────────────────────────────────────────────────────────┘"
      ]
     },
     "execution_count": 39,
     "metadata": {},
     "output_type": "execute_result"
    }
   ],
   "source": [
    "conn.sql(\"\"\"\n",
    "    SELECT\n",
    "        signals, \n",
    "        subjectId, \n",
    "        rowId,\n",
    "        sum(rowId) OVER(PARTITION BY subjectId ORDER BY rowId ROWS BETWEEN CURRENT ROW AND 1 FOLLOWING) AS freq_kurt\n",
    "    FROM subject_table\n",
    "    ORDER BY rowId\n",
    "\"\"\")"
   ]
  },
  {
   "cell_type": "code",
   "execution_count": null,
   "id": "8ab48ede",
   "metadata": {},
   "outputs": [],
   "source": []
  },
  {
   "cell_type": "code",
   "execution_count": 34,
   "id": "462203c7",
   "metadata": {},
   "outputs": [
    {
     "data": {
      "text/plain": [
       "┌──────────────┐\n",
       "│ count_star() │\n",
       "│    int64     │\n",
       "├──────────────┤\n",
       "│       553472 │\n",
       "└──────────────┘"
      ]
     },
     "execution_count": 34,
     "metadata": {},
     "output_type": "execute_result"
    }
   ],
   "source": [
    "conn.sql(\"\"\"\n",
    "    SELECT COUNT(*) FROM subject_table\n",
    "\"\"\")"
   ]
  },
  {
   "cell_type": "code",
   "execution_count": null,
   "id": "57669863",
   "metadata": {},
   "outputs": [],
   "source": []
  }
 ],
 "metadata": {
  "kernelspec": {
   "display_name": "tech-interview",
   "language": "python",
   "name": "python3"
  },
  "language_info": {
   "codemirror_mode": {
    "name": "ipython",
    "version": 3
   },
   "file_extension": ".py",
   "mimetype": "text/x-python",
   "name": "python",
   "nbconvert_exporter": "python",
   "pygments_lexer": "ipython3",
   "version": "3.11.8"
  }
 },
 "nbformat": 4,
 "nbformat_minor": 5
}
