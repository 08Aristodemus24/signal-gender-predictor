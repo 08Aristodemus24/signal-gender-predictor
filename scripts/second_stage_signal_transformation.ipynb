{
 "cells": [
  {
   "cell_type": "code",
   "execution_count": 1,
   "id": "8aa806d0",
   "metadata": {},
   "outputs": [],
   "source": [
    "import os\n",
    "import pyarrow as pa\n",
    "import pyarrow.parquet as pq\n",
    "from pyarrow.compute import kurtosis\n",
    "import numpy as np\n",
    "import librosa\n",
    "import duckdb\n",
    "\n",
    "from concurrent.futures import ThreadPoolExecutor"
   ]
  },
  {
   "cell_type": "code",
   "execution_count": 2,
   "id": "01a55d2a",
   "metadata": {},
   "outputs": [],
   "source": [
    "DATA_DIR = \"../include/data/\""
   ]
  },
  {
   "cell_type": "code",
   "execution_count": 3,
   "id": "9d404efc",
   "metadata": {},
   "outputs": [
    {
     "data": {
      "text/plain": [
       "'../include/data/silver/stage-01/'"
      ]
     },
     "execution_count": 3,
     "metadata": {},
     "output_type": "execute_result"
    }
   ],
   "source": [
    "# # cloud\n",
    "# SILVER_FOLDER_NAME = \"sgppipelinesa-silver\"\n",
    "# SUB_FOLDER_NAME = \"stage-01\"\n",
    "# SILVER_DATA_DIR = os.path.join(URL.format(FOLDER_NAME=SILVER_FOLDER_NAME), SUB_FOLDER_NAME)\n",
    "# SILVER_DATA_DIR\n",
    "\n",
    "# local\n",
    "SILVER_FOLDER_NAME = \"silver/\"\n",
    "SUB_FOLDER_NAME = \"stage-01/\"\n",
    "SILVER_DATA_DIR = os.path.join(DATA_DIR, os.path.join(SILVER_FOLDER_NAME, SUB_FOLDER_NAME))\n",
    "SILVER_DATA_DIR"
   ]
  },
  {
   "cell_type": "code",
   "execution_count": 4,
   "id": "caa42962",
   "metadata": {},
   "outputs": [
    {
     "data": {
      "text/plain": [
       "pyarrow.Table\n",
       "signals: float\n",
       "subjectId: string\n",
       "rowId: int32\n",
       "----\n",
       "signals: [[0.0009460449,0.0008239746,0.00076293945,0.00064086914,0.00048828125,...,-0.077941895,-0.08255005,-0.0909729,-0.098846436,-0.10534668],[-0.10913086,-0.11035156,-0.10748291,-0.10131836,-0.08596802,...,-0.0005187988,0.001739502,-0.00030517578,0.00061035156,0.003692627],...,[-0.021118164,-0.0065612793,0.0034179688,0.004486084,-0.011230469,...,0.026397705,0.004425049,-0.0184021,-0.04437256,-0.06384277],[-0.067718506,-0.056793213,-0.04071045,-0.023620605,0.0061950684,...,0.008422852,0.009674072,0.010498047,0.011352539,0.012268066]]\n",
       "subjectId: [[\"_caustic_-20170306-smy\",\"_caustic_-20170306-smy\",\"_caustic_-20170306-smy\",\"_caustic_-20170306-smy\",\"_caustic_-20170306-smy\",...,\"_caustic_-20170306-smy\",\"_caustic_-20170306-smy\",\"_caustic_-20170306-smy\",\"_caustic_-20170306-smy\",\"_caustic_-20170306-smy\"],[\"_caustic_-20170306-smy\",\"_caustic_-20170306-smy\",\"_caustic_-20170306-smy\",\"_caustic_-20170306-smy\",\"_caustic_-20170306-smy\",...,\"_caustic_-20170306-smy\",\"_caustic_-20170306-smy\",\"_caustic_-20170306-smy\",\"_caustic_-20170306-smy\",\"_caustic_-20170306-smy\"],...,[\"_caustic_-20170306-smy\",\"_caustic_-20170306-smy\",\"_caustic_-20170306-smy\",\"_caustic_-20170306-smy\",\"_caustic_-20170306-smy\",...,\"_caustic_-20170306-smy\",\"_caustic_-20170306-smy\",\"_caustic_-20170306-smy\",\"_caustic_-20170306-smy\",\"_caustic_-20170306-smy\"],[\"_caustic_-20170306-smy\",\"_caustic_-20170306-smy\",\"_caustic_-20170306-smy\",\"_caustic_-20170306-smy\",\"_caustic_-20170306-smy\",...,\"_caustic_-20170306-smy\",\"_caustic_-20170306-smy\",\"_caustic_-20170306-smy\",\"_caustic_-20170306-smy\",\"_caustic_-20170306-smy\"]]\n",
       "rowId: [[0,1,2,3,4,...,131067,131068,131069,131070,131071],[131072,131073,131074,131075,131076,...,262139,262140,262141,262142,262143],...,[393216,393217,393218,393219,393220,...,524283,524284,524285,524286,524287],[524288,524289,524290,524291,524292,...,553467,553468,553469,553470,553471]]"
      ]
     },
     "execution_count": 4,
     "metadata": {},
     "output_type": "execute_result"
    }
   ],
   "source": [
    "subject_table = pq.read_table(os.path.join(SILVER_DATA_DIR, \"_caustic_-20170306-smy_signals.parquet\"))\n",
    "subject_table"
   ]
  },
  {
   "cell_type": "code",
   "execution_count": 5,
   "id": "07b06df5",
   "metadata": {},
   "outputs": [],
   "source": [
    "# connect to an in-memory database\n",
    "conn = duckdb.connect()"
   ]
  },
  {
   "cell_type": "code",
   "execution_count": 6,
   "id": "337f6739",
   "metadata": {},
   "outputs": [
    {
     "data": {
      "text/plain": [
       "┌──────────────┐\n",
       "│ count_star() │\n",
       "│    int64     │\n",
       "├──────────────┤\n",
       "│       553472 │\n",
       "└──────────────┘"
      ]
     },
     "execution_count": 6,
     "metadata": {},
     "output_type": "execute_result"
    }
   ],
   "source": [
    "conn.sql(\"\"\"\n",
    "    SELECT COUNT(*) FROM subject_table\n",
    "\"\"\")"
   ]
  },
  {
   "cell_type": "code",
   "execution_count": 7,
   "id": "30e9494f",
   "metadata": {},
   "outputs": [],
   "source": [
    "# hertz\n",
    "hertz = 16000\n",
    "window_time = 3\n",
    "hop_time = 1\n",
    "\n",
    "# we calculate the window size of each segment or the\n",
    "# amount of samples it has to have based on the frequency\n",
    "samples_per_win_size = int(window_time * hertz)\n",
    "samples_per_hop_size = int(hop_time * hertz)"
   ]
  },
  {
   "cell_type": "code",
   "execution_count": 22,
   "id": "e6c1f5f7",
   "metadata": {},
   "outputs": [],
   "source": [
    "conn.sql(f\"\"\"\n",
    "    CREATE OR REPLACE TEMPORARY TABLE subject_features AS (\n",
    "        SELECT\n",
    "            signals, \n",
    "            subjectId, \n",
    "            rowId,\n",
    "            KURTOSIS(signals) OVER(PARTITION BY subjectId ORDER BY rowId ROWS BETWEEN CURRENT ROW AND {samples_per_win_size - 1} FOLLOWING) AS freq_kurt,\n",
    "            SKEWNESS(signals) OVER(PARTITION BY subjectId ORDER BY rowId ROWS BETWEEN CURRENT ROW AND {samples_per_win_size - 1} FOLLOWING) AS freq_skew,\n",
    "            ENTROPY(signals)OVER(PARTITION BY subjectId ORDER BY rowId ROWS BETWEEN CURRENT ROW AND {samples_per_win_size - 1} FOLLOWING) AS freq_entropy,\n",
    "            AVG(signals) OVER(PARTITION BY subjectId ORDER BY rowId ROWS BETWEEN CURRENT ROW AND {samples_per_win_size - 1} FOLLOWING) AS freq_mean,\n",
    "            MEDIAN(signals) OVER(PARTITION BY subjectId ORDER BY rowId ROWS BETWEEN CURRENT ROW AND {samples_per_win_size - 1} FOLLOWING) AS freq_median,\n",
    "            MODE(signals) OVER(PARTITION BY subjectId ORDER BY rowId ROWS BETWEEN CURRENT ROW AND {samples_per_win_size - 1} FOLLOWING) AS freq_mode,\n",
    "            MIN(signals) OVER(PARTITION BY subjectId ORDER BY rowId ROWS BETWEEN CURRENT ROW AND {samples_per_win_size - 1} FOLLOWING) AS freq_min,\n",
    "            MAX(signals) OVER(PARTITION BY subjectId ORDER BY rowId ROWS BETWEEN CURRENT ROW AND {samples_per_win_size - 1} FOLLOWING) AS freq_max,\n",
    "            VAR_SAMP(signals) OVER(PARTITION BY subjectId ORDER BY rowId ROWS BETWEEN CURRENT ROW AND {samples_per_win_size - 1} FOLLOWING) AS freq_var,\n",
    "            STDDEV_SAMP(signals) OVER(PARTITION BY subjectId ORDER BY rowId ROWS BETWEEN CURRENT ROW AND {samples_per_win_size - 1} FOLLOWING) AS freq_stddev,\n",
    "            QUANTILE_CONT(signals, 0.25) OVER(PARTITION BY subjectId ORDER BY rowId ROWS BETWEEN CURRENT ROW AND {samples_per_win_size - 1} FOLLOWING) AS freq_first_quart,\n",
    "            QUANTILE_CONT(signals, 0.75) OVER(PARTITION BY subjectId ORDER BY rowId ROWS BETWEEN CURRENT ROW AND {samples_per_win_size - 1} FOLLOWING) AS freq_third_quart\n",
    "        FROM subject_table\n",
    "        WHERE (rowId % {samples_per_hop_size}) = 0\n",
    "        ORDER BY rowId\n",
    "    )\n",
    "\"\"\")"
   ]
  },
  {
   "cell_type": "code",
   "execution_count": 24,
   "id": "8ab48ede",
   "metadata": {},
   "outputs": [],
   "source": [
    "conn.sql(\"\"\"\n",
    "    CREATE OR REPLACE TEMPORARY TABLE subject_features AS (\n",
    "        SELECT \n",
    "            *,\n",
    "            (freq_max - freq_min) AS freq_range,\n",
    "            (freq_first_quart - freq_third_quart) AS freq_inter_quart_range\n",
    "        FROM subject_features\n",
    "    )\n",
    "\"\"\")"
   ]
  },
  {
   "cell_type": "code",
   "execution_count": 25,
   "id": "14bd3595",
   "metadata": {},
   "outputs": [
    {
     "data": {
      "text/plain": [
       "┌───────────────┬────────────────────────┬────────┬─────────────────────┬──────────────────────┬────────────────────┬────────────────────────┬───────────────┬───────────────┬──────────────┬─────────────┬────────────────────────┬──────────────────────┬──────────────────┬──────────────────┬─────────────┬────────────────────────┐\n",
       "│    signals    │       subjectId        │ rowId  │      freq_kurt      │      freq_skew       │    freq_entropy    │       freq_mean        │  freq_median  │   freq_mode   │   freq_min   │  freq_max   │        freq_var        │     freq_stddev      │ freq_first_quart │ freq_third_quart │ freq_range  │ freq_inter_quart_range │\n",
       "│     float     │        varchar         │ int32  │       double        │        double        │       double       │         double         │     float     │     float     │    float     │    float    │         double         │        double        │      float       │      float       │    float    │         float          │\n",
       "├───────────────┼────────────────────────┼────────┼─────────────────────┼──────────────────────┼────────────────────┼────────────────────────┼───────────────┼───────────────┼──────────────┼─────────────┼────────────────────────┼──────────────────────┼──────────────────┼──────────────────┼─────────────┼────────────────────────┤\n",
       "│  0.0009460449 │ _caustic_-20170306-smy │      0 │  1.3326821020525852 │ -0.23345593983298835 │  5.129283016944964 │  -0.013423374720982142 │ -0.0057373047 │  0.0009460449 │    -0.109375 │ 0.101867676 │  0.0016845292216088588 │  0.04104301672159173 │     -0.030303955 │      0.011428833 │  0.21124268 │           -0.041732788 │\n",
       "│   0.010803223 │ _caustic_-20170306-smy │  16000 │  1.2348846883116316 │ -0.20062753323599233 │  5.087462841250338 │   -0.01384600471047794 │  -0.006713867 │   0.010803223 │    -0.109375 │ 0.101867676 │  0.0017291345565501805 │ 0.041582863736762773 │     -0.030944824 │      0.011741638 │  0.21124268 │           -0.042686462 │\n",
       "│  -0.002319336 │ _caustic_-20170306-smy │  32000 │  1.1924371905071776 │ -0.15116058738238597 │  5.044394119358456 │  -0.014592950994318182 │ -0.0076904297 │  -0.002319336 │    -0.109375 │ 0.101867676 │   0.001763607634612444 │ 0.041995328723709785 │     -0.031585693 │      0.012054443 │  0.21124268 │           -0.043640137 │\n",
       "│   0.025543213 │ _caustic_-20170306-smy │  48000 │  1.0862584735208913 │  -0.1217142904927214 │                5.0 │   -0.01497650146484375 │  -0.007888794 │   0.025543213 │    -0.109375 │ 0.101867676 │  0.0018154869396840368 │ 0.042608531301654096 │      -0.03779602 │      0.012252808 │  0.21124268 │           -0.050048828 │\n",
       "│  -0.059448242 │ _caustic_-20170306-smy │  64000 │  1.1827607950944192 │ -0.05786776704008853 │  4.954196310386877 │  -0.016283589024697582 │  -0.008087158 │  -0.059448242 │    -0.109375 │ 0.101867676 │   0.001819509502139783 │  0.04265570890443368 │     -0.044006348 │      0.008682251 │  0.21124268 │             -0.0526886 │\n",
       "│    0.02746582 │ _caustic_-20170306-smy │  80000 │  1.3444337875048598 │ -0.13035524352296024 │  4.906890595608519 │  -0.014844767252604167 │  -0.007888794 │    0.02746582 │    -0.109375 │ 0.101867676 │  0.0018158617771990683 │  0.04261292969509452 │     -0.030944824 │      0.010368347 │  0.21124268 │            -0.04131317 │\n",
       "│   -0.01083374 │ _caustic_-20170306-smy │  96000 │  1.4798336684855753 │ -0.06267068317729618 │  4.857980995127571 │   -0.01630375303071121 │  -0.008087158 │   -0.01083374 │    -0.109375 │ 0.101867676 │  0.0018145741133267067 │  0.04259781817566138 │     -0.031585693 │     0.0053100586 │  0.21124268 │           -0.036895752 │\n",
       "│  -0.029022217 │ _caustic_-20170306-smy │ 112000 │  1.3349786489875581 │ -0.04728700503803827 │  4.807354922057602 │  -0.016499110630580356 │  -0.007888794 │  -0.029022217 │    -0.109375 │ 0.101867676 │  0.0018806327972068358 │ 0.043366263353058626 │      -0.03779602 │      0.006996155 │  0.21124268 │           -0.044792175 │\n",
       "│     -0.109375 │ _caustic_-20170306-smy │ 128000 │  1.2166976928167677 │ -0.07987146036697824 │  4.754887502163471 │  -0.016035291883680556 │ -0.0076904297 │     -0.109375 │    -0.109375 │ 0.101867676 │  0.0019467095725047281 │ 0.044121531846760806 │     -0.044006348 │      0.008682251 │  0.21124268 │             -0.0526886 │\n",
       "│   -0.08886719 │ _caustic_-20170306-smy │ 144000 │  1.7091018091472021 │  0.12730068192991065 │   4.70043971814109 │  -0.012445303109975962 │  -0.006713867 │   -0.08886719 │ -0.094329834 │ 0.101867676 │  0.0016626823707841906 │  0.04077600238846607 │     -0.028266907 │      0.010368347 │  0.19619751 │           -0.038635254 │\n",
       "│        ·      │           ·            │    ·   │           ·         │           ·          │           ·        │             ·          │        ·      │        ·      │       ·      │       ·     │            ·           │           ·          │           ·      │           ·      │       ·     │                 ·      │\n",
       "│        ·      │           ·            │    ·   │           ·         │           ·          │           ·        │             ·          │        ·      │        ·      │       ·      │       ·     │            ·           │           ·          │           ·      │           ·      │       ·     │                 ·      │\n",
       "│        ·      │           ·            │    ·   │           ·         │           ·          │           ·        │             ·          │        ·      │        ·      │       ·      │       ·     │            ·           │           ·          │           ·      │           ·      │       ·     │                 ·      │\n",
       "│   -0.05682373 │ _caustic_-20170306-smy │ 400000 │ -0.9086188103200045 │  -0.6776050614063278 │  3.321928094887362 │    -0.0292205810546875 │  -0.009490967 │   -0.05682373 │ -0.094329834 │   0.0128479 │  0.0012763308671613534 │  0.03572577314994531 │      -0.05672455 │     -0.007789612 │ 0.107177734 │           -0.048934937 │\n",
       "│  -0.008575439 │ _caustic_-20170306-smy │ 416000 │ -0.3167305003058103 │  -0.9926204185942148 │  3.169925001442312 │     -0.026153564453125 │  -0.008575439 │  -0.008575439 │ -0.094329834 │   0.0128479 │  0.0013300480786710978 │   0.0364698242204579 │     -0.056427002 │    -0.0076904297 │ 0.107177734 │           -0.048736572 │\n",
       "│ -0.0076904297 │ _caustic_-20170306-smy │ 432000 │ -0.8369009944509681 │   -0.800946201689907 │                3.0 │     -0.028350830078125 │  -0.009246826 │ -0.0076904297 │ -0.094329834 │   0.0128479 │  0.0014703957630055294 │  0.03834573982863715 │      -0.05859375 │    -0.0051727295 │ 0.107177734 │            -0.05342102 │\n",
       "│  -0.094329834 │ _caustic_-20170306-smy │ 448000 │  -1.371876096192565 │  -0.5612972241283873 │  2.807354922057604 │   -0.03130231584821429 │  -0.010406494 │  -0.094329834 │ -0.094329834 │   0.0128479 │   0.001634156553163415 │  0.04042470226437561 │     -0.060760498 │    -0.0028533936 │ 0.107177734 │           -0.057907104 │\n",
       "│   0.002380371 │ _caustic_-20170306-smy │ 464000 │ -1.6222005204038759 │  -0.7075809626400285 │  2.584962500721156 │    -0.0207977294921875 │  -0.009246826 │   0.002380371 │ -0.065093994 │   0.0128479 │  0.0010340786539018154 │ 0.032157093368366106 │     -0.044921875 │   -0.00023651123 │ 0.077941895 │           -0.044685364 │\n",
       "│  -0.065093994 │ _caustic_-20170306-smy │ 480000 │ -2.4477893577916667 │  -0.3004837355356116 │  2.321928094887362 │     -0.025433349609375 │  -0.010406494 │  -0.065093994 │ -0.065093994 │   0.0128479 │  0.0011314310133457184 │  0.03363675093325332 │     -0.056427002 │     -0.008087158 │ 0.077941895 │           -0.048339844 │\n",
       "│  -0.056427002 │ _caustic_-20170306-smy │ 496000 │  2.3074133347059504 │  -1.2063458957958773 │                2.0 │    -0.0155181884765625 │  -0.009246826 │  -0.056427002 │ -0.056427002 │   0.0128479 │  0.0008531718825300535 │  0.02920910615767031 │     -0.021911621 │    -0.0028533936 │   0.0692749 │           -0.019058228 │\n",
       "│  -0.010406494 │ _caustic_-20170306-smy │ 512000 │                NULL │   1.6683827805169664 │ 1.5849625007211559 │ -0.0018819173177083333 │  -0.008087158 │  -0.010406494 │ -0.010406494 │   0.0128479 │ 0.00016407047708829242 │ 0.012808999847306284 │     -0.009246826 │      0.002380371 │ 0.023254395 │           -0.011627197 │\n",
       "│  -0.008087158 │ _caustic_-20170306-smy │ 528000 │                NULL │                 NULL │                1.0 │       0.00238037109375 │   0.002380371 │  -0.008087158 │ -0.008087158 │   0.0128479 │ 0.00021913833916187286 │ 0.014803321896178332 │    -0.0028533936 │     0.0076141357 │ 0.020935059 │           -0.010467529 │\n",
       "│     0.0128479 │ _caustic_-20170306-smy │ 544000 │                NULL │                 NULL │                0.0 │      0.012847900390625 │     0.0128479 │     0.0128479 │    0.0128479 │   0.0128479 │                   NULL │                 NULL │        0.0128479 │        0.0128479 │         0.0 │                    0.0 │\n",
       "├───────────────┴────────────────────────┴────────┴─────────────────────┴──────────────────────┴────────────────────┴────────────────────────┴───────────────┴───────────────┴──────────────┴─────────────┴────────────────────────┴──────────────────────┴──────────────────┴──────────────────┴─────────────┴────────────────────────┤\n",
       "│ 35 rows (20 shown)                                                                                                                                                                                                                                                                                                        17 columns │\n",
       "└──────────────────────────────────────────────────────────────────────────────────────────────────────────────────────────────────────────────────────────────────────────────────────────────────────────────────────────────────────────────────────────────────────────────────────────────────────────────────────────────────────┘"
      ]
     },
     "execution_count": 25,
     "metadata": {},
     "output_type": "execute_result"
    }
   ],
   "source": [
    "conn.sql(\"\"\"\n",
    "    SELECT * FROM subject_features\n",
    "\"\"\")"
   ]
  },
  {
   "cell_type": "markdown",
   "id": "2b271669",
   "metadata": {},
   "source": [
    "#### 544000 + a window of 48000 is 592000 which is greater 553472 so we consider only the indeces 544000 to 553471 which is just 9471 rows of data for this last window"
   ]
  },
  {
   "cell_type": "code",
   "execution_count": 34,
   "id": "462203c7",
   "metadata": {},
   "outputs": [
    {
     "data": {
      "text/plain": [
       "┌──────────────┐\n",
       "│ count_star() │\n",
       "│    int64     │\n",
       "├──────────────┤\n",
       "│       553472 │\n",
       "└──────────────┘"
      ]
     },
     "execution_count": 34,
     "metadata": {},
     "output_type": "execute_result"
    }
   ],
   "source": [
    "conn.sql(\"\"\"\n",
    "    SELECT COUNT(*) FROM subject_table\n",
    "\"\"\")"
   ]
  },
  {
   "cell_type": "code",
   "execution_count": 31,
   "id": "093f1130",
   "metadata": {},
   "outputs": [],
   "source": [
    "frames = conn.sql(\"\"\"\n",
    "    SELECT COUNT(rowId) FROM subject_features\n",
    "\"\"\").fetchall()[-1][-1]"
   ]
  },
  {
   "cell_type": "code",
   "execution_count": 30,
   "id": "b7833f70",
   "metadata": {},
   "outputs": [
    {
     "data": {
      "text/plain": [
       "35"
      ]
     },
     "execution_count": 30,
     "metadata": {},
     "output_type": "execute_result"
    }
   ],
   "source": [
    "frames[-1][-1]"
   ]
  },
  {
   "cell_type": "code",
   "execution_count": 33,
   "id": "57669863",
   "metadata": {},
   "outputs": [
    {
     "data": {
      "text/plain": [
       "np.float64(35.0)"
      ]
     },
     "execution_count": 33,
     "metadata": {},
     "output_type": "execute_result"
    }
   ],
   "source": [
    "time = librosa.frames_to_time(frames, sr=hertz, hop_length=samples_per_hop_size)\n",
    "time"
   ]
  },
  {
   "cell_type": "code",
   "execution_count": 41,
   "id": "d5ca0198",
   "metadata": {},
   "outputs": [
    {
     "data": {
      "text/plain": [
       "array([0.00094604, 0.00082397, 0.00076294, ..., 0.01049805, 0.01135254,\n",
       "       0.01226807], shape=(553472,), dtype=float32)"
      ]
     },
     "execution_count": 41,
     "metadata": {},
     "output_type": "execute_result"
    }
   ],
   "source": [
    "subject_table[\"signals\"].to_numpy()"
   ]
  },
  {
   "cell_type": "code",
   "execution_count": 54,
   "id": "e2b2dc2e",
   "metadata": {},
   "outputs": [
    {
     "data": {
      "text/plain": [
       "array([0.00094604, 0.00082397, 0.00076294, ..., 0.01049805, 0.01135254,\n",
       "       0.01226807], shape=(553472,), dtype=float32)"
      ]
     },
     "execution_count": 54,
     "metadata": {},
     "output_type": "execute_result"
    }
   ],
   "source": [
    "x_signals = subject_table[\"signals\"].to_numpy()\n",
    "x_signals"
   ]
  },
  {
   "cell_type": "code",
   "execution_count": 55,
   "id": "15e40015",
   "metadata": {},
   "outputs": [
    {
     "data": {
      "text/plain": [
       "array([[0.08729167, 0.15414583, 0.18664583, 0.17652083, 0.1423125 ,\n",
       "        0.17235417, 0.14370833, 0.13979167, 0.08329167, 0.11022917,\n",
       "        0.15575   , 0.156625  , 0.15625   , 0.14270833, 0.14977083,\n",
       "        0.15375   , 0.15527083, 0.1721875 , 0.1454375 , 0.13004167,\n",
       "        0.12695833, 0.12214583, 0.10583333, 0.1366875 , 0.1511875 ,\n",
       "        0.17816667, 0.1685    , 0.17489583, 0.16841667, 0.13808333,\n",
       "        0.13670833, 0.18285417, 0.185     , 0.17108333, 0.07641667]])"
      ]
     },
     "execution_count": 55,
     "metadata": {},
     "output_type": "execute_result"
    }
   ],
   "source": [
    "# calculate other features\n",
    "zcr = librosa.feature.zero_crossing_rate(y=x_signals, frame_length=samples_per_win_size, hop_length=samples_per_hop_size)\n",
    "zcr"
   ]
  },
  {
   "cell_type": "code",
   "execution_count": 61,
   "id": "18187fa9",
   "metadata": {},
   "outputs": [
    {
     "data": {
      "text/plain": [
       "35"
      ]
     },
     "execution_count": 61,
     "metadata": {},
     "output_type": "execute_result"
    }
   ],
   "source": [
    "zcr.shape[1]"
   ]
  },
  {
   "cell_type": "code",
   "execution_count": 64,
   "id": "a78de9c3",
   "metadata": {},
   "outputs": [
    {
     "data": {
      "text/plain": [
       "(35,)"
      ]
     },
     "execution_count": 64,
     "metadata": {},
     "output_type": "execute_result"
    }
   ],
   "source": [
    "new_zcr = zcr.reshape(-1)\n",
    "new_zcr.shape"
   ]
  },
  {
   "cell_type": "code",
   "execution_count": null,
   "id": "602fadd5",
   "metadata": {},
   "outputs": [
    {
     "data": {
      "text/plain": [
       "np.int64(0)"
      ]
     },
     "execution_count": 59,
     "metadata": {},
     "output_type": "execute_result"
    }
   ],
   "source": [
    "# zcr_n_values_to_rem = np.abs(zcr.shape[1] - time)\n",
    "# zcr_n_values_to_rem.astype(int)"
   ]
  },
  {
   "cell_type": "code",
   "execution_count": null,
   "id": "0fdb4f9a",
   "metadata": {},
   "outputs": [
    {
     "data": {
      "text/plain": [
       "array([], dtype=float64)"
      ]
     },
     "execution_count": 60,
     "metadata": {},
     "output_type": "execute_result"
    }
   ],
   "source": [
    "# # get slice of those in range with time only\n",
    "# new_zcr = zcr.reshape(-1)[:-zcr_n_values_to_rem.astype(int)]\n",
    "# new_zcr"
   ]
  },
  {
   "cell_type": "code",
   "execution_count": 65,
   "id": "47d1cb13",
   "metadata": {},
   "outputs": [
    {
     "data": {
      "text/plain": [
       "array([[9.3418999e+00, 1.5313477e+01, 1.3804149e+01, ..., 1.0596875e+01,\n",
       "        9.3281775e+00, 1.1975436e+01],\n",
       "       [2.7116418e+00, 6.3942085e+01, 7.0263359e+01, ..., 5.0933604e+00,\n",
       "        7.9568477e+00, 3.7885796e+01],\n",
       "       [1.0996913e+03, 1.9044412e+03, 1.7637432e+03, ..., 3.0651685e+02,\n",
       "        9.2778308e+02, 1.0961296e+03],\n",
       "       ...,\n",
       "       [1.1292878e+00, 2.6480398e+00, 2.3072226e+00, ..., 1.5473083e+00,\n",
       "        6.4120537e-01, 3.7659831e-02],\n",
       "       [9.0728039e-01, 1.9571239e+00, 1.7471429e+00, ..., 1.3136760e+00,\n",
       "        8.2490325e-01, 6.0928982e-02],\n",
       "       [3.8142192e-01, 6.8643939e-01, 3.5092783e-01, ..., 5.8115226e-01,\n",
       "        3.3651710e-01, 2.4943130e-02]], shape=(90, 35), dtype=float32)"
      ]
     },
     "execution_count": 65,
     "metadata": {},
     "output_type": "execute_result"
    }
   ],
   "source": [
    "mel_spect = librosa.feature.melspectrogram(y=x_signals, sr=hertz, n_fft=samples_per_win_size, hop_length=samples_per_hop_size, n_mels=90)\n",
    "mel_spect"
   ]
  },
  {
   "cell_type": "code",
   "execution_count": 66,
   "id": "49029ddd",
   "metadata": {},
   "outputs": [
    {
     "data": {
      "text/plain": [
       "array([[-29.448627 , -27.302242 , -27.752884 , ..., -28.901203 ,\n",
       "        -29.455013 , -28.370068 ],\n",
       "       [-34.820656 , -21.095112 , -20.685692 , ..., -32.082935 ,\n",
       "        -30.14557  , -23.368217 ],\n",
       "       [ -8.7402725,  -6.3553047,  -6.6886253, ..., -14.288439 ,\n",
       "         -9.478516 ,  -8.754362 ],\n",
       "       ...,\n",
       "       [-38.624935 , -34.923737 , -35.522087 , ..., -37.257214 ,\n",
       "        -41.083008 , -53.394196 ],\n",
       "       [-39.575565 , -36.236797 , -36.7297   , ..., -37.968098 ,\n",
       "        -39.98895  , -51.30474  ],\n",
       "       [-43.338924 , -40.78696  , -43.7008   , ..., -41.510082 ,\n",
       "        -43.882908 , -55.18347  ]], shape=(90, 35), dtype=float32)"
      ]
     },
     "execution_count": 66,
     "metadata": {},
     "output_type": "execute_result"
    }
   ],
   "source": [
    "mel_spect_db = librosa.power_to_db(mel_spect, ref=np.max)\n",
    "mel_spect_db"
   ]
  },
  {
   "cell_type": "code",
   "execution_count": 68,
   "id": "2259a4c0",
   "metadata": {},
   "outputs": [
    {
     "data": {
      "text/plain": [
       "(35,)"
      ]
     },
     "execution_count": 68,
     "metadata": {},
     "output_type": "execute_result"
    }
   ],
   "source": [
    "mean_mel = np.mean(mel_spect_db, axis=0)\n",
    "mean_mel.shape"
   ]
  },
  {
   "cell_type": "code",
   "execution_count": 69,
   "id": "d0347625",
   "metadata": {},
   "outputs": [
    {
     "data": {
      "text/plain": [
       "(35,)"
      ]
     },
     "execution_count": 69,
     "metadata": {},
     "output_type": "execute_result"
    }
   ],
   "source": [
    "variance_mel = np.var(mel_spect_db, axis=0)\n",
    "variance_mel.shape"
   ]
  },
  {
   "cell_type": "code",
   "execution_count": 71,
   "id": "937b97a7",
   "metadata": {},
   "outputs": [
    {
     "data": {
      "text/plain": [
       "(1, 35)"
      ]
     },
     "execution_count": 71,
     "metadata": {},
     "output_type": "execute_result"
    }
   ],
   "source": [
    "spect_cent = librosa.feature.spectral_centroid(y=x_signals, sr=hertz, n_fft=samples_per_win_size, hop_length=samples_per_hop_size)\n",
    "spect_cent.shape"
   ]
  },
  {
   "cell_type": "code",
   "execution_count": 74,
   "id": "ff903cb2",
   "metadata": {},
   "outputs": [
    {
     "data": {
      "text/plain": [
       "(35,)"
      ]
     },
     "execution_count": 74,
     "metadata": {},
     "output_type": "execute_result"
    }
   ],
   "source": [
    "new_spect_cent = spect_cent.reshape(-1)\n",
    "new_spect_cent.shape"
   ]
  }
 ],
 "metadata": {
  "kernelspec": {
   "display_name": "tech-interview",
   "language": "python",
   "name": "python3"
  },
  "language_info": {
   "codemirror_mode": {
    "name": "ipython",
    "version": 3
   },
   "file_extension": ".py",
   "mimetype": "text/x-python",
   "name": "python",
   "nbconvert_exporter": "python",
   "pygments_lexer": "ipython3",
   "version": "3.11.8"
  }
 },
 "nbformat": 4,
 "nbformat_minor": 5
}
