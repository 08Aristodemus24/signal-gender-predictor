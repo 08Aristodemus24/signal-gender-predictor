{
 "cells": [
  {
   "cell_type": "markdown",
   "id": "c58c007a",
   "metadata": {},
   "source": [
    "# Finally run feature selection on the newly synthesized data points and return only the columns which have the most importance"
   ]
  },
  {
   "cell_type": "code",
   "execution_count": 1,
   "id": "12c5fc53",
   "metadata": {},
   "outputs": [],
   "source": [
    "import os\n",
    "import io\n",
    "import random\n",
    "import numpy as np\n",
    "import matplotlib.pyplot as plt\n",
    "import pyarrow as pa\n",
    "import pyarrow.parquet as pq\n",
    "import pyarrowfs_adlgen2 as pa_adl\n",
    "import json\n",
    "\n",
    "from dotenv import load_dotenv\n",
    "from pathlib import Path\n",
    "\n",
    "from sklearn.ensemble import RandomForestClassifier\n",
    "from sklearn.feature_selection import RFE\n",
    "\n",
    "from azure.identity import DefaultAzureCredential, ClientSecretCredential\n",
    "from azure.storage.filedatalake import DataLakeServiceClient, FileSystemClient"
   ]
  },
  {
   "cell_type": "markdown",
   "id": "175dcc2e",
   "metadata": {},
   "source": [
    "# local"
   ]
  },
  {
   "cell_type": "code",
   "execution_count": 2,
   "id": "9f1acd58",
   "metadata": {},
   "outputs": [],
   "source": [
    "DATA_DIR = \"../include/data\""
   ]
  },
  {
   "cell_type": "code",
   "execution_count": 3,
   "id": "8355fab4",
   "metadata": {},
   "outputs": [
    {
     "data": {
      "text/plain": [
       "'{DATA_DIR}/{FOLDER_NAME}/{SUB_FOLDER_NAME}'"
      ]
     },
     "execution_count": 3,
     "metadata": {},
     "output_type": "execute_result"
    }
   ],
   "source": [
    "# local\n",
    "SILVER_FOLDER_NAME = \"silver\"\n",
    "SUB_FOLDER_NAME = \"stage-04\"\n",
    "SILVER_DATA_DIR = os.path.join(\"{DATA_DIR}\", \"{FOLDER_NAME}\", \"{SUB_FOLDER_NAME}\").replace(\"\\\\\", \"/\")\n",
    "SILVER_DATA_DIR"
   ]
  },
  {
   "cell_type": "markdown",
   "id": "3252a740",
   "metadata": {},
   "source": [
    "# load credentials for cloud"
   ]
  },
  {
   "cell_type": "code",
   "execution_count": 4,
   "id": "63e6475f",
   "metadata": {},
   "outputs": [
    {
     "data": {
      "text/plain": [
       "True"
      ]
     },
     "execution_count": 4,
     "metadata": {},
     "output_type": "execute_result"
    }
   ],
   "source": [
    "# Retrieve credentials from environment variables\n",
    "# this is strictly used only in development\n",
    "# load env variables\n",
    "env_dir = Path('../').resolve()\n",
    "load_dotenv(os.path.join(env_dir, '.env'))"
   ]
  },
  {
   "cell_type": "code",
   "execution_count": 5,
   "id": "480d4824",
   "metadata": {},
   "outputs": [],
   "source": [
    "storage_account_name = os.environ.get(\"STORAGE_ACCOUNT_NAME\")\n",
    "credential = os.environ.get(\"STORAGE_ACCOUNT_KEY\")\n",
    "conn_str = os.environ.get(\"STORAGE_ACCOUNT_CONN_STR\")"
   ]
  },
  {
   "cell_type": "code",
   "execution_count": 6,
   "id": "f7692005",
   "metadata": {},
   "outputs": [
    {
     "data": {
      "text/plain": [
       "'{FOLDER_NAME}/{SUB_FOLDER_NAME}'"
      ]
     },
     "execution_count": 6,
     "metadata": {},
     "output_type": "execute_result"
    }
   ],
   "source": [
    "# cloud\n",
    "# URL = \"abfss://{FOLDER_NAME}@sgppipelinesa.dfs.core.windows.net\"\n",
    "URL = \"{FOLDER_NAME}\"\n",
    "SILVER_FOLDER_NAME = \"sgppipelinesa-silver\"\n",
    "SUB_FOLDER_NAME = \"stage-04\"\n",
    "SILVER_DATA_DIR = os.path.join(URL, \"{SUB_FOLDER_NAME}\").replace(\"\\\\\", \"/\")\n",
    "SILVER_DATA_DIR"
   ]
  },
  {
   "cell_type": "markdown",
   "id": "9f3aa75f",
   "metadata": {},
   "source": [
    "# this client is for saving .pkl, .json files to ADL2"
   ]
  },
  {
   "cell_type": "code",
   "execution_count": 7,
   "id": "be7eaef6",
   "metadata": {},
   "outputs": [],
   "source": [
    "# cloud\n",
    "# create client with generated sas token\n",
    "datalake_service_client = DataLakeServiceClient(\n",
    "    account_url=f\"https://{storage_account_name}.dfs.core.windows.net\", \n",
    "    credential=credential\n",
    ")\n",
    "\n",
    "# retrieves file system client/container client \n",
    "# to retrieve datalake client\n",
    "misc_container_client = datalake_service_client.get_file_system_client(f\"{storage_account_name}-miscellaneous\")"
   ]
  },
  {
   "cell_type": "markdown",
   "id": "1acc79e3",
   "metadata": {},
   "source": [
    "# this client is for saving pyarrow tables to ADL2 "
   ]
  },
  {
   "cell_type": "code",
   "execution_count": 8,
   "id": "eb5432c7",
   "metadata": {},
   "outputs": [],
   "source": [
    "handler = pa_adl.AccountHandler.from_account_name(storage_account_name, credential=credential)\n",
    "fs = pa.fs.PyFileSystem(handler)"
   ]
  },
  {
   "cell_type": "markdown",
   "id": "60302f58",
   "metadata": {},
   "source": [
    "# read the data"
   ]
  },
  {
   "cell_type": "code",
   "execution_count": null,
   "id": "a68e6bed",
   "metadata": {},
   "outputs": [
    {
     "data": {
      "text/plain": [
       "'sgppipelinesa-silver/stage-04/train_data_sc_sm.parquet'"
      ]
     },
     "execution_count": 14,
     "metadata": {},
     "output_type": "execute_result"
    }
   ],
   "source": [
    "# cloud\n",
    "train_data_sc_sm_table_path = os.path.join(\n",
    "    SILVER_DATA_DIR.format(\n",
    "        FOLDER_NAME=SILVER_FOLDER_NAME,\n",
    "        SUB_FOLDER_NAME=SUB_FOLDER_NAME\n",
    "    ),\n",
    "    \"train_data_sc_sm.parquet\"\n",
    ").replace(\"\\\\\", \"/\")\n",
    "train_data_sc_sm_table = pq.read_table(train_data_sc_sm_table_path, filesystem=fs)\n",
    "\n",
    "# # local\n",
    "# train_data_sc_sm_table_path = os.path.join(\n",
    "#     SILVER_DATA_DIR.format(\n",
    "#         DATA_DIR=DATA_DIR,\n",
    "#         FOLDER_NAME=SILVER_FOLDER_NAME,\n",
    "#         SUB_FOLDER_NAME=SUB_FOLDER_NAME\n",
    "#     ),\n",
    "#     \"train_data_sc_sm.parquet\"\n",
    "# ).replace(\"\\\\\", \"/\")\n",
    "# train_data_sc_sm_table = pq.read_table(train_data_sc_sm_table_path)\n",
    "train_data_sc_sm_table_path"
   ]
  },
  {
   "cell_type": "code",
   "execution_count": 10,
   "id": "93127af1",
   "metadata": {},
   "outputs": [
    {
     "data": {
      "text/plain": [
       "'sgppipelinesa-silver/stage-04/val_data_sc_sm.parquet'"
      ]
     },
     "execution_count": 10,
     "metadata": {},
     "output_type": "execute_result"
    }
   ],
   "source": [
    "# cloud\n",
    "val_data_sc_sm_table_path = os.path.join(\n",
    "    SILVER_DATA_DIR.format(\n",
    "        FOLDER_NAME=SILVER_FOLDER_NAME,\n",
    "        SUB_FOLDER_NAME=SUB_FOLDER_NAME\n",
    "    ),\n",
    "    \"val_data_sc_sm.parquet\"\n",
    ").replace(\"\\\\\", \"/\")\n",
    "val_data_sc_sm_table = pq.read_table(val_data_sc_sm_table_path, filesystem=fs)\n",
    "\n",
    "# # local\n",
    "# val_data_sc_sm_table_path = os.path.join(\n",
    "#     SILVER_DATA_DIR.format(\n",
    "#         DATA_DIR=DATA_DIR,\n",
    "#         FOLDER_NAME=SILVER_FOLDER_NAME,\n",
    "#         SUB_FOLDER_NAME=SUB_FOLDER_NAME\n",
    "#     ),\n",
    "#     \"val_data_sc_sm.parquet\"\n",
    "# ).replace(\"\\\\\", \"/\")\n",
    "# val_data_sc_sm_table = pq.read_table(val_data_sc_sm_table_path)\n",
    "val_data_sc_sm_table_path"
   ]
  },
  {
   "cell_type": "code",
   "execution_count": 11,
   "id": "cbd9a663",
   "metadata": {},
   "outputs": [
    {
     "data": {
      "text/plain": [
       "'sgppipelinesa-silver/stage-04/test_data_sc_sm.parquet'"
      ]
     },
     "execution_count": 11,
     "metadata": {},
     "output_type": "execute_result"
    }
   ],
   "source": [
    "# cloud\n",
    "test_data_sc_sm_table_path = os.path.join(\n",
    "    SILVER_DATA_DIR.format(\n",
    "        FOLDER_NAME=SILVER_FOLDER_NAME,\n",
    "        SUB_FOLDER_NAME=SUB_FOLDER_NAME\n",
    "    ),\n",
    "    \"test_data_sc_sm.parquet\"\n",
    ").replace(\"\\\\\", \"/\")\n",
    "test_data_sc_sm_table = pq.read_table(test_data_sc_sm_table_path, filesystem=fs)\n",
    "\n",
    "# # local\n",
    "# test_data_sc_sm_table_path = os.path.join(\n",
    "#     SILVER_DATA_DIR.format(\n",
    "#         DATA_DIR=DATA_DIR,\n",
    "#         FOLDER_NAME=SILVER_FOLDER_NAME,\n",
    "#         SUB_FOLDER_NAME=SUB_FOLDER_NAME\n",
    "#     ),\n",
    "#     \"test_data_sc_sm.parquet\"\n",
    "# ).replace(\"\\\\\", \"/\")\n",
    "# test_data_sc_sm_table = pq.read_table(test_data_sc_sm_table_path)\n",
    "test_data_sc_sm_table_path"
   ]
  },
  {
   "cell_type": "code",
   "execution_count": 12,
   "id": "6c09e5a2",
   "metadata": {},
   "outputs": [
    {
     "data": {
      "text/plain": [
       "pyarrow.Table\n",
       "freq_kurt_imp: double\n",
       "freq_skew_imp: double\n",
       "freq_entropy_imp: double\n",
       "freq_mean_imp: double\n",
       "freq_median_imp: double\n",
       "freq_mode_imp: double\n",
       "freq_min_imp: double\n",
       "freq_max_imp: double\n",
       "freq_var_imp: double\n",
       "freq_stddev_imp: double\n",
       "freq_first_quart_imp: double\n",
       "freq_third_quart_imp: double\n",
       "freq_range_imp: double\n",
       "freq_inter_quart_range_imp: double\n",
       "zcr_imp: double\n",
       "poly_feat_1_imp: double\n",
       "poly_feat_2_imp: double\n",
       "spec_cent_imp: double\n",
       "spec_bw_imp: double\n",
       "spec_flat_imp: double\n",
       "spec_roll_imp: double\n",
       "mel_spec_mean_imp: double\n",
       "mel_spec_median_imp: double\n",
       "mel_spec_mode_imp: double\n",
       "mel_spec_mode_cnt_imp: double\n",
       "mel_spec_min_imp: double\n",
       "mel_spec_max_imp: double\n",
       "mel_spec_range_imp: double\n",
       "mel_spec_var_imp: double\n",
       "mel_spec_std_imp: double\n",
       "mel_spec_first_quart_imp: double\n",
       "mel_spec_third_quart_imp: double\n",
       "mel_spec_inter_quart_range_imp: double\n",
       "mel_spec_entropy_imp: double\n",
       "mel_spec_kurt_imp: double\n",
       "mel_spec_skew_imp: double\n",
       "mel_spec_db_mean_imp: double\n",
       "mel_spec_db_median_imp: double\n",
       "mel_spec_db_mode_imp: double\n",
       "mel_spec_db_mode_cnt_imp: double\n",
       "mel_spec_db_min_imp: double\n",
       "mel_spec_db_max_imp: double\n",
       "mel_spec_db_range_imp: double\n",
       "mel_spec_db_var_imp: double\n",
       "mel_spec_db_std_imp: double\n",
       "mel_spec_db_first_quart_imp: double\n",
       "mel_spec_db_third_quart_imp: double\n",
       "mel_spec_db_inter_quart_range_imp: double\n",
       "mel_spec_db_entropy_imp: double\n",
       "mel_spec_db_kurt_imp: double\n",
       "mel_spec_db_skew_imp: double\n",
       "mfcc_mean_imp: double\n",
       "mfcc_median_imp: double\n",
       "mfcc_mode_imp: double\n",
       "mfcc_mode_cnt_imp: double\n",
       "mfcc_min_imp: double\n",
       "mfcc_max_imp: double\n",
       "mfcc_range_imp: double\n",
       "mfcc_var_imp: double\n",
       "mfcc_std_imp: double\n",
       "mfcc_first_quart_imp: double\n",
       "mfcc_third_quart_imp: double\n",
       "mfcc_inter_quart_range_imp: double\n",
       "mfcc_kurt_imp: double\n",
       "mfcc_skew_imp: double\n",
       "spec_cont_mean_imp: double\n",
       "spec_cont_median_imp: double\n",
       "spec_cont_mode_imp: double\n",
       "spec_cont_mode_cnt_imp: double\n",
       "spec_cont_min_imp: double\n",
       "spec_cont_max_imp: double\n",
       "spec_cont_range_imp: double\n",
       "spec_cont_var_imp: double\n",
       "spec_cont_std_imp: double\n",
       "spec_cont_first_quart_imp: double\n",
       "spec_cont_third_quart_imp: double\n",
       "spec_cont_inter_quart_range_imp: double\n",
       "spec_cont_entropy_imp: double\n",
       "spec_cont_kurt_imp: double\n",
       "spec_cont_skew_imp: double\n",
       "label: double\n",
       "----\n",
       "freq_kurt_imp: [[1.842081919673035,1.0488832084989308,1.6029181509337667,1.9248505084004621,1.7869459674722104,...,1.9310120373241157,1.9339303343411507,2.161220830141956,1.1861752788951057,2.6070499217060887]]\n",
       "freq_skew_imp: [[0.5347609254714725,1.6561277904316776,0.5081431473421725,0.5233411533248005,0.5136143006583399,...,1.8512621548202397,1.894617476351732,1.536884806495639,1.6981319210880295,2.0430590198080107]]\n",
       "freq_entropy_imp: [[0.8490770973083247,-0.8515814331520176,0.7684515597468752,0.7259520841064891,0.6818484808532439,...,0.19899156599070936,-0.2744892351261026,0.8978604921132829,-0.6420992039080147,0.4442927369077446]]\n",
       "freq_mean_imp: [[-0.12855642117131189,1.7272340896708367,-0.11775416965552195,0.045938117943253164,0.043629677083184853,...,0.8215296617850135,1.026239844302863,0.49004964041537336,1.4488977135020833,0.6844486953813669]]\n",
       "freq_median_imp: [[-0.06759934609358202,-0.015701920084986883,-0.06759934609358202,-0.048727554817729245,-0.04636858090824765,...,-0.028897459913067983,0.06880356339031635,-0.10292364222237324,0.31992879141296715,-0.08391258752822198]]\n",
       "freq_mode_imp: [[0.14501536847891897,0.36032300638432063,-1.5372488152411827,0.09511574424333231,1.0432086047194786,...,0.058119481120460226,0.10179965114308126,-0.23063793227995408,0.013966770450247787,0.043932280294720655]]\n",
       "freq_min_imp: [[-0.5440675662243287,0.49122275948750305,-0.5440675662243287,-0.5440675662243287,-0.5440675662243287,...,0.4896897530822042,0.5443513966731013,0.2173256150741063,0.6117113668707864,0.4896897530822042]]\n",
       "freq_max_imp: [[3.0212388632053697,3.0212388632053697,3.0212388632053697,3.0212388632053697,3.0212388632053697,...,1.757247659130511,1.757247659130511,1.757247659130511,1.757247659130511,1.757247659130511]]\n",
       "freq_var_imp: [[0.14290282289971623,0.855503659813855,0.19093346389567076,0.16961183308730837,0.19736699053311946,...,-0.17568457292380685,-0.06924195770007802,-0.2676001637392811,0.03988958783789781,-0.23398621424358704]]\n",
       "freq_stddev_imp: [[0.5824490021105181,1.3082292462171916,0.641044247304271,0.6152835752895286,0.6487415804605519,...,0.12184159185132709,0.28746937742273676,-0.04660571974945198,0.44880428635744435,0.01856097179440902]]\n",
       "..."
      ]
     },
     "execution_count": 12,
     "metadata": {},
     "output_type": "execute_result"
    }
   ],
   "source": [
    "test_data_sc_sm_table"
   ]
  },
  {
   "cell_type": "code",
   "execution_count": 15,
   "id": "248a83a2",
   "metadata": {},
   "outputs": [
    {
     "data": {
      "text/plain": [
       "['freq_kurt_imp',\n",
       " 'freq_skew_imp',\n",
       " 'freq_entropy_imp',\n",
       " 'freq_mean_imp',\n",
       " 'freq_median_imp',\n",
       " 'freq_mode_imp',\n",
       " 'freq_min_imp',\n",
       " 'freq_max_imp',\n",
       " 'freq_var_imp',\n",
       " 'freq_stddev_imp',\n",
       " 'freq_first_quart_imp',\n",
       " 'freq_third_quart_imp',\n",
       " 'freq_range_imp',\n",
       " 'freq_inter_quart_range_imp',\n",
       " 'zcr_imp',\n",
       " 'poly_feat_1_imp',\n",
       " 'poly_feat_2_imp',\n",
       " 'spec_cent_imp',\n",
       " 'spec_bw_imp',\n",
       " 'spec_flat_imp',\n",
       " 'spec_roll_imp',\n",
       " 'mel_spec_mean_imp',\n",
       " 'mel_spec_median_imp',\n",
       " 'mel_spec_mode_imp',\n",
       " 'mel_spec_mode_cnt_imp',\n",
       " 'mel_spec_min_imp',\n",
       " 'mel_spec_max_imp',\n",
       " 'mel_spec_range_imp',\n",
       " 'mel_spec_var_imp',\n",
       " 'mel_spec_std_imp',\n",
       " 'mel_spec_first_quart_imp',\n",
       " 'mel_spec_third_quart_imp',\n",
       " 'mel_spec_inter_quart_range_imp',\n",
       " 'mel_spec_entropy_imp',\n",
       " 'mel_spec_kurt_imp',\n",
       " 'mel_spec_skew_imp',\n",
       " 'mel_spec_db_mean_imp',\n",
       " 'mel_spec_db_median_imp',\n",
       " 'mel_spec_db_mode_imp',\n",
       " 'mel_spec_db_mode_cnt_imp',\n",
       " 'mel_spec_db_min_imp',\n",
       " 'mel_spec_db_max_imp',\n",
       " 'mel_spec_db_range_imp',\n",
       " 'mel_spec_db_var_imp',\n",
       " 'mel_spec_db_std_imp',\n",
       " 'mel_spec_db_first_quart_imp',\n",
       " 'mel_spec_db_third_quart_imp',\n",
       " 'mel_spec_db_inter_quart_range_imp',\n",
       " 'mel_spec_db_entropy_imp',\n",
       " 'mel_spec_db_kurt_imp',\n",
       " 'mel_spec_db_skew_imp',\n",
       " 'mfcc_mean_imp',\n",
       " 'mfcc_median_imp',\n",
       " 'mfcc_mode_imp',\n",
       " 'mfcc_mode_cnt_imp',\n",
       " 'mfcc_min_imp',\n",
       " 'mfcc_max_imp',\n",
       " 'mfcc_range_imp',\n",
       " 'mfcc_var_imp',\n",
       " 'mfcc_std_imp',\n",
       " 'mfcc_first_quart_imp',\n",
       " 'mfcc_third_quart_imp',\n",
       " 'mfcc_inter_quart_range_imp',\n",
       " 'mfcc_kurt_imp',\n",
       " 'mfcc_skew_imp',\n",
       " 'spec_cont_mean_imp',\n",
       " 'spec_cont_median_imp',\n",
       " 'spec_cont_mode_imp',\n",
       " 'spec_cont_mode_cnt_imp',\n",
       " 'spec_cont_min_imp',\n",
       " 'spec_cont_max_imp',\n",
       " 'spec_cont_range_imp',\n",
       " 'spec_cont_var_imp',\n",
       " 'spec_cont_std_imp',\n",
       " 'spec_cont_first_quart_imp',\n",
       " 'spec_cont_third_quart_imp',\n",
       " 'spec_cont_inter_quart_range_imp',\n",
       " 'spec_cont_entropy_imp',\n",
       " 'spec_cont_kurt_imp',\n",
       " 'spec_cont_skew_imp']"
      ]
     },
     "execution_count": 15,
     "metadata": {},
     "output_type": "execute_result"
    }
   ],
   "source": [
    "feat_cols = list(filter(lambda feat_col: not \"label\" in feat_col, train_data_sc_sm_table.column_names))\n",
    "feat_cols"
   ]
  },
  {
   "cell_type": "code",
   "execution_count": 16,
   "id": "8b5d160c",
   "metadata": {},
   "outputs": [
    {
     "data": {
      "text/plain": [
       "array([1., 1., 1., 1., 1., 1., 1., 1., 1., 1., 1., 1., 1., 1., 1., 1., 1.,\n",
       "       1., 1., 1., 1., 1., 1., 1., 1., 1., 1., 1., 1., 1., 1., 1., 1., 1.,\n",
       "       1., 0., 0., 0., 0., 0., 0., 0., 0., 0., 0., 0., 0., 0., 0., 0., 0.,\n",
       "       0., 0., 0., 0., 0., 0., 0., 0., 0., 0., 0., 0., 0., 0., 0., 0., 0.,\n",
       "       0., 0., 0., 0., 0., 0., 1., 1., 1., 1., 1., 1., 1., 1., 1., 1., 1.,\n",
       "       1., 1., 1., 1., 1., 1., 1., 1., 1., 1., 1., 1., 1., 1., 1., 1., 1.,\n",
       "       1., 1., 1., 1., 1., 1., 1., 0., 0., 0., 0., 0., 0., 0., 0., 0., 0.,\n",
       "       0., 0., 0., 0., 0., 0., 0., 0., 0., 0., 0., 0., 0., 0., 0., 0., 0.,\n",
       "       0., 0., 0., 0., 0., 0., 1., 1., 1., 1., 1., 1., 1., 1., 1., 1., 1.,\n",
       "       1., 1., 1., 1., 1., 1., 1., 1., 1., 1., 1., 1., 1., 1., 1., 1., 1.,\n",
       "       1., 1., 1., 1., 1., 1., 1., 1., 0., 0., 0., 0., 0., 0., 0., 0., 0.,\n",
       "       0., 0., 0., 0., 0., 0., 0., 0., 0., 0., 0., 0., 0., 0., 0., 0., 0.,\n",
       "       0., 0., 0., 0., 0., 0., 0., 0., 0., 0., 0., 0., 1., 1., 1., 1., 1.,\n",
       "       1., 1., 1., 1., 1., 1., 1., 1., 1., 1., 1., 1., 1., 1., 1., 1., 1.,\n",
       "       1., 1., 1., 1., 1., 1., 1., 1., 1., 1., 1., 1., 1., 1., 1., 1., 1.,\n",
       "       1., 0., 0., 0., 0., 0., 0., 0., 0., 0., 0., 0., 0., 0., 0., 0., 0.,\n",
       "       0., 0., 0., 0., 0., 0., 0., 0., 0., 0., 0., 0., 0., 0., 0., 0., 0.,\n",
       "       0., 0., 0.])"
      ]
     },
     "execution_count": 16,
     "metadata": {},
     "output_type": "execute_result"
    }
   ],
   "source": [
    "train_output_sm = train_data_sc_sm_table.select([\"label\"]).to_pandas().to_numpy().ravel()\n",
    "train_input_sc_sm = train_data_sc_sm_table.select(feat_cols).to_pandas().to_numpy()\n",
    "train_output_sm"
   ]
  },
  {
   "cell_type": "code",
   "execution_count": 17,
   "id": "f291d6bf",
   "metadata": {},
   "outputs": [
    {
     "data": {
      "text/plain": [
       "array([0., 0., 0., 0., 0., 0., 0., 0., 0., 0., 0., 0., 0., 0., 0., 0., 0.,\n",
       "       0., 0., 0., 0., 0., 0., 1., 1., 1., 1., 1., 1., 1., 1., 1., 1., 1.,\n",
       "       1., 1., 1., 1., 1., 1., 1., 1., 1., 1., 1., 1., 1., 1., 1., 1., 0.,\n",
       "       0., 0., 0.])"
      ]
     },
     "execution_count": 17,
     "metadata": {},
     "output_type": "execute_result"
    }
   ],
   "source": [
    "val_output_sm = val_data_sc_sm_table.select([\"label\"]).to_pandas().to_numpy().ravel()\n",
    "val_input_sc_sm = val_data_sc_sm_table.select(feat_cols).to_pandas().to_numpy()\n",
    "val_output_sm"
   ]
  },
  {
   "cell_type": "code",
   "execution_count": 18,
   "id": "65d46ae8",
   "metadata": {},
   "outputs": [
    {
     "data": {
      "text/plain": [
       "array([1., 1., 1., 1., 1., 1., 1., 1., 1., 1., 1., 1., 1., 1., 1., 1., 1.,\n",
       "       1., 1., 1., 1., 1., 1., 1., 1., 1., 1., 1., 1., 1., 0., 0., 0., 0.,\n",
       "       0., 0., 0., 0., 0., 0., 0., 0., 0., 0., 0., 0., 0., 0., 0., 0., 0.,\n",
       "       0., 0., 0., 0., 0., 0., 0., 0., 0., 0., 0., 0., 1., 1., 1., 1., 1.,\n",
       "       1., 1., 1., 1., 1., 1., 1., 1., 1., 1., 1., 1., 1., 1., 1., 1., 1.,\n",
       "       1., 1., 1., 1., 1., 1., 1., 1., 1., 1., 1., 0., 0., 0., 0., 0., 0.,\n",
       "       0., 0., 0., 0., 0., 0., 0., 0., 0., 0., 0., 0., 0., 0., 0., 0., 0.,\n",
       "       0., 0., 0., 0., 0., 0., 0.])"
      ]
     },
     "execution_count": 18,
     "metadata": {},
     "output_type": "execute_result"
    }
   ],
   "source": [
    "test_output_sm = test_data_sc_sm_table.select([\"label\"]).to_pandas().to_numpy().ravel()\n",
    "test_input_sc_sm = test_data_sc_sm_table.select(feat_cols).to_pandas().to_numpy()\n",
    "test_output_sm"
   ]
  },
  {
   "cell_type": "code",
   "execution_count": 41,
   "id": "08c5931f",
   "metadata": {},
   "outputs": [],
   "source": [
    "n_features = 60"
   ]
  },
  {
   "cell_type": "code",
   "execution_count": 42,
   "id": "ec74a448",
   "metadata": {},
   "outputs": [],
   "source": [
    "# select best features first by means of backward\n",
    "# feature selection based on support vector classifiers\n",
    "model = RandomForestClassifier(verbose=0)\n",
    "selector = RFE(\n",
    "    estimator=model, \n",
    "    n_features_to_select=n_features, \n",
    "    verbose=1,\n",
    "    # we eliminate 5 features\n",
    "    step=5\n",
    ")"
   ]
  },
  {
   "cell_type": "code",
   "execution_count": null,
   "id": "5009c250",
   "metadata": {},
   "outputs": [],
   "source": [
    "# train feature selector on data\n",
    "selector.fit(train_input_sc_sm, train_output_sm)"
   ]
  },
  {
   "cell_type": "code",
   "execution_count": null,
   "id": "49557100",
   "metadata": {},
   "outputs": [],
   "source": [
    "# obtain feature mask boolean values, and use it as index\n",
    "# to select only the columns that have been selected by BFS\n",
    "# this is a list of boolean values\n",
    "feat_mask = selector.get_support().tolist()"
   ]
  },
  {
   "cell_type": "code",
   "execution_count": null,
   "id": "8503196f",
   "metadata": {},
   "outputs": [],
   "source": [
    "selected_feats = [item for item, included in zip(feat_cols, feat_mask) if included]\n",
    "len(selected_feats)"
   ]
  },
  {
   "cell_type": "code",
   "execution_count": null,
   "id": "e0b2bf95",
   "metadata": {},
   "outputs": [],
   "source": [
    "selected_feats_json = json.dumps(selected_feats)\n",
    "selected_feats_json_body = selected_feats_json.encode('utf8')\n",
    "selected_feats_json_body"
   ]
  },
  {
   "cell_type": "markdown",
   "id": "13e27e73",
   "metadata": {},
   "source": [
    "# dump the selected features to .json in azure data lake"
   ]
  },
  {
   "cell_type": "code",
   "execution_count": null,
   "id": "9643bbb5",
   "metadata": {},
   "outputs": [],
   "source": [
    "# cloud\n",
    "json_file_client = misc_container_client.get_file_client(\"selected_feats.json\")  \n",
    "json_file_client.upload_data(selected_feats_json_body, overwrite=True)"
   ]
  },
  {
   "cell_type": "code",
   "execution_count": 20,
   "id": "8a06ce3a",
   "metadata": {},
   "outputs": [
    {
     "data": {
      "text/plain": [
       "'{DATA_DIR}/{FOLDER_NAME}'"
      ]
     },
     "execution_count": 20,
     "metadata": {},
     "output_type": "execute_result"
    }
   ],
   "source": [
    "# local\n",
    "MISCELLANEOUS_FOLDER_NAME = \"miscellaneous\"\n",
    "MISCELLANEOUS_DATA_DIR = os.path.join(\"{DATA_DIR}\", \"{FOLDER_NAME}\").replace(\"\\\\\", \"/\")\n",
    "MISCELLANEOUS_DATA_DIR"
   ]
  },
  {
   "cell_type": "code",
   "execution_count": null,
   "id": "8039cbf0",
   "metadata": {},
   "outputs": [],
   "source": [
    "# # local\n",
    "# with open(\n",
    "#     file=os.path.join(\n",
    "#         MISCELLANEOUS_DATA_DIR.format(\n",
    "#             DATA_DIR=DATA_DIR,\n",
    "#             FOLDER_NAME=MISCELLANEOUS_FOLDER_NAME,\n",
    "#         ),\n",
    "#         \"selected_feats.json\"\n",
    "#     ).replace(\"\\\\\", \"/\"), \n",
    "#     mode=\"w+\"\n",
    "# ) as f:\n",
    "#     f.write(selected_feats_json)"
   ]
  },
  {
   "cell_type": "markdown",
   "id": "a6055f0c",
   "metadata": {},
   "source": [
    "# read the dumped .json containing the selected features in ADL2 miscellaneous layer"
   ]
  },
  {
   "cell_type": "code",
   "execution_count": null,
   "id": "60f5d678",
   "metadata": {},
   "outputs": [],
   "source": [
    "# cloud\n",
    "json_file_client = misc_container_client.get_file_client(\"selected_feats.json\")  \n",
    "download = json_file_client.download_file()\n",
    "downloaded_bytes = download.readall()\n",
    "selected_feats = json.loads(downloaded_bytes.decode('utf-8'))"
   ]
  },
  {
   "cell_type": "code",
   "execution_count": null,
   "id": "0bb5ee21",
   "metadata": {},
   "outputs": [],
   "source": [
    "# # local\n",
    "# with open(\n",
    "#     file=os.path.join(\n",
    "#         MISCELLANEOUS_DATA_DIR.format(\n",
    "#             DATA_DIR=DATA_DIR, \n",
    "#             FOLDER_NAME=MISCELLANEOUS_FOLDER_NAME\n",
    "#         ),\n",
    "#         \"selected_feats.json\"\n",
    "#     ).replace(\"\\\\\", \"/\"), \n",
    "#     mode=\"r\"\n",
    "# ) as f:\n",
    "#     selected_feats = json.load(f)"
   ]
  },
  {
   "cell_type": "code",
   "execution_count": 22,
   "id": "97926d8a",
   "metadata": {},
   "outputs": [
    {
     "data": {
      "text/plain": [
       "['freq_kurt_imp',\n",
       " 'freq_skew_imp',\n",
       " 'freq_entropy_imp',\n",
       " 'freq_mean_imp',\n",
       " 'freq_median_imp',\n",
       " 'freq_mode_imp',\n",
       " 'freq_min_imp',\n",
       " 'freq_max_imp',\n",
       " 'freq_var_imp',\n",
       " 'freq_stddev_imp',\n",
       " 'freq_first_quart_imp',\n",
       " 'freq_third_quart_imp',\n",
       " 'freq_range_imp',\n",
       " 'freq_inter_quart_range_imp',\n",
       " 'zcr_imp',\n",
       " 'poly_feat_1_imp',\n",
       " 'poly_feat_2_imp',\n",
       " 'spec_cent_imp',\n",
       " 'spec_bw_imp',\n",
       " 'spec_flat_imp',\n",
       " 'spec_roll_imp',\n",
       " 'mel_spec_mean_imp',\n",
       " 'mel_spec_median_imp',\n",
       " 'mel_spec_mode_imp',\n",
       " 'mel_spec_min_imp',\n",
       " 'mel_spec_max_imp',\n",
       " 'mel_spec_range_imp',\n",
       " 'mel_spec_var_imp',\n",
       " 'mel_spec_std_imp',\n",
       " 'mel_spec_first_quart_imp',\n",
       " 'mel_spec_entropy_imp',\n",
       " 'mel_spec_db_mean_imp',\n",
       " 'mel_spec_db_median_imp',\n",
       " 'mel_spec_db_mode_imp',\n",
       " 'mel_spec_db_min_imp',\n",
       " 'mel_spec_db_max_imp',\n",
       " 'mel_spec_db_range_imp',\n",
       " 'mel_spec_db_first_quart_imp',\n",
       " 'mel_spec_db_third_quart_imp',\n",
       " 'mel_spec_db_entropy_imp',\n",
       " 'mel_spec_db_kurt_imp',\n",
       " 'mel_spec_db_skew_imp',\n",
       " 'mfcc_mean_imp',\n",
       " 'mfcc_median_imp',\n",
       " 'mfcc_mode_imp',\n",
       " 'mfcc_min_imp',\n",
       " 'mfcc_first_quart_imp',\n",
       " 'mfcc_third_quart_imp',\n",
       " 'mfcc_inter_quart_range_imp',\n",
       " 'mfcc_kurt_imp',\n",
       " 'mfcc_skew_imp',\n",
       " 'spec_cont_mean_imp',\n",
       " 'spec_cont_median_imp',\n",
       " 'spec_cont_max_imp',\n",
       " 'spec_cont_var_imp',\n",
       " 'spec_cont_std_imp',\n",
       " 'spec_cont_first_quart_imp',\n",
       " 'spec_cont_third_quart_imp',\n",
       " 'spec_cont_inter_quart_range_imp',\n",
       " 'spec_cont_entropy_imp']"
      ]
     },
     "execution_count": 22,
     "metadata": {},
     "output_type": "execute_result"
    }
   ],
   "source": [
    "selected_feats"
   ]
  },
  {
   "cell_type": "markdown",
   "id": "ede00a30",
   "metadata": {},
   "source": [
    "# we use the selected features here to reduce the tables of each data split"
   ]
  },
  {
   "cell_type": "code",
   "execution_count": 23,
   "id": "ae6e4259",
   "metadata": {},
   "outputs": [],
   "source": [
    "cols = selected_feats + [\"label\"]"
   ]
  },
  {
   "cell_type": "code",
   "execution_count": 24,
   "id": "fd851b03",
   "metadata": {},
   "outputs": [
    {
     "data": {
      "text/plain": [
       "(292, 61)"
      ]
     },
     "execution_count": 24,
     "metadata": {},
     "output_type": "execute_result"
    }
   ],
   "source": [
    "train_data_sc_sm_red_table = train_data_sc_sm_table.select(cols)\n",
    "train_data_sc_sm_red_table.shape"
   ]
  },
  {
   "cell_type": "code",
   "execution_count": 25,
   "id": "8f4d2307",
   "metadata": {},
   "outputs": [
    {
     "data": {
      "text/plain": [
       "(54, 61)"
      ]
     },
     "execution_count": 25,
     "metadata": {},
     "output_type": "execute_result"
    }
   ],
   "source": [
    "val_data_sc_sm_red_table = val_data_sc_sm_table.select(cols)\n",
    "val_data_sc_sm_red_table.shape"
   ]
  },
  {
   "cell_type": "code",
   "execution_count": 26,
   "id": "51d3c166",
   "metadata": {},
   "outputs": [
    {
     "data": {
      "text/plain": [
       "(126, 61)"
      ]
     },
     "execution_count": 26,
     "metadata": {},
     "output_type": "execute_result"
    }
   ],
   "source": [
    "test_data_sc_sm_red_table = test_data_sc_sm_table.select(cols)\n",
    "test_data_sc_sm_red_table.shape"
   ]
  },
  {
   "cell_type": "markdown",
   "id": "0f584352",
   "metadata": {},
   "source": [
    "# save the final scaled, augmented, and reduced features to the gold layer"
   ]
  },
  {
   "cell_type": "code",
   "execution_count": 27,
   "id": "338aec53",
   "metadata": {},
   "outputs": [
    {
     "data": {
      "text/plain": [
       "'../include/data/gold'"
      ]
     },
     "execution_count": 27,
     "metadata": {},
     "output_type": "execute_result"
    }
   ],
   "source": [
    "# # local\n",
    "# GOLD_FOLDER_NAME = \"gold\"\n",
    "# GOLD_DATA_DIR = os.path.join(\"{DATA_DIR}\", \"{FOLDER_NAME}\").replace(\"\\\\\", \"/\")\n",
    "# SAVE_DIR = GOLD_DATA_DIR.format(\n",
    "#     DATA_DIR=DATA_DIR,\n",
    "#     FOLDER_NAME=GOLD_FOLDER_NAME,\n",
    "# )\n",
    "# SAVE_DIR"
   ]
  },
  {
   "cell_type": "code",
   "execution_count": null,
   "id": "70ccdc3c",
   "metadata": {},
   "outputs": [
    {
     "data": {
      "text/plain": [
       "'../include/data/gold/train_data_sc_sm_red.parquet'"
      ]
     },
     "execution_count": 36,
     "metadata": {},
     "output_type": "execute_result"
    }
   ],
   "source": [
    "# # local\n",
    "# train_data_sc_sm_red_table_path = os.path.join(\n",
    "#     SAVE_DIR,\n",
    "#     \"train_data_sc_sm_red.parquet\"\n",
    "# ).replace(\"\\\\\", \"/\")\n",
    "# train_data_sc_sm_red_table_path"
   ]
  },
  {
   "cell_type": "code",
   "execution_count": null,
   "id": "899bc2c2",
   "metadata": {},
   "outputs": [
    {
     "data": {
      "text/plain": [
       "'../include/data/gold/val_data_sc_sm_red.parquet'"
      ]
     },
     "execution_count": 35,
     "metadata": {},
     "output_type": "execute_result"
    }
   ],
   "source": [
    "# # local\n",
    "# val_data_sc_sm_red_table_path = os.path.join(\n",
    "#     SAVE_DIR,\n",
    "#     \"val_data_sc_sm_red.parquet\"\n",
    "# ).replace(\"\\\\\", \"/\")\n",
    "# val_data_sc_sm_red_table_path"
   ]
  },
  {
   "cell_type": "code",
   "execution_count": null,
   "id": "201665ee",
   "metadata": {},
   "outputs": [
    {
     "data": {
      "text/plain": [
       "'../include/data/gold/test_data_sc_sm_red.parquet'"
      ]
     },
     "execution_count": 37,
     "metadata": {},
     "output_type": "execute_result"
    }
   ],
   "source": [
    "# # local\n",
    "# test_data_sc_sm_red_table_path = os.path.join(\n",
    "#     SAVE_DIR,\n",
    "#     \"test_data_sc_sm_red.parquet\"\n",
    "# ).replace(\"\\\\\", \"/\")\n",
    "# test_data_sc_sm_red_table_path"
   ]
  },
  {
   "cell_type": "code",
   "execution_count": null,
   "id": "546e79f2",
   "metadata": {},
   "outputs": [],
   "source": [
    "# # local\n",
    "# pq.write_table(train_data_sc_sm_red_table, train_data_sc_sm_red_table_path)\n",
    "# pq.write_table(val_data_sc_sm_red_table, val_data_sc_sm_red_table_path)\n",
    "# pq.write_table(test_data_sc_sm_red_table, test_data_sc_sm_red_table_path)"
   ]
  },
  {
   "cell_type": "code",
   "execution_count": 28,
   "id": "de9d5c57",
   "metadata": {},
   "outputs": [
    {
     "data": {
      "text/plain": [
       "'sgppipelinesa-gold'"
      ]
     },
     "execution_count": 28,
     "metadata": {},
     "output_type": "execute_result"
    }
   ],
   "source": [
    "# cloud\n",
    "GOLD_FOLDER_NAME = \"sgppipelinesa-gold\"\n",
    "GOLD_DATA_DIR = os.path.join(\"{FOLDER_NAME}\").replace(\"\\\\\", \"/\")\n",
    "SAVE_DIR = GOLD_DATA_DIR.format(\n",
    "    FOLDER_NAME=GOLD_FOLDER_NAME,\n",
    ")\n",
    "SAVE_DIR"
   ]
  },
  {
   "cell_type": "code",
   "execution_count": null,
   "id": "0f4ea97d",
   "metadata": {},
   "outputs": [
    {
     "data": {
      "text/plain": [
       "'sgppipelinesa-gold/train_data_sc_sm_red.parquet'"
      ]
     },
     "execution_count": 29,
     "metadata": {},
     "output_type": "execute_result"
    }
   ],
   "source": [
    "# cloud\n",
    "train_data_sc_sm_red_table_path = os.path.join(\n",
    "    SAVE_DIR,\n",
    "    \"train_data_sc_sm_red.parquet\"\n",
    ").replace(\"\\\\\", \"/\")\n",
    "train_data_sc_sm_red_table_path"
   ]
  },
  {
   "cell_type": "code",
   "execution_count": 30,
   "id": "6897c4d8",
   "metadata": {},
   "outputs": [
    {
     "data": {
      "text/plain": [
       "'sgppipelinesa-gold/val_data_sc_sm_red.parquet'"
      ]
     },
     "execution_count": 30,
     "metadata": {},
     "output_type": "execute_result"
    }
   ],
   "source": [
    "# cloud\n",
    "val_data_sc_sm_red_table_path = os.path.join(\n",
    "    SAVE_DIR,\n",
    "    \"val_data_sc_sm_red.parquet\"\n",
    ").replace(\"\\\\\", \"/\")\n",
    "val_data_sc_sm_red_table_path"
   ]
  },
  {
   "cell_type": "code",
   "execution_count": 31,
   "id": "57024382",
   "metadata": {},
   "outputs": [
    {
     "data": {
      "text/plain": [
       "'sgppipelinesa-gold/test_data_sc_sm_red.parquet'"
      ]
     },
     "execution_count": 31,
     "metadata": {},
     "output_type": "execute_result"
    }
   ],
   "source": [
    "# cloud\n",
    "test_data_sc_sm_red_table_path = os.path.join(\n",
    "    SAVE_DIR,\n",
    "    \"test_data_sc_sm_red.parquet\"\n",
    ").replace(\"\\\\\", \"/\")\n",
    "test_data_sc_sm_red_table_path"
   ]
  },
  {
   "cell_type": "code",
   "execution_count": null,
   "id": "be9fafb9",
   "metadata": {},
   "outputs": [],
   "source": [
    "# cloud\n",
    "pq.write_table(train_data_sc_sm_red_table, train_data_sc_sm_red_table_path, filesystem=fs)\n",
    "pq.write_table(val_data_sc_sm_red_table, val_data_sc_sm_red_table_path, filesystem=fs)\n",
    "pq.write_table(test_data_sc_sm_red_table, test_data_sc_sm_red_table_path, filesystem=fs)"
   ]
  }
 ],
 "metadata": {
  "kernelspec": {
   "display_name": "tech-interview",
   "language": "python",
   "name": "python3"
  },
  "language_info": {
   "codemirror_mode": {
    "name": "ipython",
    "version": 3
   },
   "file_extension": ".py",
   "mimetype": "text/x-python",
   "name": "python",
   "nbconvert_exporter": "python",
   "pygments_lexer": "ipython3",
   "version": "3.11.8"
  }
 },
 "nbformat": 4,
 "nbformat_minor": 5
}
