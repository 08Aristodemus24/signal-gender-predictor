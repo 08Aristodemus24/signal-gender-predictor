{
  "nbformat": 4,
  "nbformat_minor": 0,
  "metadata": {
    "colab": {
      "provenance": []
    },
    "kernelspec": {
      "name": "python3",
      "display_name": "Python 3"
    },
    "language_info": {
      "name": "python"
    }
  },
  "cells": [
    {
      "cell_type": "code",
      "source": [
        "!pip install pyarrowfs-adlgen2\n",
        "!pip install azure-identity\n",
        "!pip install azure-storage-file-datalake"
      ],
      "metadata": {
        "colab": {
          "base_uri": "https://localhost:8080/",
          "height": 1000
        },
        "id": "3ndGmBa2PLVS",
        "outputId": "57c2ca9a-62ae-4ec1-93cb-3318e9290deb"
      },
      "execution_count": 7,
      "outputs": [
        {
          "output_type": "stream",
          "name": "stdout",
          "text": [
            "Requirement already satisfied: pyarrowfs-adlgen2 in /usr/local/lib/python3.12/dist-packages (0.2.5)\n",
            "Requirement already satisfied: pyarrow>=1.0.0 in /usr/local/lib/python3.12/dist-packages (from pyarrowfs-adlgen2) (18.1.0)\n",
            "Requirement already satisfied: azure-storage-file-datalake in /usr/local/lib/python3.12/dist-packages (from pyarrowfs-adlgen2) (12.21.0)\n",
            "Requirement already satisfied: azure-core>=1.30.0 in /usr/local/lib/python3.12/dist-packages (from azure-storage-file-datalake->pyarrowfs-adlgen2) (1.35.0)\n",
            "Requirement already satisfied: azure-storage-blob>=12.26.0 in /usr/local/lib/python3.12/dist-packages (from azure-storage-file-datalake->pyarrowfs-adlgen2) (12.26.0)\n",
            "Requirement already satisfied: typing-extensions>=4.6.0 in /usr/local/lib/python3.12/dist-packages (from azure-storage-file-datalake->pyarrowfs-adlgen2) (4.15.0)\n",
            "Requirement already satisfied: isodate>=0.6.1 in /usr/local/lib/python3.12/dist-packages (from azure-storage-file-datalake->pyarrowfs-adlgen2) (0.7.2)\n",
            "Requirement already satisfied: requests>=2.21.0 in /usr/local/lib/python3.12/dist-packages (from azure-core>=1.30.0->azure-storage-file-datalake->pyarrowfs-adlgen2) (2.32.4)\n",
            "Requirement already satisfied: six>=1.11.0 in /usr/local/lib/python3.12/dist-packages (from azure-core>=1.30.0->azure-storage-file-datalake->pyarrowfs-adlgen2) (1.17.0)\n",
            "Requirement already satisfied: cryptography>=2.1.4 in /usr/local/lib/python3.12/dist-packages (from azure-storage-blob>=12.26.0->azure-storage-file-datalake->pyarrowfs-adlgen2) (43.0.3)\n",
            "Requirement already satisfied: cffi>=1.12 in /usr/local/lib/python3.12/dist-packages (from cryptography>=2.1.4->azure-storage-blob>=12.26.0->azure-storage-file-datalake->pyarrowfs-adlgen2) (1.17.1)\n",
            "Requirement already satisfied: charset_normalizer<4,>=2 in /usr/local/lib/python3.12/dist-packages (from requests>=2.21.0->azure-core>=1.30.0->azure-storage-file-datalake->pyarrowfs-adlgen2) (3.4.3)\n",
            "Requirement already satisfied: idna<4,>=2.5 in /usr/local/lib/python3.12/dist-packages (from requests>=2.21.0->azure-core>=1.30.0->azure-storage-file-datalake->pyarrowfs-adlgen2) (3.10)\n",
            "Requirement already satisfied: urllib3<3,>=1.21.1 in /usr/local/lib/python3.12/dist-packages (from requests>=2.21.0->azure-core>=1.30.0->azure-storage-file-datalake->pyarrowfs-adlgen2) (2.5.0)\n",
            "Requirement already satisfied: certifi>=2017.4.17 in /usr/local/lib/python3.12/dist-packages (from requests>=2.21.0->azure-core>=1.30.0->azure-storage-file-datalake->pyarrowfs-adlgen2) (2025.8.3)\n",
            "Requirement already satisfied: pycparser in /usr/local/lib/python3.12/dist-packages (from cffi>=1.12->cryptography>=2.1.4->azure-storage-blob>=12.26.0->azure-storage-file-datalake->pyarrowfs-adlgen2) (2.22)\n",
            "Collecting azure-identity\n",
            "  Downloading azure_identity-1.24.0-py3-none-any.whl.metadata (86 kB)\n",
            "\u001b[2K     \u001b[90m━━━━━━━━━━━━━━━━━━━━━━━━━━━━━━━━━━━━━━━━\u001b[0m \u001b[32m86.0/86.0 kB\u001b[0m \u001b[31m2.4 MB/s\u001b[0m eta \u001b[36m0:00:00\u001b[0m\n",
            "\u001b[?25hRequirement already satisfied: azure-core>=1.31.0 in /usr/local/lib/python3.12/dist-packages (from azure-identity) (1.35.0)\n",
            "Requirement already satisfied: cryptography>=2.5 in /usr/local/lib/python3.12/dist-packages (from azure-identity) (43.0.3)\n",
            "Collecting msal>=1.30.0 (from azure-identity)\n",
            "  Downloading msal-1.33.0-py3-none-any.whl.metadata (11 kB)\n",
            "Collecting msal-extensions>=1.2.0 (from azure-identity)\n",
            "  Downloading msal_extensions-1.3.1-py3-none-any.whl.metadata (7.8 kB)\n",
            "Requirement already satisfied: typing-extensions>=4.0.0 in /usr/local/lib/python3.12/dist-packages (from azure-identity) (4.15.0)\n",
            "Requirement already satisfied: requests>=2.21.0 in /usr/local/lib/python3.12/dist-packages (from azure-core>=1.31.0->azure-identity) (2.32.4)\n",
            "Requirement already satisfied: six>=1.11.0 in /usr/local/lib/python3.12/dist-packages (from azure-core>=1.31.0->azure-identity) (1.17.0)\n",
            "Requirement already satisfied: cffi>=1.12 in /usr/local/lib/python3.12/dist-packages (from cryptography>=2.5->azure-identity) (1.17.1)\n",
            "Requirement already satisfied: PyJWT<3,>=1.0.0 in /usr/local/lib/python3.12/dist-packages (from PyJWT[crypto]<3,>=1.0.0->msal>=1.30.0->azure-identity) (2.10.1)\n",
            "Requirement already satisfied: pycparser in /usr/local/lib/python3.12/dist-packages (from cffi>=1.12->cryptography>=2.5->azure-identity) (2.22)\n",
            "Requirement already satisfied: charset_normalizer<4,>=2 in /usr/local/lib/python3.12/dist-packages (from requests>=2.21.0->azure-core>=1.31.0->azure-identity) (3.4.3)\n",
            "Requirement already satisfied: idna<4,>=2.5 in /usr/local/lib/python3.12/dist-packages (from requests>=2.21.0->azure-core>=1.31.0->azure-identity) (3.10)\n",
            "Requirement already satisfied: urllib3<3,>=1.21.1 in /usr/local/lib/python3.12/dist-packages (from requests>=2.21.0->azure-core>=1.31.0->azure-identity) (2.5.0)\n",
            "Requirement already satisfied: certifi>=2017.4.17 in /usr/local/lib/python3.12/dist-packages (from requests>=2.21.0->azure-core>=1.31.0->azure-identity) (2025.8.3)\n",
            "Downloading azure_identity-1.24.0-py3-none-any.whl (187 kB)\n",
            "\u001b[2K   \u001b[90m━━━━━━━━━━━━━━━━━━━━━━━━━━━━━━━━━━━━━━━━\u001b[0m \u001b[32m187.9/187.9 kB\u001b[0m \u001b[31m6.5 MB/s\u001b[0m eta \u001b[36m0:00:00\u001b[0m\n",
            "\u001b[?25hDownloading msal-1.33.0-py3-none-any.whl (116 kB)\n",
            "\u001b[2K   \u001b[90m━━━━━━━━━━━━━━━━━━━━━━━━━━━━━━━━━━━━━━━━\u001b[0m \u001b[32m116.9/116.9 kB\u001b[0m \u001b[31m7.4 MB/s\u001b[0m eta \u001b[36m0:00:00\u001b[0m\n",
            "\u001b[?25hDownloading msal_extensions-1.3.1-py3-none-any.whl (20 kB)\n",
            "Installing collected packages: msal, msal-extensions, azure-identity\n",
            "Successfully installed azure-identity-1.24.0 msal-1.33.0 msal-extensions-1.3.1\n"
          ]
        },
        {
          "output_type": "display_data",
          "data": {
            "application/vnd.colab-display-data+json": {
              "pip_warning": {
                "packages": [
                  "azure"
                ]
              },
              "id": "447f1a7c3bdd4565a90d453d8cafdab5"
            }
          },
          "metadata": {}
        },
        {
          "output_type": "stream",
          "name": "stdout",
          "text": [
            "Requirement already satisfied: azure-storage-file-datalake in /usr/local/lib/python3.12/dist-packages (12.21.0)\n",
            "Requirement already satisfied: azure-core>=1.30.0 in /usr/local/lib/python3.12/dist-packages (from azure-storage-file-datalake) (1.35.0)\n",
            "Requirement already satisfied: azure-storage-blob>=12.26.0 in /usr/local/lib/python3.12/dist-packages (from azure-storage-file-datalake) (12.26.0)\n",
            "Requirement already satisfied: typing-extensions>=4.6.0 in /usr/local/lib/python3.12/dist-packages (from azure-storage-file-datalake) (4.15.0)\n",
            "Requirement already satisfied: isodate>=0.6.1 in /usr/local/lib/python3.12/dist-packages (from azure-storage-file-datalake) (0.7.2)\n",
            "Requirement already satisfied: requests>=2.21.0 in /usr/local/lib/python3.12/dist-packages (from azure-core>=1.30.0->azure-storage-file-datalake) (2.32.4)\n",
            "Requirement already satisfied: six>=1.11.0 in /usr/local/lib/python3.12/dist-packages (from azure-core>=1.30.0->azure-storage-file-datalake) (1.17.0)\n",
            "Requirement already satisfied: cryptography>=2.1.4 in /usr/local/lib/python3.12/dist-packages (from azure-storage-blob>=12.26.0->azure-storage-file-datalake) (43.0.3)\n",
            "Requirement already satisfied: cffi>=1.12 in /usr/local/lib/python3.12/dist-packages (from cryptography>=2.1.4->azure-storage-blob>=12.26.0->azure-storage-file-datalake) (1.17.1)\n",
            "Requirement already satisfied: charset_normalizer<4,>=2 in /usr/local/lib/python3.12/dist-packages (from requests>=2.21.0->azure-core>=1.30.0->azure-storage-file-datalake) (3.4.3)\n",
            "Requirement already satisfied: idna<4,>=2.5 in /usr/local/lib/python3.12/dist-packages (from requests>=2.21.0->azure-core>=1.30.0->azure-storage-file-datalake) (3.10)\n",
            "Requirement already satisfied: urllib3<3,>=1.21.1 in /usr/local/lib/python3.12/dist-packages (from requests>=2.21.0->azure-core>=1.30.0->azure-storage-file-datalake) (2.5.0)\n",
            "Requirement already satisfied: certifi>=2017.4.17 in /usr/local/lib/python3.12/dist-packages (from requests>=2.21.0->azure-core>=1.30.0->azure-storage-file-datalake) (2025.8.3)\n",
            "Requirement already satisfied: pycparser in /usr/local/lib/python3.12/dist-packages (from cffi>=1.12->cryptography>=2.1.4->azure-storage-blob>=12.26.0->azure-storage-file-datalake) (2.22)\n"
          ]
        }
      ]
    },
    {
      "cell_type": "code",
      "source": [
        "!pwd"
      ],
      "metadata": {
        "colab": {
          "base_uri": "https://localhost:8080/"
        },
        "id": "xP7ZEkVnR59K",
        "outputId": "6b4d930e-29cc-403e-ca9f-bc329d1ebc37"
      },
      "execution_count": 7,
      "outputs": [
        {
          "output_type": "stream",
          "name": "stdout",
          "text": [
            "/content\n"
          ]
        }
      ]
    },
    {
      "cell_type": "code",
      "execution_count": 33,
      "metadata": {
        "id": "sJ-0jLRzOzL-"
      },
      "outputs": [],
      "source": [
        "# import tensorflow_decision_forests as tfdf\n",
        "import ydf\n",
        "import numpy as np\n",
        "import pandas as pd\n",
        "import tensorflow as tf\n",
        "import tf_keras\n",
        "import os\n",
        "\n",
        "import pyarrow as pa\n",
        "import pyarrow.compute as pc\n",
        "import pyarrow.parquet as pq\n",
        "import pyarrowfs_adlgen2 as pa_adl\n",
        "\n",
        "from dotenv import load_dotenv\n",
        "from pathlib import Path\n",
        "\n",
        "from azure.identity import DefaultAzureCredential, ClientSecretCredential\n",
        "from azure.storage.filedatalake import DataLakeServiceClient\n"
      ]
    },
    {
      "cell_type": "code",
      "source": [
        "# Retrieve credentials from environment variables\n",
        "# this is strictly used only in development\n",
        "# load env variables\n",
        "env_dir = Path('./').resolve()\n",
        "load_dotenv(os.path.join(env_dir, '.env'))"
      ],
      "metadata": {
        "colab": {
          "base_uri": "https://localhost:8080/"
        },
        "id": "xzxDbBY0RPJ5",
        "outputId": "424e476b-3b66-42ac-f907-e0d8ca581eb1"
      },
      "execution_count": 9,
      "outputs": [
        {
          "output_type": "execute_result",
          "data": {
            "text/plain": [
              "True"
            ]
          },
          "metadata": {},
          "execution_count": 9
        }
      ]
    },
    {
      "cell_type": "code",
      "source": [
        "storage_account_name = os.environ.get(\"STORAGE_ACCOUNT_NAME\")\n",
        "credential = os.environ.get(\"STORAGE_ACCOUNT_KEY\")\n",
        "conn_str = os.environ.get(\"STORAGE_ACCOUNT_CONN_STR\")"
      ],
      "metadata": {
        "id": "w7QQW8_mSMOF"
      },
      "execution_count": 12,
      "outputs": []
    },
    {
      "cell_type": "code",
      "source": [
        "# cloud\n",
        "# URL = \"abfss://{FOLDER_NAME}@sgppipelinesa.dfs.core.windows.net\"\n",
        "URL = \"{FOLDER_NAME}\"\n",
        "GOLD_FOLDER_NAME = \"sgppipelinesa-gold\"\n",
        "GOLD_DATA_DIR = os.path.join(\"{FOLDER_NAME}\").replace(\"\\\\\", \"/\")\n",
        "GOLD_DATA_DIR"
      ],
      "metadata": {
        "colab": {
          "base_uri": "https://localhost:8080/",
          "height": 36
        },
        "id": "KJo6y4F1Shzj",
        "outputId": "7b7485d0-d067-496c-b4d7-b73b596242f8"
      },
      "execution_count": 16,
      "outputs": [
        {
          "output_type": "execute_result",
          "data": {
            "text/plain": [
              "'{FOLDER_NAME}'"
            ],
            "application/vnd.google.colaboratory.intrinsic+json": {
              "type": "string"
            }
          },
          "metadata": {},
          "execution_count": 16
        }
      ]
    },
    {
      "cell_type": "code",
      "source": [
        "handler = pa_adl.AccountHandler.from_account_name(storage_account_name, credential=credential)\n",
        "fs = pa.fs.PyFileSystem(handler)"
      ],
      "metadata": {
        "id": "s91XEuK4SVqi"
      },
      "execution_count": 13,
      "outputs": []
    },
    {
      "cell_type": "code",
      "source": [
        "# cloud\n",
        "train_data_sc_sm_red_table_path = os.path.join(\n",
        "    GOLD_DATA_DIR.format(\n",
        "        FOLDER_NAME=GOLD_FOLDER_NAME\n",
        "    ),\n",
        "    \"train_data_sc_sm_red.parquet\"\n",
        ").replace(\"\\\\\", \"/\")\n",
        "train_data_sc_sm_red_table = pq.read_table(train_data_sc_sm_red_table_path, filesystem=fs)"
      ],
      "metadata": {
        "id": "gs58wXIXSZ9L"
      },
      "execution_count": 48,
      "outputs": []
    },
    {
      "cell_type": "code",
      "source": [
        "# cloud\n",
        "val_data_sc_sm_red_table_path = os.path.join(\n",
        "    GOLD_DATA_DIR.format(\n",
        "        FOLDER_NAME=GOLD_FOLDER_NAME\n",
        "    ),\n",
        "    \"val_data_sc_sm_red.parquet\"\n",
        ").replace(\"\\\\\", \"/\")\n",
        "val_data_sc_sm_red_table = pq.read_table(val_data_sc_sm_red_table_path, filesystem=fs)"
      ],
      "metadata": {
        "id": "8ACZ45XhS-2N"
      },
      "execution_count": 49,
      "outputs": []
    },
    {
      "cell_type": "code",
      "source": [
        "# cloud\n",
        "test_data_sc_sm_red_table_path = os.path.join(\n",
        "    GOLD_DATA_DIR.format(\n",
        "        FOLDER_NAME=GOLD_FOLDER_NAME\n",
        "    ),\n",
        "    \"test_data_sc_sm_red.parquet\"\n",
        ").replace(\"\\\\\", \"/\")\n",
        "test_data_sc_sm_red_table = pq.read_table(test_data_sc_sm_red_table_path, filesystem=fs)"
      ],
      "metadata": {
        "id": "WrmoCkz1S_Wp"
      },
      "execution_count": 50,
      "outputs": []
    },
    {
      "cell_type": "code",
      "source": [
        "# returns the pyarrow table as a dictionary e.g.\n",
        "# {\n",
        "#     'f1': [...],\n",
        "#     'f2': [...],\n",
        "#     ...\n",
        "#     'fn': [...],\n",
        "#     'label': [...]\n",
        "# }\n",
        "train_data_sc_sm_red_dict = {\n",
        "    key: np.array(item).astype(int)\n",
        "    if key == \"label\"\n",
        "    else np.array(item)\n",
        "    for key, item in train_data_sc_sm_red_table.to_pydict().items()\n",
        "  }\n",
        "train_data_sc_sm_red_dict.get(\"label\")[:10]"
      ],
      "metadata": {
        "colab": {
          "base_uri": "https://localhost:8080/"
        },
        "id": "vu73mpvxTCgp",
        "outputId": "7d7c0d2b-3282-4e4f-e88f-ce20a1bb81ac"
      },
      "execution_count": 52,
      "outputs": [
        {
          "output_type": "execute_result",
          "data": {
            "text/plain": [
              "array([0, 0, 0, 0, 0, 0, 0, 0, 0, 0])"
            ]
          },
          "metadata": {},
          "execution_count": 52
        }
      ]
    },
    {
      "cell_type": "code",
      "source": [
        "# returns the pyarrow table as a dictionary e.g.\n",
        "# {\n",
        "#     'f1': [...],\n",
        "#     'f2': [...],\n",
        "#     ...\n",
        "#     'fn': [...],\n",
        "#     'label': [...]\n",
        "# }\n",
        "val_data_sc_sm_red_dict = {\n",
        "    key: np.array(item).astype(int)\n",
        "    if key == \"label\"\n",
        "    else np.array(item)\n",
        "    for key, item in val_data_sc_sm_red_table.to_pydict().items()\n",
        "  }\n",
        "val_data_sc_sm_red_dict.get(\"label\")[:10]"
      ],
      "metadata": {
        "colab": {
          "base_uri": "https://localhost:8080/"
        },
        "id": "fGMQZzlyVbpq",
        "outputId": "cbdf0508-0835-4ae2-db3b-92dff6cc6c56"
      },
      "execution_count": 53,
      "outputs": [
        {
          "output_type": "execute_result",
          "data": {
            "text/plain": [
              "array([0, 0, 0, 0, 0, 0, 0, 0, 0, 0])"
            ]
          },
          "metadata": {},
          "execution_count": 53
        }
      ]
    },
    {
      "cell_type": "code",
      "source": [
        "# returns the pyarrow table as a dictionary e.g.\n",
        "# {\n",
        "#     'f1': [...],\n",
        "#     'f2': [...],\n",
        "#     ...\n",
        "#     'fn': [...],\n",
        "#     'label': [...]\n",
        "# }\n",
        "test_data_sc_sm_red_dict = {\n",
        "    key: np.array(item).astype(int)\n",
        "    if key == \"label\"\n",
        "    else np.array(item)\n",
        "    for key, item in test_data_sc_sm_red_table.to_pydict().items()\n",
        "  }\n",
        "test_data_sc_sm_red_dict.get(\"label\")[:10]"
      ],
      "metadata": {
        "colab": {
          "base_uri": "https://localhost:8080/"
        },
        "id": "HrZQYtDJVcGr",
        "outputId": "c52ef0f7-fa94-412c-c9f8-c531eb9d3672"
      },
      "execution_count": 54,
      "outputs": [
        {
          "output_type": "execute_result",
          "data": {
            "text/plain": [
              "array([0, 0, 0, 0, 0, 0, 0, 0, 0, 0])"
            ]
          },
          "metadata": {},
          "execution_count": 54
        }
      ]
    },
    {
      "cell_type": "code",
      "source": [
        "len(train_data_sc_sm_red_dict.get(\"label\"))"
      ],
      "metadata": {
        "colab": {
          "base_uri": "https://localhost:8080/"
        },
        "id": "ih92b7Q6bLSd",
        "outputId": "c2dd8d43-c5c0-4f33-c723-cb12cbc08e09"
      },
      "execution_count": 55,
      "outputs": [
        {
          "output_type": "execute_result",
          "data": {
            "text/plain": [
              "367776"
            ]
          },
          "metadata": {},
          "execution_count": 55
        }
      ]
    },
    {
      "cell_type": "code",
      "source": [
        "model = ydf.GradientBoostedTreesLearner(\n",
        "    label=\"label\",\n",
        "    include_all_columns=True,\n",
        "    task=ydf.Task.CLASSIFICATION,\n",
        "\n",
        ")"
      ],
      "metadata": {
        "id": "X-Tvr9QNVrFo"
      },
      "execution_count": 56,
      "outputs": []
    },
    {
      "cell_type": "code",
      "source": [
        "model.train(train_data_sc_sm_red_dict, val_data_sc_sm_red_dict)"
      ],
      "metadata": {
        "colab": {
          "base_uri": "https://localhost:8080/"
        },
        "id": "za7HORxWWx_W",
        "outputId": "81d9b8c2-aa87-48c6-fe3a-2074e32200c5"
      },
      "execution_count": null,
      "outputs": [
        {
          "metadata": {
            "tags": null
          },
          "name": "stdout",
          "output_type": "stream",
          "text": [
            "Train model on 367776 training examples and 80458 validation examples\n"
          ]
        }
      ]
    }
  ]
}