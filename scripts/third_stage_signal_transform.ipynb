{
 "cells": [
  {
   "cell_type": "code",
   "execution_count": 1,
   "id": "fbf8d669",
   "metadata": {},
   "outputs": [],
   "source": [
    "import os\n",
    "import io\n",
    "import numpy as np\n",
    "import matplotlib.pyplot as plt\n",
    "import duckdb\n",
    "import pyarrow as pa\n",
    "import pyarrow.parquet as pq\n",
    "import pyarrowfs_adlgen2 as pa_adl\n",
    "\n",
    "from dotenv import load_dotenv\n",
    "from pathlib import Path\n",
    "\n",
    "from azure.identity import DefaultAzureCredential, ClientSecretCredential\n",
    "from azure.storage.filedatalake import DataLakeServiceClient\n",
    "from azure.keyvault.secrets import SecretClient\n",
    "from azure.core.exceptions import ResourceNotFoundError\n",
    "\n",
    "from utilities.visualizers import view_signal_feature\n",
    "from utilities.feature_extractors import extract_spectogam_stats\n",
    "\n",
    "%load_ext autoreload\n",
    "%autoreload 2"
   ]
  },
  {
   "cell_type": "markdown",
   "id": "5951b901",
   "metadata": {},
   "source": [
    "# local"
   ]
  },
  {
   "cell_type": "code",
   "execution_count": 2,
   "id": "6729b7a2",
   "metadata": {},
   "outputs": [],
   "source": [
    "# DATA_DIR = \"../include/data\""
   ]
  },
  {
   "cell_type": "code",
   "execution_count": 3,
   "id": "280f4af3",
   "metadata": {},
   "outputs": [],
   "source": [
    "# # local\n",
    "# SILVER_FOLDER_NAME = \"silver\"\n",
    "# SUB_FOLDER_NAME = \"stage-02\"\n",
    "# SILVER_DATA_DIR = os.path.join(\"{DATA_DIR}\", \"{FOLDER_NAME}\", \"{SUB_FOLDER_NAME}\").replace(\"\\\\\", \"/\")\n",
    "# SILVER_DATA_DIR"
   ]
  },
  {
   "cell_type": "code",
   "execution_count": 4,
   "id": "a491b61d",
   "metadata": {},
   "outputs": [],
   "source": [
    "# subjects_features_paths = [\n",
    "#     os.path.join(\n",
    "#         SILVER_DATA_DIR.format(\n",
    "#             DATA_DIR=DATA_DIR, \n",
    "#             FOLDER_NAME=SILVER_FOLDER_NAME, \n",
    "#             SUB_FOLDER_NAME=SUB_FOLDER_NAME\n",
    "#         ),\n",
    "#         file\n",
    "#     ).replace(\"\\\\\", \"/\")\n",
    "#     for file in\n",
    "#     os.listdir(SILVER_DATA_DIR.format(\n",
    "#         DATA_DIR=DATA_DIR, \n",
    "#         FOLDER_NAME=SILVER_FOLDER_NAME, \n",
    "#         SUB_FOLDER_NAME=SUB_FOLDER_NAME\n",
    "#     ))\n",
    "# ]"
   ]
  },
  {
   "cell_type": "code",
   "execution_count": 5,
   "id": "777f4056",
   "metadata": {},
   "outputs": [],
   "source": [
    "# subjects_features_paths"
   ]
  },
  {
   "cell_type": "code",
   "execution_count": 6,
   "id": "fca8e000",
   "metadata": {},
   "outputs": [],
   "source": [
    "# subjects_features_paths[0].replace(\"_signals.parquet\", \"\", 1)"
   ]
  },
  {
   "cell_type": "code",
   "execution_count": 7,
   "id": "e4e0b6a2",
   "metadata": {},
   "outputs": [],
   "source": [
    "# for file in subjects_features_paths:\n",
    "#     os.rename(file, file.replace(\"_signals.parquet\", \"\", 1))"
   ]
  },
  {
   "cell_type": "markdown",
   "id": "d72da47e",
   "metadata": {},
   "source": [
    "# load credentials for cloud"
   ]
  },
  {
   "cell_type": "code",
   "execution_count": 8,
   "id": "a607d1ac",
   "metadata": {},
   "outputs": [
    {
     "data": {
      "text/plain": [
       "True"
      ]
     },
     "execution_count": 8,
     "metadata": {},
     "output_type": "execute_result"
    }
   ],
   "source": [
    "# Retrieve credentials from environment variables\n",
    "# this is strictly used only in development\n",
    "# load env variables\n",
    "env_dir = Path('../').resolve()\n",
    "load_dotenv(os.path.join(env_dir, '.env'))"
   ]
  },
  {
   "cell_type": "code",
   "execution_count": 9,
   "id": "2e8bea29",
   "metadata": {},
   "outputs": [],
   "source": [
    "storage_account_name = os.environ.get(\"STORAGE_ACCOUNT_NAME\")\n",
    "credential = os.environ.get(\"STORAGE_ACCOUNT_KEY\")\n",
    "conn_str = os.environ.get(\"STORAGE_ACCOUNT_CONN_STR\")"
   ]
  },
  {
   "cell_type": "code",
   "execution_count": 10,
   "id": "25edc3b9",
   "metadata": {},
   "outputs": [
    {
     "data": {
      "text/plain": [
       "'abfss://{FOLDER_NAME}@sgppipelinesa.dfs.core.windows.net/{SUB_FOLDER_NAME}'"
      ]
     },
     "execution_count": 10,
     "metadata": {},
     "output_type": "execute_result"
    }
   ],
   "source": [
    "# cloud\n",
    "URL = \"abfss://{FOLDER_NAME}@sgppipelinesa.dfs.core.windows.net\"\n",
    "SILVER_FOLDER_NAME = \"sgppipelinesa-silver\"\n",
    "SUB_FOLDER_NAME = \"stage-02\"\n",
    "SILVER_DATA_DIR = os.path.join(URL, \"{SUB_FOLDER_NAME}\").replace(\"\\\\\", \"/\")\n",
    "SILVER_DATA_DIR"
   ]
  },
  {
   "cell_type": "code",
   "execution_count": 16,
   "id": "38df7f57",
   "metadata": {},
   "outputs": [
    {
     "data": {
      "text/plain": [
       "['abfss://sgppipelinesa-silver@sgppipelinesa.dfs.core.windows.net/stage-02/1028-20100710-hne_signals.parquet',\n",
       " 'abfss://sgppipelinesa-silver@sgppipelinesa.dfs.core.windows.net/stage-02/1337ad-20170321-ajg_signals.parquet',\n",
       " 'abfss://sgppipelinesa-silver@sgppipelinesa.dfs.core.windows.net/stage-02/1337ad-20170321-tkg_signals.parquet',\n",
       " 'abfss://sgppipelinesa-silver@sgppipelinesa.dfs.core.windows.net/stage-02/1snoke-20120412-hge_signals.parquet',\n",
       " 'abfss://sgppipelinesa-silver@sgppipelinesa.dfs.core.windows.net/stage-02/23yipikaye-20100807-ujm_signals.parquet',\n",
       " 'abfss://sgppipelinesa-silver@sgppipelinesa.dfs.core.windows.net/stage-02/Aaron-20080318-kdl_signals.parquet',\n",
       " 'abfss://sgppipelinesa-silver@sgppipelinesa.dfs.core.windows.net/stage-02/Anniepoo-20140308-bft_signals.parquet',\n",
       " 'abfss://sgppipelinesa-silver@sgppipelinesa.dfs.core.windows.net/stage-02/Anniepoo-20140308-cqj_signals.parquet',\n",
       " 'abfss://sgppipelinesa-silver@sgppipelinesa.dfs.core.windows.net/stage-02/Anniepoo-20140308-fcp_signals.parquet',\n",
       " 'abfss://sgppipelinesa-silver@sgppipelinesa.dfs.core.windows.net/stage-02/Anniepoo-20140308-hns_signals.parquet',\n",
       " 'abfss://sgppipelinesa-silver@sgppipelinesa.dfs.core.windows.net/stage-02/Anniepoo-20140308-nky_signals.parquet',\n",
       " 'abfss://sgppipelinesa-silver@sgppipelinesa.dfs.core.windows.net/stage-02/Coren-20141121-pxp_signals.parquet']"
      ]
     },
     "execution_count": 16,
     "metadata": {},
     "output_type": "execute_result"
    }
   ],
   "source": [
    "# cloud\n",
    "# create client with generated sas token\n",
    "datalake_service_client = DataLakeServiceClient(\n",
    "    account_url=f\"https://{storage_account_name}.dfs.core.windows.net\", \n",
    "    credential=credential\n",
    ")\n",
    "\n",
    "# retrieves file system client/container client \n",
    "# to retrieve datalake client\n",
    "silver_container_client = datalake_service_client.get_file_system_client(f\"{storage_account_name}-silver\")\n",
    "\n",
    "# we only get the directories in the first level of \n",
    "# the container, if it has a \"/\" then it means it is not\n",
    "# an immediate folder in the container. This only really\n",
    "# gets the subject folders \n",
    "subjects_features_paths = [\n",
    "    os.path.join(\n",
    "        URL.format(\n",
    "            FOLDER_NAME=SILVER_FOLDER_NAME\n",
    "        ), \n",
    "        path.name\n",
    "    ).replace(\"\\\\\", \"/\")\n",
    "    for path in silver_container_client.get_paths(path=SUB_FOLDER_NAME)\n",
    "]\n",
    "subjects_features_paths"
   ]
  },
  {
   "cell_type": "markdown",
   "id": "daacff1e",
   "metadata": {},
   "source": [
    "# load all the single parquet files into one giant table (we won't need pyarrow for this one anymore as we won't need to convert between tables, numpy arrays, and pyarrow dataframes). This will now be easier to load as these only contain the relevant row of features from each subjects signals after windowing. We will also be loading the labels of different data splits so we can use it as basis to what subjects in this giant dataframe will be part of the train, val, and test set  "
   ]
  },
  {
   "cell_type": "code",
   "execution_count": 17,
   "id": "630ec8bc",
   "metadata": {},
   "outputs": [],
   "source": [
    "conn = duckdb.connect()"
   ]
  },
  {
   "cell_type": "code",
   "execution_count": 18,
   "id": "6ca457d3",
   "metadata": {},
   "outputs": [
    {
     "data": {
      "text/plain": [
       "┌─────────┐\n",
       "│ Success │\n",
       "│ boolean │\n",
       "├─────────┤\n",
       "│ true    │\n",
       "└─────────┘"
      ]
     },
     "execution_count": 18,
     "metadata": {},
     "output_type": "execute_result"
    }
   ],
   "source": [
    "# for cloud only\n",
    "# installing dependencies and creating secrets object\n",
    "conn.sql(f\"\"\"INSTALL azure\"\"\")\n",
    "conn.sql(f\"\"\"LOAD azure\"\"\")\n",
    "conn.sql(f\"\"\"\n",
    "    CREATE OR REPLACE SECRET az_sgp (\n",
    "        TYPE azure,\n",
    "        CONNECTION_STRING '{conn_str}'\n",
    "    );\n",
    "\"\"\")"
   ]
  },
  {
   "cell_type": "code",
   "execution_count": 19,
   "id": "1b22615f",
   "metadata": {},
   "outputs": [],
   "source": [
    "conn.sql(f\"\"\"\n",
    "    CREATE OR REPLACE TEMPORARY TABLE features AS (\n",
    "        SELECT * FROM read_parquet({subjects_features_paths}, union_by_name=True, filename=False)\n",
    "    )\n",
    "\"\"\")"
   ]
  },
  {
   "cell_type": "markdown",
   "id": "4601b88f",
   "metadata": {},
   "source": [
    "# originally we had 6318 subjects but if observed keenly we can see that we only have 4350 + 967 + 946 or just 6263 subjects now, as we are missing 55 because in ingest_labels we had to discard some subjects who did not have labels attached to them  "
   ]
  },
  {
   "cell_type": "code",
   "execution_count": 21,
   "id": "d82169f6",
   "metadata": {},
   "outputs": [
    {
     "data": {
      "text/plain": [
       "'abfss://{FOLDER_NAME}@sgppipelinesa.dfs.core.windows.net/{SUB_FOLDER_NAME}'"
      ]
     },
     "execution_count": 21,
     "metadata": {},
     "output_type": "execute_result"
    }
   ],
   "source": [
    "SILVER_DATA_DIR"
   ]
  },
  {
   "cell_type": "code",
   "execution_count": 27,
   "id": "21ea9603",
   "metadata": {},
   "outputs": [
    {
     "data": {
      "text/plain": [
       "'abfss://sgppipelinesa-silver@sgppipelinesa.dfs.core.windows.net/stage-01/train_labels.parquet'"
      ]
     },
     "execution_count": 27,
     "metadata": {},
     "output_type": "execute_result"
    }
   ],
   "source": [
    "# cloud\n",
    "train_labels_path = os.path.join(\n",
    "    SILVER_DATA_DIR.format(\n",
    "        FOLDER_NAME=SILVER_FOLDER_NAME,\n",
    "        SUB_FOLDER_NAME=\"stage-01\"\n",
    "    ),\n",
    "    \"train_labels.parquet\",\n",
    "    # \"**\",\n",
    "    # \"*.parquet\"\n",
    ").replace(\"\\\\\", \"/\")\n",
    "\n",
    "# # local\n",
    "# train_labels_path = os.path.join(\n",
    "#     SILVER_DATA_DIR.format(\n",
    "#         DATA_DIR=DATA_DIR,\n",
    "#         FOLDER_NAME=SILVER_FOLDER_NAME,\n",
    "#         SUB_FOLDER_NAME=\"stage-01\"\n",
    "#     ),\n",
    "#     \"train\",\n",
    "#     \"labels.parquet\",\n",
    "#     \"**\",\n",
    "#     \"*.parquet\"\n",
    "# ).replace(\"\\\\\", \"/\")\n",
    "\n",
    "train_labels_path"
   ]
  },
  {
   "cell_type": "code",
   "execution_count": 28,
   "id": "6a4a342c",
   "metadata": {},
   "outputs": [],
   "source": [
    "conn.sql(f\"\"\"\n",
    "    CREATE OR REPLACE TEMPORARY TABLE train_labels AS (\n",
    "        SELECT * FROM read_parquet('{train_labels_path}', union_by_name=True, filename=False)\n",
    "    )\n",
    "\"\"\")"
   ]
  },
  {
   "cell_type": "code",
   "execution_count": 29,
   "id": "73227148",
   "metadata": {},
   "outputs": [
    {
     "data": {
      "text/plain": [
       "┌──────────────┐\n",
       "│ count_star() │\n",
       "│    int64     │\n",
       "├──────────────┤\n",
       "│            7 │\n",
       "└──────────────┘"
      ]
     },
     "execution_count": 29,
     "metadata": {},
     "output_type": "execute_result"
    }
   ],
   "source": [
    "conn.sql(\"\"\"\n",
    "    SELECT COUNT(*) FROM train_labels\n",
    "\"\"\")"
   ]
  },
  {
   "cell_type": "code",
   "execution_count": 30,
   "id": "a3c15bea",
   "metadata": {},
   "outputs": [
    {
     "data": {
      "text/plain": [
       "'abfss://sgppipelinesa-silver@sgppipelinesa.dfs.core.windows.net/stage-01/val_labels.parquet'"
      ]
     },
     "execution_count": 30,
     "metadata": {},
     "output_type": "execute_result"
    }
   ],
   "source": [
    "# cloud\n",
    "val_labels_path = os.path.join(\n",
    "    SILVER_DATA_DIR.format(\n",
    "        FOLDER_NAME=SILVER_FOLDER_NAME,\n",
    "        SUB_FOLDER_NAME=\"stage-01\"\n",
    "    ),\n",
    "    \"val_labels.parquet\",\n",
    "    # \"**\",\n",
    "    # \"*.parquet\"\n",
    ").replace(\"\\\\\", \"/\")\n",
    "\n",
    "# # local\n",
    "# val_labels_path = os.path.join(\n",
    "#     SILVER_DATA_DIR.format(\n",
    "#         DATA_DIR=DATA_DIR,\n",
    "#         FOLDER_NAME=SILVER_FOLDER_NAME,\n",
    "#         SUB_FOLDER_NAME=\"stage-01\"\n",
    "#     ),\n",
    "#     \"val\",\n",
    "#     \"labels.parquet\",\n",
    "#     \"**\",\n",
    "#     \"*.parquet\"\n",
    "# ).replace(\"\\\\\", \"/\")\n",
    "\n",
    "val_labels_path"
   ]
  },
  {
   "cell_type": "code",
   "execution_count": 31,
   "id": "c3d8c974",
   "metadata": {},
   "outputs": [],
   "source": [
    "conn.sql(f\"\"\"\n",
    "    CREATE OR REPLACE TEMPORARY TABLE val_labels AS (\n",
    "        SELECT * FROM read_parquet('{val_labels_path}', union_by_name=True, filename=False)\n",
    "    )\n",
    "\"\"\")"
   ]
  },
  {
   "cell_type": "code",
   "execution_count": 32,
   "id": "95157998",
   "metadata": {},
   "outputs": [
    {
     "data": {
      "text/plain": [
       "'abfss://sgppipelinesa-silver@sgppipelinesa.dfs.core.windows.net/stage-01/test_labels.parquet'"
      ]
     },
     "execution_count": 32,
     "metadata": {},
     "output_type": "execute_result"
    }
   ],
   "source": [
    "# cloud\n",
    "test_labels_path = os.path.join(\n",
    "    SILVER_DATA_DIR.format(\n",
    "        FOLDER_NAME=SILVER_FOLDER_NAME,\n",
    "        SUB_FOLDER_NAME=\"stage-01\"\n",
    "    ),\n",
    "    \"test_labels.parquet\",\n",
    "    # \"**\",\n",
    "    # \"*.parquet\"\n",
    ").replace(\"\\\\\", \"/\")\n",
    "\n",
    "# # local\n",
    "# test_labels_path = os.path.join(\n",
    "#     SILVER_DATA_DIR.format(\n",
    "#         DATA_DIR=DATA_DIR,\n",
    "#         FOLDER_NAME=SILVER_FOLDER_NAME,\n",
    "#         SUB_FOLDER_NAME=\"stage-01\"\n",
    "#     ),\n",
    "#     \"test\",\n",
    "#     \"labels.parquet\",\n",
    "#     \"**\",\n",
    "#     \"*.parquet\"\n",
    "# ).replace(\"\\\\\", \"/\")\n",
    "\n",
    "test_labels_path"
   ]
  },
  {
   "cell_type": "code",
   "execution_count": 33,
   "id": "2fcf1520",
   "metadata": {},
   "outputs": [],
   "source": [
    "conn.sql(f\"\"\"\n",
    "    CREATE OR REPLACE TEMPORARY TABLE test_labels AS (\n",
    "        SELECT * FROM read_parquet('{test_labels_path}', union_by_name=True, filename=False)\n",
    "    )\n",
    "\"\"\")"
   ]
  },
  {
   "cell_type": "code",
   "execution_count": 34,
   "id": "9cbb1e13",
   "metadata": {},
   "outputs": [
    {
     "data": {
      "text/plain": [
       "┌─────────────────────────┬─────────┬─────────┬───────┬───────────┐\n",
       "│        subjectId        │  value  │  split  │ rowId │ partition │\n",
       "│         varchar         │ varchar │ varchar │ int64 │   int64   │\n",
       "├─────────────────────────┼─────────┼─────────┼───────┼───────────┤\n",
       "│ 1028-20100710-hne       │ male    │ train   │     0 │         0 │\n",
       "│ 1337ad-20170321-ajg     │ female  │ train   │     1 │         1 │\n",
       "│ 1337ad-20170321-tkg     │ female  │ train   │     2 │         2 │\n",
       "│ 1snoke-20120412-hge     │ male    │ train   │     3 │         3 │\n",
       "│ 23yipikaye-20100807-ujm │ male    │ train   │     4 │         4 │\n",
       "│ Anniepoo-20140308-bft   │ female  │ train   │     5 │         5 │\n",
       "│ Anniepoo-20140308-cqj   │ female  │ train   │     6 │         6 │\n",
       "└─────────────────────────┴─────────┴─────────┴───────┴───────────┘"
      ]
     },
     "execution_count": 34,
     "metadata": {},
     "output_type": "execute_result"
    }
   ],
   "source": [
    "conn.sql(\"\"\"\n",
    "    SELECT * FROM train_labels\n",
    "\"\"\")"
   ]
  },
  {
   "cell_type": "code",
   "execution_count": 35,
   "id": "0a8f7b3c",
   "metadata": {},
   "outputs": [
    {
     "data": {
      "text/plain": [
       "┌────────────────────┬────────────────────┬─────────────────────┬────────────────────┬────────────────────────┬───────────────┬───────────────┬──────────────┬──────────────┬───────────────────────┬─────────────────────┬──────────────────┬──────────────────┬─────────────┬────────────────────────┬──────────────────────┬─────────────────────────┬────────────────────┬────────────────────┬────────────────────┬──────────────┬────────────────────┬───────────────┬─────────────────┬───────────────────────┬───────────────────┬──────────────┬──────────────┬────────────────┬──────────────┬──────────────┬──────────────────────┬──────────────────────┬────────────────────────────┬──────────────────┬───────────────┬────────────────────┬──────────────────┬────────────────────┬─────────────────────┬──────────────────────┬─────────────────┬─────────────────┬───────────────────┬─────────────────┬─────────────────┬─────────────────────────┬─────────────────────────┬───────────────────────────────┬─────────────────────┬──────────────────┬──────────────────────┬───────────┬─────────────┬─────────────────────┬───────────────┬────────────┬────────────┬────────────┬───────────┬───────────┬──────────────────┬──────────────────┬────────────────────────┬──────────────┬───────────┬────────────────────┬────────────────────┬────────────────────┬────────────────────┬────────────────────┬────────────────────┬────────────────────┬────────────────────┬────────────────────┬────────────────────┬───────────────────────┬───────────────────────┬─────────────────────────────┬────────────────────┬─────────────────────┬────────────────────┐\n",
       "│     subjectId      │     freq_kurt      │      freq_skew      │    freq_entropy    │       freq_mean        │  freq_median  │   freq_mode   │   freq_min   │   freq_max   │       freq_var        │     freq_stddev     │ freq_first_quart │ freq_third_quart │ freq_range  │ freq_inter_quart_range │         zcr          │       poly_feat_1       │    poly_feat_2     │     spec_cent      │      spec_bw       │  spec_flat   │     spec_roll      │ mel_spec_mean │ mel_spec_median │     mel_spec_mode     │ mel_spec_mode_cnt │ mel_spec_min │ mel_spec_max │ mel_spec_range │ mel_spec_var │ mel_spec_std │ mel_spec_first_quart │ mel_spec_third_quart │ mel_spec_inter_quart_range │ mel_spec_entropy │ mel_spec_kurt │   mel_spec_skew    │ mel_spec_db_mean │ mel_spec_db_median │  mel_spec_db_mode   │ mel_spec_db_mode_cnt │ mel_spec_db_min │ mel_spec_db_max │ mel_spec_db_range │ mel_spec_db_var │ mel_spec_db_std │ mel_spec_db_first_quart │ mel_spec_db_third_quart │ mel_spec_db_inter_quart_range │ mel_spec_db_entropy │ mel_spec_db_kurt │   mel_spec_db_skew   │ mfcc_mean │ mfcc_median │      mfcc_mode      │ mfcc_mode_cnt │  mfcc_min  │  mfcc_max  │ mfcc_range │ mfcc_var  │ mfcc_std  │ mfcc_first_quart │ mfcc_third_quart │ mfcc_inter_quart_range │ mfcc_entropy │ mfcc_kurt │     mfcc_skew      │   spec_cont_mean   │  spec_cont_median  │   spec_cont_mode   │ spec_cont_mode_cnt │   spec_cont_min    │   spec_cont_max    │  spec_cont_range   │   spec_cont_var    │   spec_cont_std    │ spec_cont_first_quart │ spec_cont_third_quart │ spec_cont_inter_quart_range │ spec_cont_entropy  │   spec_cont_kurt    │   spec_cont_skew   │\n",
       "│      varchar       │       double       │       double        │       double       │         double         │     float     │     float     │    float     │    float     │        double         │       double        │      float       │      float       │    float    │         float          │        double        │         double          │       double       │       double       │       double       │    float     │       double       │     float     │      float      │        double         │      double       │    float     │    float     │     float      │    float     │    float     │        float         │        float         │           float            │      float       │     float     │       double       │      float       │       float        │       double        │        double        │      float      │      float      │       float       │      float      │      float      │          float          │          float          │             float             │        float        │      float       │        double        │   float   │    float    │       double        │    double     │   float    │   float    │   float    │   float   │   float   │      float       │      float       │         float          │    float     │   float   │       double       │       double       │       double       │       double       │       double       │       double       │       double       │       double       │       double       │       double       │        double         │        double         │           double            │       double       │       double        │       double       │\n",
       "├────────────────────┼────────────────────┼─────────────────────┼────────────────────┼────────────────────────┼───────────────┼───────────────┼──────────────┼──────────────┼───────────────────────┼─────────────────────┼──────────────────┼──────────────────┼─────────────┼────────────────────────┼──────────────────────┼─────────────────────────┼────────────────────┼────────────────────┼────────────────────┼──────────────┼────────────────────┼───────────────┼─────────────────┼───────────────────────┼───────────────────┼──────────────┼──────────────┼────────────────┼──────────────┼──────────────┼──────────────────────┼──────────────────────┼────────────────────────────┼──────────────────┼───────────────┼────────────────────┼──────────────────┼────────────────────┼─────────────────────┼──────────────────────┼─────────────────┼─────────────────┼───────────────────┼─────────────────┼─────────────────┼─────────────────────────┼─────────────────────────┼───────────────────────────────┼─────────────────────┼──────────────────┼──────────────────────┼───────────┼─────────────┼─────────────────────┼───────────────┼────────────┼────────────┼────────────┼───────────┼───────────┼──────────────────┼──────────────────┼────────────────────────┼──────────────┼───────────┼────────────────────┼────────────────────┼────────────────────┼────────────────────┼────────────────────┼────────────────────┼────────────────────┼────────────────────┼────────────────────┼────────────────────┼───────────────────────┼───────────────────────┼─────────────────────────────┼────────────────────┼─────────────────────┼────────────────────┤\n",
       "│ 1028-20100710-hne  │  6.563003290629212 │ -1.2350240639262684 │  5.044394119358456 │  -0.004960493607954545 │ -0.0016784668 │  -0.013122559 │  -0.24191284 │   0.14111328 │  0.003988436195703055 │ 0.06315406713508684 │     -0.013519287 │      0.018188477 │  0.38302612 │            0.031707764 │  0.04804166666666667 │  -0.0017305229257672727 │ 10.460983497738118 │ 1391.7753749459916 │  1555.541482022787 │   0.01946291 │             3033.0 │     473.72736 │       21.433676 │   0.07473452389240265 │               1.0 │  0.074734524 │    6283.4395 │      6283.3647 │     857456.2 │     925.9893 │             8.550955 │            589.59424 │                   581.0433 │        3.3297718 │     17.598017 │ 3.7033190727233887 │         -23.8076 │         -27.246937 │ -51.808204650878906 │                  1.0 │      -51.808205 │      -2.5614433 │          49.24676 │       134.66417 │       11.604489 │               -31.22361 │              -12.841303 │                     18.382307 │           4.3726892 │       -0.9578712 │  -0.1281711459159851 │ 2.6467695 │ -0.18212962 │ -27.567020416259766 │           1.0 │  -27.56702 │  187.19086 │  214.75787 │ 579.33655 │  24.06941 │       -2.4256716 │        2.2118814 │               4.637553 │         -inf │ 42.685665 │  6.400664806365967 │ 16.317749768342058 │ 16.383832619068944 │ 12.812258638667737 │                1.0 │ 12.812258638667737 │  22.15743535049579 │  9.345176711828051 │  7.727479458137454 │ 2.7798344299863356 │    14.492502215990648 │     16.94285866909032 │          2.4503564530996726 │ 1.9319947240675348 │ 0.20256985521548332 │  0.958985644265363 │\n",
       "│ 1028-20100710-hne  │  6.334804935057161 │  -1.231666610109619 │                5.0 │ -0.0047054290771484375 │ -0.0016326904 │ -0.0016784668 │  -0.24191284 │   0.14111328 │  0.004114879261431916 │ 0.06414732466309032 │     -0.014427185 │      0.018722534 │  0.38302612 │             0.03314972 │  0.07229166666666667 │  -0.0021592977010581635 │ 13.155571532364347 │ 1451.0306265698002 │ 1412.1155388815373 │  0.018173037 │ 2968.6666666666665 │     655.92334 │       155.28777 │  0.040426287800073624 │               1.0 │  0.040426288 │    5485.6475 │       5485.607 │    1311217.5 │    1145.0841 │            23.569763 │            506.14456 │                   482.5748 │        3.4415817 │     4.9793015 │  2.315889358520508 │       -21.304747 │         -18.721062 │  -54.47677993774414 │                  1.0 │       -54.47678 │      -3.1511383 │          51.32564 │       144.99971 │       12.041582 │              -26.865381 │              -13.500696 │                     13.364685 │           4.3421946 │      -0.17628956 │  -0.7327266335487366 │ 2.7200453 │  -0.6197258 │  -35.60451126098633 │           1.0 │  -35.60451 │  214.95763 │  250.56213 │  717.8272 │ 26.792297 │        -2.480835 │        1.8917106 │              4.3725457 │         -inf │  45.40504 │  6.493199825286865 │ 18.164840139331407 │  16.17942544593662 │ 14.387286514944236 │                1.0 │ 14.387286514944236 │ 29.243524710686945 │ 14.856238195742709 │  22.70260448411353 │  4.764725016631446 │    15.525049925247654 │     18.14677222662837 │           2.621722301380718 │ 1.9152546445331118 │  1.2674385423334282 │ 1.6633380158289968 │\n",
       "│ 1028-20100710-hne  │  6.065958711669298 │   -1.20958580355693 │  4.954196310386877 │  -0.004803073021673387 │ -0.0015869141 │ -0.0015869141 │  -0.24191284 │   0.14111328 │ 0.0042517266346402075 │ 0.06520526539045914 │     -0.015335083 │      0.019256592 │  0.38302612 │            0.034591675 │                0.079 │  -0.0015710400160386295 │  9.317338289822507 │ 1237.3603848464247 │  1154.640524112547 │ 0.0066732517 │ 2348.6666666666665 │     313.11655 │        91.95502 │  0.005206833127886057 │               1.0 │  0.005206833 │    2973.2075 │      2973.2024 │    274467.44 │     523.8964 │             8.614218 │             343.4245 │                  334.81027 │        3.5048497 │     7.8375864 │ 2.6084070205688477 │       -26.472984 │          -20.90905 │ -63.377681732177734 │                  1.0 │       -63.37768 │      -5.8111687 │         57.566513 │       235.93538 │      15.3601885 │              -31.191288 │              -15.185909 │                     16.005379 │           4.3422484 │       -0.3892722 │  -0.8913580179214478 │ 2.6887512 │ -0.16916835 │  -56.87472152709961 │           1.0 │  -56.87472 │  156.87752 │  213.75224 │ 608.33997 │ 24.664549 │       -1.9434435 │        2.3372304 │               4.280674 │         -inf │ 31.112148 │  5.244605541229248 │  18.34425720507262 │  17.05888808958442 │ 13.032321845665816 │                1.0 │ 13.032321845665816 │ 28.826916392664128 │ 15.794594546998312 │ 30.501412414224244 │  5.522808381088759 │    13.927322735687536 │     20.81851431810945 │           6.891191582421914 │ 1.9032917170199968 │ -0.7290048773776903 │ 0.8689818044919198 │\n",
       "│ 1028-20100710-hne  │ 5.7964867150912855 │ -1.1869533897430238 │  4.906890595608519 │    -0.0049102783203125 │ -0.0010070801 │  0.0016174316 │  -0.24191284 │   0.14111328 │ 0.0043979693300508224 │  0.0663171872899539 │     -0.016242981 │       0.01979065 │  0.38302612 │             0.03603363 │  0.07977083333333333 │  -0.0011534222342541797 │ 6.8471832453652794 │ 1245.5278440911795 │ 1228.4698442180854 │  0.009268277 │  2473.333333333333 │      176.8263 │       41.574516 │  0.005022069904953241 │               1.0 │   0.00502207 │    1860.7935 │      1860.7885 │    102338.49 │    319.90387 │             3.697378 │           105.805984 │                 102.108604 │        3.4013593 │      8.381271 │ 2.6790244579315186 │       -28.532196 │         -24.357029 │  -63.53459167480469 │                  1.0 │       -63.53459 │      -7.8464355 │         55.688156 │        196.3142 │       14.011217 │               -34.87818 │              -20.298325 │                     14.579857 │           4.3846784 │      -0.39429545 │  -0.7855535745620728 │  2.137061 │ -0.60279953 │  -45.33574295043945 │           1.0 │ -45.335743 │   145.4614 │  190.79713 │ 481.94162 │ 21.953169 │       -2.7645144 │        1.3406932 │              4.1052074 │         -inf │ 31.900604 │  5.414680480957031 │  18.05765837778154 │ 16.168237615676077 │ 14.889237089817279 │                1.0 │ 14.889237089817279 │ 27.182312487567884 │ 12.293075397750606 │  17.17973775224319 │  4.144844719919335 │     15.16657648690014 │     18.91533423880462 │          3.7487577519044777 │ 1.9217103082830942 │  0.4969124532894664 │ 1.3782818001167019 │\n",
       "│ 1028-20100710-hne  │ 5.5222645285146585 │ -1.1590815191415385 │  4.857980995127571 │ -0.0051353717672413795 │  -0.002380371 │    0.05206299 │  -0.24191284 │   0.14111328 │  0.004553465365335859 │ 0.06747936992396905 │     -0.017150879 │      0.020324707 │  0.38302612 │            0.037475586 │  0.09695833333333333 │  -0.0016066724382251141 │  9.741964937448149 │  1415.106357427039 │  1371.224202578147 │  0.020478405 │ 2643.6666666666665 │     309.06387 │       128.08624 │   0.03287675976753235 │               1.0 │   0.03287676 │    2455.7815 │      2455.7485 │    253545.22 │    503.53275 │            4.5366497 │             296.6279 │                  292.09125 │        3.5649624 │      6.680727 │ 2.5475716590881348 │       -24.114002 │         -19.468449 │  -55.37452697753906 │                  1.0 │      -55.374527 │      -6.6415215 │         48.733006 │       145.14935 │       12.047794 │              -33.983097 │                -15.8213 │                     18.161797 │            4.379407 │      -0.51502466 │  -0.7112574577331543 │ 2.7961817 │ -0.24035543 │  -39.07537078857422 │           1.0 │  -39.07537 │  184.22064 │  223.29602 │  581.5351 │ 24.115038 │       -2.0815063 │        1.3031373 │              3.3846436 │         -inf │  40.22366 │  6.143020153045654 │ 16.773894055017447 │ 16.186327938561902 │  13.61275031728439 │                1.0 │  13.61275031728439 │  25.57740397525256 │ 11.964653657968173 │ 14.415461504267599 │  3.796769877707576 │    14.318435640300406 │    16.701952436711228 │           2.383516796410822 │ 1.9226654072753555 │  1.2706147140437167 │ 1.6032101635080118 │\n",
       "│ 1028-20100710-hne  │  5.550894621909972 │ -1.1148446765550097 │  4.807354922057602 │  -0.007178170340401786 │ -0.0029754639 │   -0.02734375 │  -0.24191284 │   0.14111328 │  0.004596612337365668 │ 0.06779832105123008 │     -0.019699097 │      0.018722534 │  0.38302612 │             0.03842163 │            0.0995625 │  -0.0015719508081897466 │  9.814419919714762 │ 1622.5269050350516 │  1594.728161426977 │    0.0361418 │  3262.333333333333 │     308.45578 │        101.1857 │   0.08144833892583847 │               1.0 │   0.08144834 │    1865.2223 │      1865.1409 │     207132.1 │    455.11768 │            11.948889 │             364.1504 │                   352.2015 │        3.6339908 │      2.883709 │ 1.8880587816238403 │       -22.743504 │          -20.49487 │  -51.43459701538086 │                  1.0 │      -51.434597 │       -7.836113 │         43.598484 │         105.657 │       10.278959 │              -29.770441 │              -14.935518 │                     14.834923 │            4.399851 │      -0.32922554 │  -0.6352671980857849 │ 3.1765862 │  -0.1979346 │ -24.529573440551758 │           1.0 │ -24.529573 │  199.59966 │  224.12923 │  588.7593 │ 24.264362 │       -1.9576516 │        1.9212265 │               3.878878 │         -inf │ 48.619614 │  6.763139247894287 │  17.64413940727885 │ 15.441826712211757 │  13.79277790232329 │                1.0 │  13.79277790232329 │  32.19579459191754 │  18.40301668959425 │  36.98471648502184 │  6.081506103344947 │    14.032378340740912 │    17.006909981508755 │           2.974531640767843 │ 1.8953420487312655 │  1.7439869529423735 │ 1.8531438286822874 │\n",
       "│ 1028-20100710-hne  │  5.394671437921245 │ -1.1367940590121846 │  4.754887502163471 │  -0.006431297019675926 │  -0.002380371 │  -0.004547119 │  -0.24191284 │   0.14111328 │  0.004757185437400797 │ 0.06897235270309979 │     -0.015335083 │      0.019256592 │  0.38302612 │            0.034591675 │  0.09516666666666666 │  -0.0017887880733362478 │  10.56018677050256 │ 1197.9731372408555 │ 1273.2086775130945 │  0.007901714 │ 2506.6666666666665 │     512.51624 │       38.526665 │  0.010554984211921692 │               1.0 │  0.010554984 │     4247.224 │      4247.2134 │     855363.4 │     924.8586 │             9.419317 │            534.77936 │                  525.36005 │         3.302088 │     3.5386472 │  2.076122283935547 │       -25.179617 │          -24.68585 │ -60.308841705322266 │                  1.0 │       -60.30884 │      -4.2623672 │         56.046474 │       191.71986 │       13.846294 │               -30.81336 │              -13.261671 │                      17.55169 │           4.3448095 │      -0.46340132 │  -0.5081213116645813 │  3.052018 │  -0.6397351 │  -36.18965148925781 │           1.0 │  -36.18965 │  171.21227 │  207.40192 │ 595.54944 │ 24.403881 │       -2.2369533 │        2.0739796 │               4.310933 │         -inf │  34.91028 │  5.778311729431152 │  18.74717403205839 │ 17.379716981031056 │ 15.180016980242115 │                1.0 │ 15.180016980242115 │ 25.707017478286037 │ 10.527000498043922 │ 12.163007270727903 │  3.487550325189287 │    16.013897229282993 │    20.467836163141765 │          4.4539389338587725 │ 1.9293427923010629 │ -0.4266976601288146 │ 0.8905322177457708 │\n",
       "│ 1028-20100710-hne  │  5.114158182041935 │ -1.1148611291944268 │   4.70043971814109 │  -0.006503765399639423 │ -0.0010070801 │   0.026977539 │  -0.24191284 │   0.14111328 │  0.004947325388112894 │ 0.07033722619006876 │     -0.016242981 │       0.01979065 │  0.38302612 │             0.03603363 │            0.0924375 │   -0.002329390218440816 │ 13.788673550464244 │ 1221.1727414586474 │ 1215.0471181675946 │  0.006309529 │ 2579.6666666666665 │      899.6548 │        96.94043 │  0.008697577752172947 │               1.0 │  0.008697578 │     9566.871 │       9566.862 │    3567974.0 │    1888.9082 │             23.14026 │             855.6062 │                  832.46594 │        3.1870353 │      8.205402 │  2.902240753173828 │       -23.098911 │         -20.685268 │ -61.149436950683594 │                  1.0 │      -61.149437 │      -0.7357216 │         60.413715 │       216.20847 │       14.704029 │              -26.899864 │              -11.223128 │                     15.676736 │           4.2943234 │      -0.27272272 │  -0.7217565774917603 │ 2.5663352 │  -1.0123332 │  -39.25782775878906 │           1.0 │ -39.257828 │    194.463 │  233.72083 │  727.7346 │ 26.976557 │       -3.6770155 │        0.6995231 │              4.3765388 │         -inf │  35.47783 │  5.746683120727539 │ 18.064623912511845 │  18.25452797015972 │ 14.520274596454128 │                1.0 │ 14.520274596454128 │ 22.260214938604065 │ 7.7399403421499375 │  6.807540075039301 │  2.609126304922646 │    15.920908000060512 │    19.787766941121983 │           3.866858941061471 │ 1.9354570835141665 │  -1.185255210398112 │ 0.0844582280092396 │\n",
       "│ 1028-20100710-hne  │  4.896994890231853 │  -1.055200754682142 │  4.643856189774723 │     -0.007843017578125 │  -0.002380371 │   0.018188477 │  -0.24191284 │   0.14111328 │  0.005104887376849851 │ 0.07144849457371268 │     -0.017150879 │      0.018188477 │  0.38302612 │            0.035339355 │             0.085125 │  -0.0019112992835547786 │ 11.698169562019308 │ 1484.6989894718647 │ 1402.4985560390476 │  0.017957868 │             3003.0 │     490.86633 │       112.34506 │  0.020195135846734047 │               1.0 │  0.020195136 │    5262.9824 │      5262.9624 │     744222.8 │     862.6835 │            28.188385 │             462.9837 │                  434.79532 │         3.475652 │      9.750243 │   2.82584810256958 │       -22.305914 │         -20.038662 │  -57.49095153808594 │                  1.0 │       -57.49095 │      -3.3311005 │          54.15985 │       152.00569 │       12.329059 │              -26.043182 │              -13.902374 │                     12.140808 │            4.354775 │       0.21763277 │  -0.9372125864028931 │ 2.9960241 │ -0.40848362 │ -37.549781799316406 │           1.0 │  -37.54978 │   203.4773 │  241.02707 │  677.2293 │  26.02363 │        -2.318496 │        1.7786927 │               4.097189 │         -inf │ 41.639896 │  6.187046051025391 │ 18.502257052905428 │    17.499556919796 │ 14.109149332422087 │                1.0 │ 14.109149332422087 │ 28.952601972883134 │ 14.843452640461047 │ 22.590981577312924 │  4.752997115222449 │    15.016285800362898 │    19.460959772255478 │          4.4446739718925805 │ 1.9155716910649527 │   0.541490386783047 │ 1.2931413724695107 │\n",
       "│ 1028-20100710-hne  │  4.638187226134793 │ -0.9991541607884403 │  4.584962500721156 │  -0.008927663167317709 │ -0.0029754639 │  0.0034484863 │  -0.24191284 │   0.14111328 │  0.005296148843995796 │ 0.07277464423819463 │      -0.02040863 │      0.012268066 │  0.38302612 │            0.032676697 │            0.1028125 │  -0.0016276880164912786 │  9.662706353843406 │ 1245.6053039661979 │ 1274.1645382493582 │  0.011009825 │  2490.333333333333 │      365.5013 │       59.790386 │  0.012904075905680656 │               1.0 │  0.012904076 │     2349.157 │       2349.144 │    370575.03 │     608.7487 │            7.4288607 │            403.50357 │                   396.0747 │        3.4448094 │     2.6663718 │ 1.9373838901519775 │       -25.259604 │         -22.818972 │  -59.43614959716797 │                  1.0 │       -59.43615 │       -6.834297 │         52.601852 │       180.61859 │       13.439442 │              -31.836035 │              -14.486272 │                     17.349762 │            4.360382 │      -0.50485754 │  -0.6390336155891418 │  2.377299 │ -0.72771585 │ -35.024173736572266 │           1.0 │ -35.024174 │  170.36345 │  205.38762 │ 579.50305 │  24.07287 │        -3.108212 │        1.3382812 │               4.446493 │         -inf │ 36.189575 │  5.906228542327881 │  17.76096645168958 │ 15.035136550084466 │ 13.042853672664823 │                1.0 │ 13.042853672664823 │  29.29090501073472 │ 16.248051338069896 │  27.55187176700847 │  5.248987689736801 │    14.198575698431267 │     19.28035926574026 │           5.081783567308992 │ 1.9062110880090295 │ 0.49292257202234335 │ 1.3088280685306903 │\n",
       "│         ·          │          ·         │           ·         │          ·         │              ·         │        ·      │        ·      │       ·      │        ·     │            ·          │           ·         │           ·      │           ·      │       ·     │                 ·      │                 ·    │             ·           │          ·         │          ·         │          ·         │        ·     │                ·   │          ·    │           ·     │             ·         │                ·  │        ·     │         ·    │           ·    │        ·     │         ·    │                ·     │                ·     │                       ·    │             ·    │         ·     │          ·         │            ·     │              ·     │           ·         │                   ·  │           ·     │           ·     │             ·     │           ·     │            ·    │                   ·     │                   ·     │                          ·    │                ·    │           ·      │            ·         │      ·    │       ·     │          ·          │            ·  │      ·     │       ·    │      ·     │      ·    │      ·    │            ·     │            ·     │                   ·    │           ·  │      ·    │          ·         │          ·         │          ·         │          ·         │                 ·  │          ·         │          ·         │          ·         │          ·         │           ·        │             ·         │             ·         │                   ·         │           ·        │           ·         │          ·         │\n",
       "│         ·          │          ·         │           ·         │          ·         │              ·         │        ·      │        ·      │       ·      │        ·     │            ·          │           ·         │           ·      │           ·      │       ·     │                 ·      │                 ·    │             ·           │          ·         │          ·         │          ·         │        ·     │                ·   │          ·    │           ·     │             ·         │                ·  │        ·     │         ·    │           ·    │        ·     │         ·    │                ·     │                ·     │                       ·    │             ·    │         ·     │          ·         │            ·     │              ·     │           ·         │                   ·  │           ·     │           ·     │             ·     │           ·     │            ·    │                   ·     │                   ·     │                          ·    │                ·    │           ·      │            ·         │      ·    │       ·     │          ·          │            ·  │      ·     │       ·    │      ·     │      ·    │      ·    │            ·     │            ·     │                   ·    │           ·  │      ·    │          ·         │          ·         │          ·         │          ·         │                 ·  │          ·         │          ·         │          ·         │          ·         │           ·        │             ·         │             ·         │                   ·         │           ·        │           ·         │          ·         │\n",
       "│         ·          │          ·         │           ·         │          ·         │              ·         │        ·      │        ·      │       ·      │        ·     │            ·          │           ·         │           ·      │           ·      │       ·     │                 ·      │                 ·    │             ·           │          ·         │          ·         │          ·         │        ·     │                ·   │          ·    │           ·     │             ·         │                ·  │        ·     │         ·    │           ·    │        ·     │         ·    │                ·     │                ·     │                       ·    │             ·    │         ·     │          ·         │            ·     │              ·     │           ·         │                   ·  │           ·     │           ·     │             ·     │           ·     │            ·    │                   ·     │                   ·     │                          ·    │                ·    │           ·      │            ·         │      ·    │       ·     │          ·          │            ·  │      ·     │       ·    │      ·     │      ·    │      ·    │            ·     │            ·     │                   ·    │           ·  │      ·    │          ·         │          ·         │          ·         │          ·         │                 ·  │          ·         │          ·         │          ·         │          ·         │           ·        │             ·         │             ·         │                   ·         │           ·        │           ·         │          ·         │\n",
       "│ Coren-20141121-pxp │  7.464547612621751 │  2.6129312281049257 │  3.321928094887362 │     0.0222808837890625 │  0.0008087158 │  -0.036499023 │ -0.036499023 │    0.2020874 │  0.004426797117210096 │  0.0665341800671662 │    -0.0036315918 │      0.012023926 │  0.23858643 │            0.015655518 │             0.181875 │ -0.00035827649943513597 │  3.351463271398419 │  3003.852276181931 │  2357.448000454207 │   0.16231768 │             5953.0 │      47.33262 │       13.637333 │    0.9200966954231262 │               1.0 │    0.9200967 │    385.74875 │      384.82864 │    6388.2183 │     79.92633 │            5.2634397 │            45.454254 │                  40.190815 │         3.583973 │     6.3981657 │ 2.6050190925598145 │       -30.881823 │         -31.543201 │  -43.25202941894531 │                  1.0 │       -43.25203 │       -17.02732 │         26.224709 │       41.816113 │        6.466538 │               -35.67776 │              -26.318607 │                      9.359154 │           4.4769983 │      -0.72777987 │   0.3065858781337738 │ 1.4458693 │   0.6470505 │ -25.105558395385742 │           1.0 │ -25.105558 │   133.3115 │  158.41705 │  259.7197 │ 16.115822 │       -1.4345467 │        3.2454858 │              4.6800327 │         -inf │  47.67084 │  6.194547176361084 │ 19.689896699462874 │  16.22939262295683 │ 13.956838343946961 │                1.0 │ 13.956838343946961 │  35.17571144528755 │ 21.218873101340584 │  49.75749932739067 │   7.05389958302432 │     15.62141552161791 │    20.612251720406476 │           4.990836198788566 │   1.88909859646449 │  0.4532094279827841 │ 1.3961695819218738 │\n",
       "│ Coren-20141121-pxp │  7.425811382359435 │  2.6810479674669736 │  3.169925001442312 │   0.028811984592013888 │   0.002166748 │ -0.0045166016 │ -0.009002686 │    0.2020874 │  0.004500274882755346 │ 0.06708408814879535 │    -0.0009765625 │      0.012817383 │  0.21109009 │            0.013793945 │                0.194 │  -0.0002305160888121445 │  2.863186772875183 │ 3366.5924510892282 │  2368.790294779387 │   0.21957453 │             6150.0 │      37.35811 │       11.063963 │      1.24480402469635 │               1.0 │     1.244804 │     317.1228 │        315.878 │     4199.188 │     64.80114 │             6.627046 │            24.445904 │                  17.818857 │        3.5873215 │     6.2397814 │ 2.6275486946105957 │      -31.1640625 │          -32.45247 │ -41.939353942871094 │                  1.0 │      -41.939354 │      -17.878092 │         24.061262 │       28.784939 │       5.3651595 │               -34.67755 │               -29.00909 │                      5.668461 │           4.4840336 │      0.023546457 │   0.8089820742607117 │  1.784299 │  0.85462534 │ -39.954200744628906 │           1.0 │   -39.9542 │  130.28452 │  170.23871 │ 230.46114 │ 15.180946 │       -1.3773338 │        2.9247165 │                4.30205 │         -inf │ 54.823277 │  6.538610935211182 │  19.49224225132803 │  16.31421360578949 │  14.17655824631413 │                1.0 │  14.17655824631413 │  35.73389273205516 │  21.55733448574103 │  52.55406534266458 │  7.249418276155996 │    15.127563482937873 │    19.982952104630833 │            4.85538862169296 │ 1.8854355979887623 │  0.7069415549697915 │ 1.4878153081305678 │\n",
       "│ Coren-20141121-pxp │  6.575308611211069 │   2.525645826177569 │                3.0 │   0.032978057861328125 │  0.0059051514 │   0.002166748 │ -0.009002686 │    0.2020874 │  0.004964650725014508 │ 0.07046027763935157 │   -0.00065612793 │      0.021522522 │  0.21109009 │             0.02217865 │  0.13766666666666666 │ -0.00040749027408571137 │  2.894895518967415 │ 2281.7586974802866 │ 2130.3014957259484 │    0.0885241 │             5202.0 │     34.563633 │       6.0697308 │   0.23852354288101196 │               1.0 │   0.23852354 │    346.11865 │      345.88013 │    4395.9165 │    66.301704 │            2.4628553 │            36.867847 │                   34.40499 │         3.429856 │     9.9016695 │  3.138303756713867 │       -33.573753 │          -35.05867 │  -49.11505126953125 │                  1.0 │       -49.11505 │      -17.498116 │         31.616936 │       57.648518 │        7.592662 │               -38.97664 │               -27.22421 │                     11.752428 │           4.4732804 │      -0.92180324 │  0.22661127150058746 │ 1.4931214 │   0.3272894 │ -24.486412048339844 │           1.0 │ -24.486412 │  102.79973 │  127.28614 │ 201.48706 │ 14.194613 │       -2.1908455 │         2.667276 │              4.8581214 │         -inf │  33.38161 │  5.366243839263916 │ 18.880113718335718 │ 16.522147300339267 │ 13.953646884926266 │                1.0 │ 13.953646884926266 │  32.16729632165651 │ 18.213649436730243 │ 34.827072326860545 │  5.901446630010352 │    14.988059313840727 │    19.770793446873256 │           4.782734133032529 │ 1.9023137081688841 │  0.8061723403241396 │ 1.4645233893890175 │\n",
       "│ Coren-20141121-pxp │  5.653573378957297 │  2.3439540857709633 │  2.807354922057604 │   0.037379673549107144 │   0.009643555 │   0.012817383 │ -0.009002686 │    0.2020874 │  0.005611266452996504 │ 0.07490838706711354 │   -0.00076293945 │      0.030227661 │  0.21109009 │              0.0309906 │  0.10097916666666666 │  -0.0005468931815043336 │ 3.3373116417593254 │ 1462.8964387408723 │ 1571.1000940184242 │  0.015815929 │  2854.333333333333 │     64.796036 │         5.15752 │  0.009634231217205524 │               1.0 │  0.009634231 │    1514.9083 │      1514.8987 │    36072.664 │    189.92805 │            0.7947753 │            30.382425 │                   29.58765 │         2.860702 │     36.674957 │  5.591137886047363 │       -35.828262 │         -35.765953 │  -63.05219268798828 │                  1.0 │      -63.052193 │      -11.086502 │          51.96569 │       127.32285 │       11.283743 │              -43.891563 │              -28.065575 │                     15.825989 │           4.4484444 │      -0.70446444 │ -0.06469002366065979 │ 1.1318754 │  0.23637497 │  -27.33541488647461 │           1.0 │ -27.335415 │  112.29962 │  139.63504 │ 247.96257 │ 15.746827 │       -3.4502716 │        3.8669193 │               7.317191 │         -inf │ 30.617558 │  4.928182125091553 │ 19.841064920695068 │ 17.750345804125615 │  14.81418718476618 │                1.0 │  14.81418718476618 │ 27.608601718536704 │ 12.794414533770524 │ 23.397122950950795 │  4.837057261491825 │    16.076314896353594 │     23.28084497236489 │           7.204530076011295 │ 1.9173583575122017 │ -1.2348407926368596 │ 0.6705083331263471 │\n",
       "│ Coren-20141121-pxp │  4.691250506377506 │   2.147577429347021 │  2.584962500721156 │      0.041473388671875 │   0.004547119 │ -0.0005493164 │ -0.009002686 │    0.2020874 │  0.006592748314142227 │ 0.08119574073892193 │     -0.000869751 │      0.038139343 │  0.21109009 │            0.039009094 │  0.08466666666666667 │ -0.00031311680570087467 │ 2.1331356927262415 │ 2103.6047983307662 │ 2118.5530875096238 │  0.060144264 │  5294.666666666666 │     20.505312 │       3.8311353 │  0.033603597432374954 │               1.0 │  0.033603597 │    215.04422 │      215.01062 │     1642.771 │    40.531113 │            0.7849302 │            16.699306 │                  15.914376 │        3.3094938 │      8.698126 │  2.885301351547241 │       -37.195618 │         -37.057198 │  -57.62650680541992 │                  1.0 │      -57.626507 │      -19.565086 │          38.06142 │         72.9099 │         8.53873 │               -43.94217 │              -30.664438 │                     13.277731 │           4.4724226 │       -0.7846441 │  0.22989723086357117 │ 1.5937624 │   1.4938228 │ -21.618865966796875 │           1.0 │ -21.618866 │   84.03996 │  105.65883 │ 148.05666 │ 12.167853 │       -1.9222867 │        2.8491054 │               4.771392 │         -inf │  27.22264 │  4.591844081878662 │ 18.775300560980924 │ 15.664364506691504 │  13.55249399321193 │                1.0 │  13.55249399321193 │  31.00769831588314 │ 17.455204322671207 │  37.34705532433015 │  6.111223717417825 │    15.011696341183473 │     20.58957721435648 │           5.577880873173008 │ 1.8975156939655744 │ -0.4152675554658929 │   1.11429009720179 │\n",
       "│ Coren-20141121-pxp │ 3.7316844898400774 │  1.9232487108039589 │  2.321928094887362 │        0.0498779296875 │   0.009643555 │ -0.0009765625 │ -0.009002686 │    0.2020874 │  0.007711163070052862 │ 0.08781322833180011 │    -0.0009765625 │       0.04763794 │  0.21109009 │            0.048614502 │  0.07558333333333334 │   -0.000184042700335217 │ 1.1256109440463367 │ 1479.3485378656296 │   1500.92311484999 │  0.009945017 │             2623.0 │      5.134637 │       0.9529097 │ 0.0007865055813454092 │               1.0 │ 0.0007865056 │     65.39682 │      65.396034 │    143.49727 │    11.979034 │          0.037834316 │            3.2928727 │                  3.2550383 │        3.1633682 │     14.860342 │ 3.8032140731811523 │       -45.547813 │         -43.100655 │    -73.933349609375 │                  1.0 │       -73.93335 │      -24.734798 │          49.19855 │       136.72282 │       11.692854 │               -57.11302 │              -37.717262 │                      19.39576 │            4.467266 │       -0.7822974 │  -0.4160936772823334 │ 1.8400811 │   1.7683933 │  -38.56211853027344 │           1.0 │  -38.56212 │ 113.524704 │  152.08682 │ 204.78561 │ 14.310332 │      -0.32182717 │         4.103829 │              4.4256563 │         -inf │ 39.729874 │  4.823385715484619 │  18.90391446380902 │ 16.796989662743428 │ 15.749390320623746 │                1.0 │ 15.749390320623746 │  29.80736919400497 │ 14.057978873381224 │ 22.088373627494747 │  4.699826978463649 │    16.205797299960103 │     18.78102873468538 │           2.575231434725275 │ 1.9182706507729288 │  1.2112422948809414 │ 1.6700535496374846 │\n",
       "│ Coren-20141121-pxp │   2.74458002941134 │  1.6577529508315016 │                2.0 │      0.062591552734375 │   0.028640747 │   0.009643555 │ -0.009002686 │    0.2020874 │  0.009203976020216942 │ 0.09593735466551567 │     0.0049819946 │      0.086250305 │  0.21109009 │             0.08126831 │  0.05695833333333333 │  -0.0005266399284085307 │  3.433662121858538 │ 1883.3733332524444 │  1876.746681920258 │  0.019906254 │ 3921.6666666666665 │     80.135605 │       5.4832525 │  0.048991017043590546 │               1.0 │  0.048991017 │    2444.6233 │      2444.5742 │    86183.375 │    293.57004 │            1.3273703 │             33.85253 │                   32.52516 │        2.5562022 │      45.65951 │  6.429774761199951 │        -34.36543 │          -35.49999 │ -55.989200592041016 │                  1.0 │        -55.9892 │       -9.008247 │         46.980953 │       90.722145 │        9.524817 │               -41.67353 │               -27.60849 │                     14.065041 │           4.4584665 │      -0.39813948 │   0.3366260230541229 │  2.919677 │   1.7566121 │ -27.552539825439453 │           1.0 │  -27.55254 │    87.9185 │  115.47104 │ 207.08765 │  14.39054 │       -2.5474596 │        5.9854097 │               8.532869 │         -inf │ 16.837202 │ 3.2820804119110107 │  21.72266503294798 │ 19.466185507039697 │ 15.650851296919878 │                1.0 │ 15.650851296919878 │ 30.154878012082307 │ 14.504026715162428 │ 24.794464763868802 │ 4.9794040571004885 │    17.882300289349622 │     25.51106991794736 │          7.6287696285977376 │ 1.9200886130570551 │ -1.2593689353084367 │ 0.4074517852776843 │\n",
       "│ Coren-20141121-pxp │               NULL │  1.2232585026697524 │ 1.5849625007211559 │    0.08024088541666667 │    0.04763794 │     0.2020874 │ -0.009002686 │    0.2020874 │  0.011936970365544159 │ 0.10925644313057312 │      0.019317627 │       0.12486267 │  0.21109009 │            0.105545044 │              0.05725 │  -0.0006468543741172166 │  4.621841614918257 │ 2304.1011678957093 │  2247.672111645025 │ 0.0064604143 │             5372.0 │      126.4556 │       11.114672 │    0.2982644736766815 │               1.0 │   0.29826447 │    6002.0186 │        6001.72 │     409813.2 │     640.1665 │             4.857221 │             28.83487 │                  23.977648 │        2.1442833 │     75.876884 │  8.617230415344238 │       -31.251806 │         -32.432335 │ -48.144351959228516 │                  1.0 │      -48.144352 │      -5.1073914 │          43.03696 │       52.035255 │       7.2135468 │              -36.027275 │              -28.291195 │                       7.73608 │           4.4692745 │        1.4376307 │   1.0227359533309937 │   4.40341 │    2.749496 │ -24.510757446289062 │           1.0 │ -24.510757 │ 126.248314 │  150.75906 │ 233.29198 │ 15.273898 │       -0.5537769 │        5.8306694 │               6.384446 │         -inf │ 42.855827 │  5.729229927062988 │  22.00851084835701 │  18.74327466475682 │ 14.788550564966354 │                1.0 │ 14.788550564966354 │  36.81710572987685 │ 22.028555164910497 │  53.06802896605071 │  7.284780639528599 │     16.44453351888381 │    25.410788970565697 │           8.966255451681889 │ 1.8948394846773924 │ -0.2858662698287371 │ 0.9583205207058956 │\n",
       "│ Coren-20141121-pxp │               NULL │                NULL │                1.0 │      0.019317626953125 │   0.019317627 │    0.04763794 │ -0.009002686 │   0.04763794 │ 0.0016040802001953125 │ 0.04005097002814429 │     0.0051574707 │      0.033477783 │ 0.056640625 │           0.0283203125 │ 0.060395833333333336 │ -0.00035498226319833975 │  2.711968193668177 │ 2534.5672226146294 │  2299.025371818183 │  0.010883795 │  5470.333333333333 │      33.81213 │       4.5978546 │   0.22066107392311096 │               1.0 │   0.22066107 │    1164.1309 │      1163.9102 │    16115.435 │    126.94658 │             2.727869 │            15.307077 │                  12.579208 │        2.7634456 │      66.95658 │  7.925703525543213 │        -34.42514 │         -36.264816 │  -49.45310974121094 │                  1.0 │       -49.45311 │      -12.230347 │         37.222763 │       42.777397 │       6.5404434 │               -38.53229 │              -31.051128 │                      7.481163 │           4.4802213 │        0.7551656 │   0.8566985130310059 │ 3.7596133 │   2.5326402 │ -20.428390502929688 │           1.0 │  -20.42839 │   92.14936 │  112.57775 │ 143.34753 │ 11.972783 │        0.4370455 │        5.0415096 │               4.604464 │         -inf │ 33.083904 │  4.950153350830078 │ 21.017975424118788 │ 15.448476875885763 │ 14.022141035097672 │                1.0 │ 14.022141035097672 │  36.16616055419941 │ 22.144019519101736 │  71.88904100959581 │  8.478740532036337 │    15.000002825725483 │    25.744521926098855 │          10.744519100373372 │ 1.8709438161065206 │ -0.9861190905717683 │ 0.8941864497433386 │\n",
       "│ Coren-20141121-pxp │               NULL │                NULL │                0.0 │     -0.009002685546875 │  -0.009002686 │  -0.009002686 │ -0.009002686 │ -0.009002686 │                  NULL │                NULL │     -0.009002686 │     -0.009002686 │         0.0 │                    0.0 │             0.024625 │  -0.0004509918696700132 │ 2.6966597471109734 │ 1305.3531459791504 │ 1545.1728750354298 │  0.012926155 │ 2481.6666666666665 │     38.465256 │       1.4411421 │    0.0175404641777277 │               1.0 │  0.017540464 │     659.5587 │       659.5412 │     9405.791 │     96.98346 │           0.24433163 │            27.320557 │                  27.076225 │        3.0183363 │     21.443766 │  4.383227348327637 │       -38.759357 │          -41.30584 │ -60.449954986572266 │                  1.0 │      -60.449955 │       -14.69783 │         45.752125 │       141.89064 │       11.911786 │              -49.013294 │               -28.53181 │                     20.481483 │           4.4502554 │       -1.2419158 │  0.16034963726997375 │ 1.4350603 │   1.1131656 │   -21.8459529876709 │           1.0 │ -21.845953 │ 125.823975 │  147.66992 │ 226.12779 │ 15.037546 │        -2.003006 │        3.0527015 │              5.0557075 │         -inf │ 49.931347 │  6.398070812225342 │  17.60340253005732 │  15.61866103429269 │ 14.421859358568833 │                1.0 │ 14.421859358568833 │ 24.204953481535487 │  9.783094122966654 │  16.20067683592368 │  4.025006439240027 │    14.809954115208946 │     19.67921780279317 │           4.869263687584223 │  1.921227846305052 │ -1.1012452368734174 │ 0.9153109255406463 │\n",
       "├────────────────────┴────────────────────┴─────────────────────┴────────────────────┴────────────────────────┴───────────────┴───────────────┴──────────────┴──────────────┴───────────────────────┴─────────────────────┴──────────────────┴──────────────────┴─────────────┴────────────────────────┴──────────────────────┴─────────────────────────┴────────────────────┴────────────────────┴────────────────────┴──────────────┴────────────────────┴───────────────┴─────────────────┴───────────────────────┴───────────────────┴──────────────┴──────────────┴────────────────┴──────────────┴──────────────┴──────────────────────┴──────────────────────┴────────────────────────────┴──────────────────┴───────────────┴────────────────────┴──────────────────┴────────────────────┴─────────────────────┴──────────────────────┴─────────────────┴─────────────────┴───────────────────┴─────────────────┴─────────────────┴─────────────────────────┴─────────────────────────┴───────────────────────────────┴─────────────────────┴──────────────────┴──────────────────────┴───────────┴─────────────┴─────────────────────┴───────────────┴────────────┴────────────┴────────────┴───────────┴───────────┴──────────────────┴──────────────────┴────────────────────────┴──────────────┴───────────┴────────────────────┴────────────────────┴────────────────────┴────────────────────┴────────────────────┴────────────────────┴────────────────────┴────────────────────┴────────────────────┴────────────────────┴───────────────────────┴───────────────────────┴─────────────────────────────┴────────────────────┴─────────────────────┴────────────────────┤\n",
       "│ 402 rows (20 shown)                                                                                                                                                                                                                                                                                                                                                                                                                                                                                                                                                                                                                                                                                                                                                                                                                                                                                                                                                                                                                                                                                                                                                                                                                                                                                                                                                                                                                                                                                                                                                                                                                                                       82 columns │\n",
       "└──────────────────────────────────────────────────────────────────────────────────────────────────────────────────────────────────────────────────────────────────────────────────────────────────────────────────────────────────────────────────────────────────────────────────────────────────────────────────────────────────────────────────────────────────────────────────────────────────────────────────────────────────────────────────────────────────────────────────────────────────────────────────────────────────────────────────────────────────────────────────────────────────────────────────────────────────────────────────────────────────────────────────────────────────────────────────────────────────────────────────────────────────────────────────────────────────────────────────────────────────────────────────────────────────────────────────────────────────────────────────────────────────────────────────────────────────────────────────────────────────────────────────────────────────────────────────────────────────────────────────────────────────────────────────────────────────────────────────────────────────────────────────────────────────────────────────────────────────────────────────────────────────────────────────────────────────────────────────────────────────────────────────────────────────────────────────────────────────────────────────────────────────────────────────────────────────────────────────────────────────────────────────────────────────────────────────────────────────────────────────────────────────────────────────────────────────────────────────────────────────────────────────────┘"
      ]
     },
     "execution_count": 35,
     "metadata": {},
     "output_type": "execute_result"
    }
   ],
   "source": [
    "conn.sql(\"\"\"\n",
    "    SELECT * FROM features\n",
    "\"\"\")"
   ]
  },
  {
   "cell_type": "markdown",
   "id": "13fc8ed7",
   "metadata": {},
   "source": [
    "# since prior feature engineering produced null values for each subject we will need to impute these values in our features table partitioned across each subject"
   ]
  },
  {
   "cell_type": "code",
   "execution_count": 36,
   "id": "ec7be1ad",
   "metadata": {},
   "outputs": [
    {
     "data": {
      "text/plain": [
       "[('subjectId',),\n",
       " ('freq_kurt',),\n",
       " ('freq_skew',),\n",
       " ('freq_entropy',),\n",
       " ('freq_mean',)]"
      ]
     },
     "execution_count": 36,
     "metadata": {},
     "output_type": "execute_result"
    }
   ],
   "source": [
    "rows = conn.sql(\"\"\"\n",
    "    SELECT column_name\n",
    "    FROM (DESCRIBE features)\n",
    "\"\"\").fetchall()\n",
    "rows[:5]"
   ]
  },
  {
   "cell_type": "code",
   "execution_count": 37,
   "id": "8836b9a3",
   "metadata": {},
   "outputs": [
    {
     "data": {
      "text/plain": [
       "81"
      ]
     },
     "execution_count": 37,
     "metadata": {},
     "output_type": "execute_result"
    }
   ],
   "source": [
    "feat_cols = list(filter(lambda feat_col: not \"subjectId\" in feat_col, [row[-1] for row in rows]))\n",
    "len(feat_cols)"
   ]
  },
  {
   "cell_type": "code",
   "execution_count": 38,
   "id": "7f78dce5",
   "metadata": {},
   "outputs": [],
   "source": [
    "query = \"\"\"\n",
    "    CREATE OR REPLACE TEMPORARY TABLE features_imp AS (SELECT\n",
    "        subjectId,\n",
    "\"\"\""
   ]
  },
  {
   "cell_type": "code",
   "execution_count": 39,
   "id": "2759738a",
   "metadata": {},
   "outputs": [],
   "source": [
    "n_features = len(feat_cols)\n",
    "for i, feat_col in enumerate(feat_cols):\n",
    "    if i == (n_features - 1): \n",
    "        query += f\"\"\"\n",
    "            COALESCE({feat_col}, AVG({feat_col}) OVER(PARTITION BY subjectId)) AS {feat_col}_imp\n",
    "        \"\"\"\n",
    "        break\n",
    "    query += f\"\"\"\n",
    "        COALESCE({feat_col}, AVG({feat_col}) OVER(PARTITION BY subjectId)) AS {feat_col}_imp,\n",
    "    \"\"\""
   ]
  },
  {
   "cell_type": "code",
   "execution_count": 40,
   "id": "0880bca1",
   "metadata": {},
   "outputs": [
    {
     "name": "stdout",
     "output_type": "stream",
     "text": [
      "80\n"
     ]
    }
   ],
   "source": [
    "print(i)"
   ]
  },
  {
   "cell_type": "code",
   "execution_count": 41,
   "id": "e5888ca6",
   "metadata": {},
   "outputs": [],
   "source": [
    "query += \"\"\"\n",
    "    FROM features)\n",
    "\"\"\""
   ]
  },
  {
   "cell_type": "code",
   "execution_count": 42,
   "id": "6addfc83",
   "metadata": {},
   "outputs": [
    {
     "data": {
      "text/plain": [
       "'\\n    CREATE OR REPLACE TEMPORARY TABLE features_imp AS (SELECT\\n        subjectId,\\n\\n        COALESCE(freq_kurt, AVG(freq_kurt) OVER(PARTITION BY subjectId)) AS freq_kurt_imp,\\n    \\n        COALESCE(freq_skew, AVG(freq_skew) OVER(PARTITION BY subjectId)) AS freq_skew_imp,\\n    \\n        COALESCE(freq_entropy, AVG(freq_entropy) OVER(PARTITION BY subjectId)) AS freq_entropy_imp,\\n    \\n        COALESCE(freq_mean, AVG(freq_mean) OVER(PARTITION BY subjectId)) AS freq_mean_imp,\\n    \\n        COALESCE(freq_median, AVG(freq_median) OVER(PARTITION BY subjectId)) AS freq_median_imp,\\n    \\n        COALESCE(freq_mode, AVG(freq_mode) OVER(PARTITION BY subjectId)) AS freq_mode_imp,\\n    \\n        COALESCE(freq_min, AVG(freq_min) OVER(PARTITION BY subjectId)) AS freq_min_imp,\\n    \\n        COALESCE(freq_max, AVG(freq_max) OVER(PARTITION BY subjectId)) AS freq_max_imp,\\n    \\n        COALESCE(freq_var, AVG(freq_var) OVER(PARTITION BY subjectId)) AS freq_var_imp,\\n    \\n        COALESCE(freq_stddev, AVG(freq_stddev) OVER(PARTITION BY subjectId)) AS freq_stddev_imp,\\n    \\n        COALESCE(freq_first_quart, AVG(freq_first_quart) OVER(PARTITION BY subjectId)) AS freq_first_quart_imp,\\n    \\n        COALESCE(freq_third_quart, AVG(freq_third_quart) OVER(PARTITION BY subjectId)) AS freq_third_quart_imp,\\n    \\n        COALESCE(freq_range, AVG(freq_range) OVER(PARTITION BY subjectId)) AS freq_range_imp,\\n    \\n        COALESCE(freq_inter_quart_range, AVG(freq_inter_quart_range) OVER(PARTITION BY subjectId)) AS freq_inter_quart_range_imp,\\n    \\n        COALESCE(zcr, AVG(zcr) OVER(PARTITION BY subjectId)) AS zcr_imp,\\n    \\n        COALESCE(poly_feat_1, AVG(poly_feat_1) OVER(PARTITION BY subjectId)) AS poly_feat_1_imp,\\n    \\n        COALESCE(poly_feat_2, AVG(poly_feat_2) OVER(PARTITION BY subjectId)) AS poly_feat_2_imp,\\n    \\n        COALESCE(spec_cent, AVG(spec_cent) OVER(PARTITION BY subjectId)) AS spec_cent_imp,\\n    \\n        COALESCE(spec_bw, AVG(spec_bw) OVER(PARTITION BY subjectId)) AS spec_bw_imp,\\n    \\n        COALESCE(spec_flat, AVG(spec_flat) OVER(PARTITION BY subjectId)) AS spec_flat_imp,\\n    \\n        COALESCE(spec_roll, AVG(spec_roll) OVER(PARTITION BY subjectId)) AS spec_roll_imp,\\n    \\n        COALESCE(mel_spec_mean, AVG(mel_spec_mean) OVER(PARTITION BY subjectId)) AS mel_spec_mean_imp,\\n    \\n        COALESCE(mel_spec_median, AVG(mel_spec_median) OVER(PARTITION BY subjectId)) AS mel_spec_median_imp,\\n    \\n        COALESCE(mel_spec_mode, AVG(mel_spec_mode) OVER(PARTITION BY subjectId)) AS mel_spec_mode_imp,\\n    \\n        COALESCE(mel_spec_mode_cnt, AVG(mel_spec_mode_cnt) OVER(PARTITION BY subjectId)) AS mel_spec_mode_cnt_imp,\\n    \\n        COALESCE(mel_spec_min, AVG(mel_spec_min) OVER(PARTITION BY subjectId)) AS mel_spec_min_imp,\\n    \\n        COALESCE(mel_spec_max, AVG(mel_spec_max) OVER(PARTITION BY subjectId)) AS mel_spec_max_imp,\\n    \\n        COALESCE(mel_spec_range, AVG(mel_spec_range) OVER(PARTITION BY subjectId)) AS mel_spec_range_imp,\\n    \\n        COALESCE(mel_spec_var, AVG(mel_spec_var) OVER(PARTITION BY subjectId)) AS mel_spec_var_imp,\\n    \\n        COALESCE(mel_spec_std, AVG(mel_spec_std) OVER(PARTITION BY subjectId)) AS mel_spec_std_imp,\\n    \\n        COALESCE(mel_spec_first_quart, AVG(mel_spec_first_quart) OVER(PARTITION BY subjectId)) AS mel_spec_first_quart_imp,\\n    \\n        COALESCE(mel_spec_third_quart, AVG(mel_spec_third_quart) OVER(PARTITION BY subjectId)) AS mel_spec_third_quart_imp,\\n    \\n        COALESCE(mel_spec_inter_quart_range, AVG(mel_spec_inter_quart_range) OVER(PARTITION BY subjectId)) AS mel_spec_inter_quart_range_imp,\\n    \\n        COALESCE(mel_spec_entropy, AVG(mel_spec_entropy) OVER(PARTITION BY subjectId)) AS mel_spec_entropy_imp,\\n    \\n        COALESCE(mel_spec_kurt, AVG(mel_spec_kurt) OVER(PARTITION BY subjectId)) AS mel_spec_kurt_imp,\\n    \\n        COALESCE(mel_spec_skew, AVG(mel_spec_skew) OVER(PARTITION BY subjectId)) AS mel_spec_skew_imp,\\n    \\n        COALESCE(mel_spec_db_mean, AVG(mel_spec_db_mean) OVER(PARTITION BY subjectId)) AS mel_spec_db_mean_imp,\\n    \\n        COALESCE(mel_spec_db_median, AVG(mel_spec_db_median) OVER(PARTITION BY subjectId)) AS mel_spec_db_median_imp,\\n    \\n        COALESCE(mel_spec_db_mode, AVG(mel_spec_db_mode) OVER(PARTITION BY subjectId)) AS mel_spec_db_mode_imp,\\n    \\n        COALESCE(mel_spec_db_mode_cnt, AVG(mel_spec_db_mode_cnt) OVER(PARTITION BY subjectId)) AS mel_spec_db_mode_cnt_imp,\\n    \\n        COALESCE(mel_spec_db_min, AVG(mel_spec_db_min) OVER(PARTITION BY subjectId)) AS mel_spec_db_min_imp,\\n    \\n        COALESCE(mel_spec_db_max, AVG(mel_spec_db_max) OVER(PARTITION BY subjectId)) AS mel_spec_db_max_imp,\\n    \\n        COALESCE(mel_spec_db_range, AVG(mel_spec_db_range) OVER(PARTITION BY subjectId)) AS mel_spec_db_range_imp,\\n    \\n        COALESCE(mel_spec_db_var, AVG(mel_spec_db_var) OVER(PARTITION BY subjectId)) AS mel_spec_db_var_imp,\\n    \\n        COALESCE(mel_spec_db_std, AVG(mel_spec_db_std) OVER(PARTITION BY subjectId)) AS mel_spec_db_std_imp,\\n    \\n        COALESCE(mel_spec_db_first_quart, AVG(mel_spec_db_first_quart) OVER(PARTITION BY subjectId)) AS mel_spec_db_first_quart_imp,\\n    \\n        COALESCE(mel_spec_db_third_quart, AVG(mel_spec_db_third_quart) OVER(PARTITION BY subjectId)) AS mel_spec_db_third_quart_imp,\\n    \\n        COALESCE(mel_spec_db_inter_quart_range, AVG(mel_spec_db_inter_quart_range) OVER(PARTITION BY subjectId)) AS mel_spec_db_inter_quart_range_imp,\\n    \\n        COALESCE(mel_spec_db_entropy, AVG(mel_spec_db_entropy) OVER(PARTITION BY subjectId)) AS mel_spec_db_entropy_imp,\\n    \\n        COALESCE(mel_spec_db_kurt, AVG(mel_spec_db_kurt) OVER(PARTITION BY subjectId)) AS mel_spec_db_kurt_imp,\\n    \\n        COALESCE(mel_spec_db_skew, AVG(mel_spec_db_skew) OVER(PARTITION BY subjectId)) AS mel_spec_db_skew_imp,\\n    \\n        COALESCE(mfcc_mean, AVG(mfcc_mean) OVER(PARTITION BY subjectId)) AS mfcc_mean_imp,\\n    \\n        COALESCE(mfcc_median, AVG(mfcc_median) OVER(PARTITION BY subjectId)) AS mfcc_median_imp,\\n    \\n        COALESCE(mfcc_mode, AVG(mfcc_mode) OVER(PARTITION BY subjectId)) AS mfcc_mode_imp,\\n    \\n        COALESCE(mfcc_mode_cnt, AVG(mfcc_mode_cnt) OVER(PARTITION BY subjectId)) AS mfcc_mode_cnt_imp,\\n    \\n        COALESCE(mfcc_min, AVG(mfcc_min) OVER(PARTITION BY subjectId)) AS mfcc_min_imp,\\n    \\n        COALESCE(mfcc_max, AVG(mfcc_max) OVER(PARTITION BY subjectId)) AS mfcc_max_imp,\\n    \\n        COALESCE(mfcc_range, AVG(mfcc_range) OVER(PARTITION BY subjectId)) AS mfcc_range_imp,\\n    \\n        COALESCE(mfcc_var, AVG(mfcc_var) OVER(PARTITION BY subjectId)) AS mfcc_var_imp,\\n    \\n        COALESCE(mfcc_std, AVG(mfcc_std) OVER(PARTITION BY subjectId)) AS mfcc_std_imp,\\n    \\n        COALESCE(mfcc_first_quart, AVG(mfcc_first_quart) OVER(PARTITION BY subjectId)) AS mfcc_first_quart_imp,\\n    \\n        COALESCE(mfcc_third_quart, AVG(mfcc_third_quart) OVER(PARTITION BY subjectId)) AS mfcc_third_quart_imp,\\n    \\n        COALESCE(mfcc_inter_quart_range, AVG(mfcc_inter_quart_range) OVER(PARTITION BY subjectId)) AS mfcc_inter_quart_range_imp,\\n    \\n        COALESCE(mfcc_entropy, AVG(mfcc_entropy) OVER(PARTITION BY subjectId)) AS mfcc_entropy_imp,\\n    \\n        COALESCE(mfcc_kurt, AVG(mfcc_kurt) OVER(PARTITION BY subjectId)) AS mfcc_kurt_imp,\\n    \\n        COALESCE(mfcc_skew, AVG(mfcc_skew) OVER(PARTITION BY subjectId)) AS mfcc_skew_imp,\\n    \\n        COALESCE(spec_cont_mean, AVG(spec_cont_mean) OVER(PARTITION BY subjectId)) AS spec_cont_mean_imp,\\n    \\n        COALESCE(spec_cont_median, AVG(spec_cont_median) OVER(PARTITION BY subjectId)) AS spec_cont_median_imp,\\n    \\n        COALESCE(spec_cont_mode, AVG(spec_cont_mode) OVER(PARTITION BY subjectId)) AS spec_cont_mode_imp,\\n    \\n        COALESCE(spec_cont_mode_cnt, AVG(spec_cont_mode_cnt) OVER(PARTITION BY subjectId)) AS spec_cont_mode_cnt_imp,\\n    \\n        COALESCE(spec_cont_min, AVG(spec_cont_min) OVER(PARTITION BY subjectId)) AS spec_cont_min_imp,\\n    \\n        COALESCE(spec_cont_max, AVG(spec_cont_max) OVER(PARTITION BY subjectId)) AS spec_cont_max_imp,\\n    \\n        COALESCE(spec_cont_range, AVG(spec_cont_range) OVER(PARTITION BY subjectId)) AS spec_cont_range_imp,\\n    \\n        COALESCE(spec_cont_var, AVG(spec_cont_var) OVER(PARTITION BY subjectId)) AS spec_cont_var_imp,\\n    \\n        COALESCE(spec_cont_std, AVG(spec_cont_std) OVER(PARTITION BY subjectId)) AS spec_cont_std_imp,\\n    \\n        COALESCE(spec_cont_first_quart, AVG(spec_cont_first_quart) OVER(PARTITION BY subjectId)) AS spec_cont_first_quart_imp,\\n    \\n        COALESCE(spec_cont_third_quart, AVG(spec_cont_third_quart) OVER(PARTITION BY subjectId)) AS spec_cont_third_quart_imp,\\n    \\n        COALESCE(spec_cont_inter_quart_range, AVG(spec_cont_inter_quart_range) OVER(PARTITION BY subjectId)) AS spec_cont_inter_quart_range_imp,\\n    \\n        COALESCE(spec_cont_entropy, AVG(spec_cont_entropy) OVER(PARTITION BY subjectId)) AS spec_cont_entropy_imp,\\n    \\n        COALESCE(spec_cont_kurt, AVG(spec_cont_kurt) OVER(PARTITION BY subjectId)) AS spec_cont_kurt_imp,\\n    \\n            COALESCE(spec_cont_skew, AVG(spec_cont_skew) OVER(PARTITION BY subjectId)) AS spec_cont_skew_imp\\n        \\n    FROM features)\\n'"
      ]
     },
     "execution_count": 42,
     "metadata": {},
     "output_type": "execute_result"
    }
   ],
   "source": [
    "query"
   ]
  },
  {
   "cell_type": "code",
   "execution_count": 43,
   "id": "9adb0c8b",
   "metadata": {},
   "outputs": [],
   "source": [
    "conn.sql(query)"
   ]
  },
  {
   "cell_type": "markdown",
   "id": "f8f37615",
   "metadata": {},
   "source": [
    "# Drop columns with infinity values with threshold greater than 5 at the most, if below 5 then impute"
   ]
  },
  {
   "cell_type": "code",
   "execution_count": 44,
   "id": "9c27dbb3",
   "metadata": {},
   "outputs": [],
   "source": [
    "query = \"\"\"\n",
    "    SELECT\n",
    "\"\"\""
   ]
  },
  {
   "cell_type": "code",
   "execution_count": 45,
   "id": "7b104ad7",
   "metadata": {},
   "outputs": [],
   "source": [
    "n_features = len(feat_cols)\n",
    "for i, feat_col in enumerate(feat_cols):\n",
    "    if i == (n_features - 1): \n",
    "        query += f\"\"\"\n",
    "            SUM(CAST(ISINF({feat_col}_imp) AS INTEGER)) AS {feat_col}_imp\n",
    "        \"\"\"\n",
    "        break\n",
    "    query += f\"\"\"\n",
    "        SUM(CAST(ISINF({feat_col}_imp) AS INTEGER)) AS {feat_col}_imp,\n",
    "    \"\"\""
   ]
  },
  {
   "cell_type": "code",
   "execution_count": 46,
   "id": "6a9d5431",
   "metadata": {},
   "outputs": [],
   "source": [
    "query += \"\"\"\n",
    "    FROM features_imp\n",
    "\"\"\""
   ]
  },
  {
   "cell_type": "code",
   "execution_count": 47,
   "id": "54bdbf76",
   "metadata": {},
   "outputs": [
    {
     "data": {
      "text/plain": [
       "'\\n    SELECT\\n\\n        SUM(CAST(ISINF(freq_kurt_imp) AS INTEGER)) AS freq_kurt_imp,\\n    \\n        SUM(CAST(ISINF(freq_skew_imp) AS INTEGER)) AS freq_skew_imp,\\n    \\n        SUM(CAST(ISINF(freq_entropy_imp) AS INTEGER)) AS freq_entropy_imp,\\n    \\n        SUM(CAST(ISINF(freq_mean_imp) AS INTEGER)) AS freq_mean_imp,\\n    \\n        SUM(CAST(ISINF(freq_median_imp) AS INTEGER)) AS freq_median_imp,\\n    \\n        SUM(CAST(ISINF(freq_mode_imp) AS INTEGER)) AS freq_mode_imp,\\n    \\n        SUM(CAST(ISINF(freq_min_imp) AS INTEGER)) AS freq_min_imp,\\n    \\n        SUM(CAST(ISINF(freq_max_imp) AS INTEGER)) AS freq_max_imp,\\n    \\n        SUM(CAST(ISINF(freq_var_imp) AS INTEGER)) AS freq_var_imp,\\n    \\n        SUM(CAST(ISINF(freq_stddev_imp) AS INTEGER)) AS freq_stddev_imp,\\n    \\n        SUM(CAST(ISINF(freq_first_quart_imp) AS INTEGER)) AS freq_first_quart_imp,\\n    \\n        SUM(CAST(ISINF(freq_third_quart_imp) AS INTEGER)) AS freq_third_quart_imp,\\n    \\n        SUM(CAST(ISINF(freq_range_imp) AS INTEGER)) AS freq_range_imp,\\n    \\n        SUM(CAST(ISINF(freq_inter_quart_range_imp) AS INTEGER)) AS freq_inter_quart_range_imp,\\n    \\n        SUM(CAST(ISINF(zcr_imp) AS INTEGER)) AS zcr_imp,\\n    \\n        SUM(CAST(ISINF(poly_feat_1_imp) AS INTEGER)) AS poly_feat_1_imp,\\n    \\n        SUM(CAST(ISINF(poly_feat_2_imp) AS INTEGER)) AS poly_feat_2_imp,\\n    \\n        SUM(CAST(ISINF(spec_cent_imp) AS INTEGER)) AS spec_cent_imp,\\n    \\n        SUM(CAST(ISINF(spec_bw_imp) AS INTEGER)) AS spec_bw_imp,\\n    \\n        SUM(CAST(ISINF(spec_flat_imp) AS INTEGER)) AS spec_flat_imp,\\n    \\n        SUM(CAST(ISINF(spec_roll_imp) AS INTEGER)) AS spec_roll_imp,\\n    \\n        SUM(CAST(ISINF(mel_spec_mean_imp) AS INTEGER)) AS mel_spec_mean_imp,\\n    \\n        SUM(CAST(ISINF(mel_spec_median_imp) AS INTEGER)) AS mel_spec_median_imp,\\n    \\n        SUM(CAST(ISINF(mel_spec_mode_imp) AS INTEGER)) AS mel_spec_mode_imp,\\n    \\n        SUM(CAST(ISINF(mel_spec_mode_cnt_imp) AS INTEGER)) AS mel_spec_mode_cnt_imp,\\n    \\n        SUM(CAST(ISINF(mel_spec_min_imp) AS INTEGER)) AS mel_spec_min_imp,\\n    \\n        SUM(CAST(ISINF(mel_spec_max_imp) AS INTEGER)) AS mel_spec_max_imp,\\n    \\n        SUM(CAST(ISINF(mel_spec_range_imp) AS INTEGER)) AS mel_spec_range_imp,\\n    \\n        SUM(CAST(ISINF(mel_spec_var_imp) AS INTEGER)) AS mel_spec_var_imp,\\n    \\n        SUM(CAST(ISINF(mel_spec_std_imp) AS INTEGER)) AS mel_spec_std_imp,\\n    \\n        SUM(CAST(ISINF(mel_spec_first_quart_imp) AS INTEGER)) AS mel_spec_first_quart_imp,\\n    \\n        SUM(CAST(ISINF(mel_spec_third_quart_imp) AS INTEGER)) AS mel_spec_third_quart_imp,\\n    \\n        SUM(CAST(ISINF(mel_spec_inter_quart_range_imp) AS INTEGER)) AS mel_spec_inter_quart_range_imp,\\n    \\n        SUM(CAST(ISINF(mel_spec_entropy_imp) AS INTEGER)) AS mel_spec_entropy_imp,\\n    \\n        SUM(CAST(ISINF(mel_spec_kurt_imp) AS INTEGER)) AS mel_spec_kurt_imp,\\n    \\n        SUM(CAST(ISINF(mel_spec_skew_imp) AS INTEGER)) AS mel_spec_skew_imp,\\n    \\n        SUM(CAST(ISINF(mel_spec_db_mean_imp) AS INTEGER)) AS mel_spec_db_mean_imp,\\n    \\n        SUM(CAST(ISINF(mel_spec_db_median_imp) AS INTEGER)) AS mel_spec_db_median_imp,\\n    \\n        SUM(CAST(ISINF(mel_spec_db_mode_imp) AS INTEGER)) AS mel_spec_db_mode_imp,\\n    \\n        SUM(CAST(ISINF(mel_spec_db_mode_cnt_imp) AS INTEGER)) AS mel_spec_db_mode_cnt_imp,\\n    \\n        SUM(CAST(ISINF(mel_spec_db_min_imp) AS INTEGER)) AS mel_spec_db_min_imp,\\n    \\n        SUM(CAST(ISINF(mel_spec_db_max_imp) AS INTEGER)) AS mel_spec_db_max_imp,\\n    \\n        SUM(CAST(ISINF(mel_spec_db_range_imp) AS INTEGER)) AS mel_spec_db_range_imp,\\n    \\n        SUM(CAST(ISINF(mel_spec_db_var_imp) AS INTEGER)) AS mel_spec_db_var_imp,\\n    \\n        SUM(CAST(ISINF(mel_spec_db_std_imp) AS INTEGER)) AS mel_spec_db_std_imp,\\n    \\n        SUM(CAST(ISINF(mel_spec_db_first_quart_imp) AS INTEGER)) AS mel_spec_db_first_quart_imp,\\n    \\n        SUM(CAST(ISINF(mel_spec_db_third_quart_imp) AS INTEGER)) AS mel_spec_db_third_quart_imp,\\n    \\n        SUM(CAST(ISINF(mel_spec_db_inter_quart_range_imp) AS INTEGER)) AS mel_spec_db_inter_quart_range_imp,\\n    \\n        SUM(CAST(ISINF(mel_spec_db_entropy_imp) AS INTEGER)) AS mel_spec_db_entropy_imp,\\n    \\n        SUM(CAST(ISINF(mel_spec_db_kurt_imp) AS INTEGER)) AS mel_spec_db_kurt_imp,\\n    \\n        SUM(CAST(ISINF(mel_spec_db_skew_imp) AS INTEGER)) AS mel_spec_db_skew_imp,\\n    \\n        SUM(CAST(ISINF(mfcc_mean_imp) AS INTEGER)) AS mfcc_mean_imp,\\n    \\n        SUM(CAST(ISINF(mfcc_median_imp) AS INTEGER)) AS mfcc_median_imp,\\n    \\n        SUM(CAST(ISINF(mfcc_mode_imp) AS INTEGER)) AS mfcc_mode_imp,\\n    \\n        SUM(CAST(ISINF(mfcc_mode_cnt_imp) AS INTEGER)) AS mfcc_mode_cnt_imp,\\n    \\n        SUM(CAST(ISINF(mfcc_min_imp) AS INTEGER)) AS mfcc_min_imp,\\n    \\n        SUM(CAST(ISINF(mfcc_max_imp) AS INTEGER)) AS mfcc_max_imp,\\n    \\n        SUM(CAST(ISINF(mfcc_range_imp) AS INTEGER)) AS mfcc_range_imp,\\n    \\n        SUM(CAST(ISINF(mfcc_var_imp) AS INTEGER)) AS mfcc_var_imp,\\n    \\n        SUM(CAST(ISINF(mfcc_std_imp) AS INTEGER)) AS mfcc_std_imp,\\n    \\n        SUM(CAST(ISINF(mfcc_first_quart_imp) AS INTEGER)) AS mfcc_first_quart_imp,\\n    \\n        SUM(CAST(ISINF(mfcc_third_quart_imp) AS INTEGER)) AS mfcc_third_quart_imp,\\n    \\n        SUM(CAST(ISINF(mfcc_inter_quart_range_imp) AS INTEGER)) AS mfcc_inter_quart_range_imp,\\n    \\n        SUM(CAST(ISINF(mfcc_entropy_imp) AS INTEGER)) AS mfcc_entropy_imp,\\n    \\n        SUM(CAST(ISINF(mfcc_kurt_imp) AS INTEGER)) AS mfcc_kurt_imp,\\n    \\n        SUM(CAST(ISINF(mfcc_skew_imp) AS INTEGER)) AS mfcc_skew_imp,\\n    \\n        SUM(CAST(ISINF(spec_cont_mean_imp) AS INTEGER)) AS spec_cont_mean_imp,\\n    \\n        SUM(CAST(ISINF(spec_cont_median_imp) AS INTEGER)) AS spec_cont_median_imp,\\n    \\n        SUM(CAST(ISINF(spec_cont_mode_imp) AS INTEGER)) AS spec_cont_mode_imp,\\n    \\n        SUM(CAST(ISINF(spec_cont_mode_cnt_imp) AS INTEGER)) AS spec_cont_mode_cnt_imp,\\n    \\n        SUM(CAST(ISINF(spec_cont_min_imp) AS INTEGER)) AS spec_cont_min_imp,\\n    \\n        SUM(CAST(ISINF(spec_cont_max_imp) AS INTEGER)) AS spec_cont_max_imp,\\n    \\n        SUM(CAST(ISINF(spec_cont_range_imp) AS INTEGER)) AS spec_cont_range_imp,\\n    \\n        SUM(CAST(ISINF(spec_cont_var_imp) AS INTEGER)) AS spec_cont_var_imp,\\n    \\n        SUM(CAST(ISINF(spec_cont_std_imp) AS INTEGER)) AS spec_cont_std_imp,\\n    \\n        SUM(CAST(ISINF(spec_cont_first_quart_imp) AS INTEGER)) AS spec_cont_first_quart_imp,\\n    \\n        SUM(CAST(ISINF(spec_cont_third_quart_imp) AS INTEGER)) AS spec_cont_third_quart_imp,\\n    \\n        SUM(CAST(ISINF(spec_cont_inter_quart_range_imp) AS INTEGER)) AS spec_cont_inter_quart_range_imp,\\n    \\n        SUM(CAST(ISINF(spec_cont_entropy_imp) AS INTEGER)) AS spec_cont_entropy_imp,\\n    \\n        SUM(CAST(ISINF(spec_cont_kurt_imp) AS INTEGER)) AS spec_cont_kurt_imp,\\n    \\n            SUM(CAST(ISINF(spec_cont_skew_imp) AS INTEGER)) AS spec_cont_skew_imp\\n        \\n    FROM features_imp\\n'"
      ]
     },
     "execution_count": 47,
     "metadata": {},
     "output_type": "execute_result"
    }
   ],
   "source": [
    "query"
   ]
  },
  {
   "cell_type": "code",
   "execution_count": 48,
   "id": "a47281dd",
   "metadata": {},
   "outputs": [
    {
     "data": {
      "text/html": [
       "<div>\n",
       "<style scoped>\n",
       "    .dataframe tbody tr th:only-of-type {\n",
       "        vertical-align: middle;\n",
       "    }\n",
       "\n",
       "    .dataframe tbody tr th {\n",
       "        vertical-align: top;\n",
       "    }\n",
       "\n",
       "    .dataframe thead th {\n",
       "        text-align: right;\n",
       "    }\n",
       "</style>\n",
       "<table border=\"1\" class=\"dataframe\">\n",
       "  <thead>\n",
       "    <tr style=\"text-align: right;\">\n",
       "      <th></th>\n",
       "      <th>freq_kurt_imp</th>\n",
       "      <th>freq_skew_imp</th>\n",
       "      <th>freq_entropy_imp</th>\n",
       "      <th>freq_mean_imp</th>\n",
       "      <th>freq_median_imp</th>\n",
       "      <th>freq_mode_imp</th>\n",
       "      <th>freq_min_imp</th>\n",
       "      <th>freq_max_imp</th>\n",
       "      <th>freq_var_imp</th>\n",
       "      <th>freq_stddev_imp</th>\n",
       "      <th>...</th>\n",
       "      <th>spec_cont_max_imp</th>\n",
       "      <th>spec_cont_range_imp</th>\n",
       "      <th>spec_cont_var_imp</th>\n",
       "      <th>spec_cont_std_imp</th>\n",
       "      <th>spec_cont_first_quart_imp</th>\n",
       "      <th>spec_cont_third_quart_imp</th>\n",
       "      <th>spec_cont_inter_quart_range_imp</th>\n",
       "      <th>spec_cont_entropy_imp</th>\n",
       "      <th>spec_cont_kurt_imp</th>\n",
       "      <th>spec_cont_skew_imp</th>\n",
       "    </tr>\n",
       "  </thead>\n",
       "  <tbody>\n",
       "    <tr>\n",
       "      <th>0</th>\n",
       "      <td>0.0</td>\n",
       "      <td>0.0</td>\n",
       "      <td>0.0</td>\n",
       "      <td>0.0</td>\n",
       "      <td>0.0</td>\n",
       "      <td>0.0</td>\n",
       "      <td>0.0</td>\n",
       "      <td>0.0</td>\n",
       "      <td>0.0</td>\n",
       "      <td>0.0</td>\n",
       "      <td>...</td>\n",
       "      <td>0.0</td>\n",
       "      <td>0.0</td>\n",
       "      <td>0.0</td>\n",
       "      <td>0.0</td>\n",
       "      <td>0.0</td>\n",
       "      <td>0.0</td>\n",
       "      <td>0.0</td>\n",
       "      <td>0.0</td>\n",
       "      <td>0.0</td>\n",
       "      <td>0.0</td>\n",
       "    </tr>\n",
       "  </tbody>\n",
       "</table>\n",
       "<p>1 rows × 81 columns</p>\n",
       "</div>"
      ],
      "text/plain": [
       "   freq_kurt_imp  freq_skew_imp  freq_entropy_imp  freq_mean_imp  \\\n",
       "0            0.0            0.0               0.0            0.0   \n",
       "\n",
       "   freq_median_imp  freq_mode_imp  freq_min_imp  freq_max_imp  freq_var_imp  \\\n",
       "0              0.0            0.0           0.0           0.0           0.0   \n",
       "\n",
       "   freq_stddev_imp  ...  spec_cont_max_imp  spec_cont_range_imp  \\\n",
       "0              0.0  ...                0.0                  0.0   \n",
       "\n",
       "   spec_cont_var_imp  spec_cont_std_imp  spec_cont_first_quart_imp  \\\n",
       "0                0.0                0.0                        0.0   \n",
       "\n",
       "   spec_cont_third_quart_imp  spec_cont_inter_quart_range_imp  \\\n",
       "0                        0.0                              0.0   \n",
       "\n",
       "   spec_cont_entropy_imp  spec_cont_kurt_imp  spec_cont_skew_imp  \n",
       "0                    0.0                 0.0                 0.0  \n",
       "\n",
       "[1 rows x 81 columns]"
      ]
     },
     "execution_count": 48,
     "metadata": {},
     "output_type": "execute_result"
    }
   ],
   "source": [
    "inf_cnts = conn.sql(query).fetchdf()\n",
    "inf_cnts"
   ]
  },
  {
   "cell_type": "code",
   "execution_count": 49,
   "id": "258c6a6e",
   "metadata": {},
   "outputs": [
    {
     "data": {
      "text/plain": [
       "402"
      ]
     },
     "execution_count": 49,
     "metadata": {},
     "output_type": "execute_result"
    }
   ],
   "source": [
    "int(inf_cnts[\"mfcc_entropy_imp\"].to_list()[-1])"
   ]
  },
  {
   "cell_type": "code",
   "execution_count": 50,
   "id": "2836338e",
   "metadata": {},
   "outputs": [],
   "source": [
    "def identify_inf_cols_to_remove(df, threshold=5):\n",
    "    \"\"\"\n",
    "    it is assumed that df is single row and multidimensional \n",
    "    or with multiple columns\n",
    "    \"\"\"\n",
    "    to_remove = []\n",
    "    for column in df.columns:\n",
    "        inf_cnt = int(inf_cnts[column].to_list()[-1])\n",
    "        if inf_cnt > threshold:\n",
    "            print(f\"column {column}: {inf_cnt}\")\n",
    "            to_remove.append(column)\n",
    "\n",
    "    return to_remove"
   ]
  },
  {
   "cell_type": "code",
   "execution_count": 51,
   "id": "35585881",
   "metadata": {},
   "outputs": [
    {
     "name": "stdout",
     "output_type": "stream",
     "text": [
      "column mfcc_entropy_imp: 402\n"
     ]
    },
    {
     "data": {
      "text/plain": [
       "['mfcc_entropy_imp']"
      ]
     },
     "execution_count": 51,
     "metadata": {},
     "output_type": "execute_result"
    }
   ],
   "source": [
    "cols_to_remove = identify_inf_cols_to_remove(inf_cnts)\n",
    "cols_to_remove"
   ]
  },
  {
   "cell_type": "code",
   "execution_count": 52,
   "id": "e4135428",
   "metadata": {},
   "outputs": [],
   "source": [
    "# cols_to_remove = [\"test\", \"test2\"]"
   ]
  },
  {
   "cell_type": "code",
   "execution_count": 53,
   "id": "8299f78c",
   "metadata": {},
   "outputs": [
    {
     "name": "stdout",
     "output_type": "stream",
     "text": [
      "DROP COLUMN mfcc_entropy_imp\n"
     ]
    }
   ],
   "source": [
    "query_part = \"\\n\".join([f\"DROP COLUMN {col_to_remove}\" for col_to_remove in cols_to_remove])\n",
    "print(query_part)"
   ]
  },
  {
   "cell_type": "code",
   "execution_count": 54,
   "id": "336843cf",
   "metadata": {},
   "outputs": [],
   "source": [
    "query = f\"\"\"\n",
    "    ALTER TABLE features_imp \n",
    "    {query_part}\n",
    "\"\"\""
   ]
  },
  {
   "cell_type": "code",
   "execution_count": 55,
   "id": "0e82a442",
   "metadata": {},
   "outputs": [
    {
     "name": "stdout",
     "output_type": "stream",
     "text": [
      "\n",
      "    ALTER TABLE features_imp \n",
      "    DROP COLUMN mfcc_entropy_imp\n",
      "\n"
     ]
    }
   ],
   "source": [
    "print(query)"
   ]
  },
  {
   "cell_type": "code",
   "execution_count": 56,
   "id": "d5e3a611",
   "metadata": {},
   "outputs": [],
   "source": [
    "conn.sql(query)"
   ]
  },
  {
   "cell_type": "code",
   "execution_count": 57,
   "id": "58020fea",
   "metadata": {},
   "outputs": [
    {
     "data": {
      "text/plain": [
       "┌───────────────────────┬────────────────────┬─────────────────────┬────────────────────┬────────────────────────┬────────────────────┬────────────────────┬────────────────────┬───────────────────┬───────────────────────┬─────────────────────┬──────────────────────┬──────────────────────┬───────────────────┬────────────────────────────┬─────────────────────┬────────────────────────┬────────────────────┬────────────────────┬────────────────────┬──────────────────────┬────────────────────┬────────────────────┬─────────────────────┬──────────────────────┬───────────────────────┬──────────────────────┬────────────────────┬────────────────────┬──────────────────┬────────────────────┬──────────────────────────┬──────────────────────────┬────────────────────────────────┬──────────────────────┬────────────────────┬────────────────────┬──────────────────────┬────────────────────────┬──────────────────────┬──────────────────────────┬─────────────────────┬─────────────────────┬───────────────────────┬─────────────────────┬─────────────────────┬─────────────────────────────┬─────────────────────────────┬───────────────────────────────────┬─────────────────────────┬──────────────────────┬──────────────────────┬──────────────────────┬──────────────────────┬─────────────────────┬───────────────────┬─────────────────────┬────────────────────┬────────────────────┬────────────────────┬────────────────────┬──────────────────────┬──────────────────────┬────────────────────────────┬────────────────────┬────────────────────┬────────────────────┬──────────────────────┬────────────────────┬────────────────────────┬────────────────────┬────────────────────┬─────────────────────┬────────────────────┬────────────────────┬───────────────────────────┬───────────────────────────┬─────────────────────────────────┬───────────────────────┬──────────────────────┬────────────────────┐\n",
       "│       subjectId       │   freq_kurt_imp    │    freq_skew_imp    │  freq_entropy_imp  │     freq_mean_imp      │  freq_median_imp   │   freq_mode_imp    │    freq_min_imp    │   freq_max_imp    │     freq_var_imp      │   freq_stddev_imp   │ freq_first_quart_imp │ freq_third_quart_imp │  freq_range_imp   │ freq_inter_quart_range_imp │       zcr_imp       │    poly_feat_1_imp     │  poly_feat_2_imp   │   spec_cent_imp    │    spec_bw_imp     │    spec_flat_imp     │   spec_roll_imp    │ mel_spec_mean_imp  │ mel_spec_median_imp │  mel_spec_mode_imp   │ mel_spec_mode_cnt_imp │   mel_spec_min_imp   │  mel_spec_max_imp  │ mel_spec_range_imp │ mel_spec_var_imp │  mel_spec_std_imp  │ mel_spec_first_quart_imp │ mel_spec_third_quart_imp │ mel_spec_inter_quart_range_imp │ mel_spec_entropy_imp │ mel_spec_kurt_imp  │ mel_spec_skew_imp  │ mel_spec_db_mean_imp │ mel_spec_db_median_imp │ mel_spec_db_mode_imp │ mel_spec_db_mode_cnt_imp │ mel_spec_db_min_imp │ mel_spec_db_max_imp │ mel_spec_db_range_imp │ mel_spec_db_var_imp │ mel_spec_db_std_imp │ mel_spec_db_first_quart_imp │ mel_spec_db_third_quart_imp │ mel_spec_db_inter_quart_range_imp │ mel_spec_db_entropy_imp │ mel_spec_db_kurt_imp │ mel_spec_db_skew_imp │    mfcc_mean_imp     │   mfcc_median_imp    │    mfcc_mode_imp    │ mfcc_mode_cnt_imp │    mfcc_min_imp     │    mfcc_max_imp    │   mfcc_range_imp   │    mfcc_var_imp    │    mfcc_std_imp    │ mfcc_first_quart_imp │ mfcc_third_quart_imp │ mfcc_inter_quart_range_imp │   mfcc_kurt_imp    │   mfcc_skew_imp    │ spec_cont_mean_imp │ spec_cont_median_imp │ spec_cont_mode_imp │ spec_cont_mode_cnt_imp │ spec_cont_min_imp  │ spec_cont_max_imp  │ spec_cont_range_imp │ spec_cont_var_imp  │ spec_cont_std_imp  │ spec_cont_first_quart_imp │ spec_cont_third_quart_imp │ spec_cont_inter_quart_range_imp │ spec_cont_entropy_imp │  spec_cont_kurt_imp  │ spec_cont_skew_imp │\n",
       "│        varchar        │       double       │       double        │       double       │         double         │       double       │       double       │       double       │      double       │        double         │       double        │        double        │        double        │      double       │           double           │       double        │         double         │       double       │       double       │       double       │        double        │       double       │       double       │       double        │        double        │        double         │        double        │       double       │       double       │      double      │       double       │          double          │          double          │             double             │        double        │       double       │       double       │        double        │         double         │        double        │          double          │       double        │       double        │        double         │       double        │       double        │           double            │           double            │              double               │         double          │        double        │        double        │        double        │        double        │       double        │      double       │       double        │       double       │       double       │       double       │       double       │        double        │        double        │           double           │       double       │       double       │       double       │        double        │       double       │         double         │       double       │       double       │       double        │       double       │       double       │          double           │          double           │             double              │        double         │        double        │       double       │\n",
       "├───────────────────────┼────────────────────┼─────────────────────┼────────────────────┼────────────────────────┼────────────────────┼────────────────────┼────────────────────┼───────────────────┼───────────────────────┼─────────────────────┼──────────────────────┼──────────────────────┼───────────────────┼────────────────────────────┼─────────────────────┼────────────────────────┼────────────────────┼────────────────────┼────────────────────┼──────────────────────┼────────────────────┼────────────────────┼─────────────────────┼──────────────────────┼───────────────────────┼──────────────────────┼────────────────────┼────────────────────┼──────────────────┼────────────────────┼──────────────────────────┼──────────────────────────┼────────────────────────────────┼──────────────────────┼────────────────────┼────────────────────┼──────────────────────┼────────────────────────┼──────────────────────┼──────────────────────────┼─────────────────────┼─────────────────────┼───────────────────────┼─────────────────────┼─────────────────────┼─────────────────────────────┼─────────────────────────────┼───────────────────────────────────┼─────────────────────────┼──────────────────────┼──────────────────────┼──────────────────────┼──────────────────────┼─────────────────────┼───────────────────┼─────────────────────┼────────────────────┼────────────────────┼────────────────────┼────────────────────┼──────────────────────┼──────────────────────┼────────────────────────────┼────────────────────┼────────────────────┼────────────────────┼──────────────────────┼────────────────────┼────────────────────────┼────────────────────┼────────────────────┼─────────────────────┼────────────────────┼────────────────────┼───────────────────────────┼───────────────────────────┼─────────────────────────────────┼───────────────────────┼──────────────────────┼────────────────────┤\n",
       "│ Anniepoo-20140308-hns │   8.52312606605912 │  0.9594436529797737 │  4.906890595608519 │  -0.005842081705729167 │ -0.000152587890625 │  0.002899169921875 │ -0.221710205078125 │ 0.280792236328125 │  0.005740469429727601 │ 0.07576588565923058 │  -0.0186309814453125 │  0.01248931884765625 │  0.50250244140625 │        0.03112030029296875 │ 0.10185416666666666 │ -0.0009422974962494769 │  6.354508825678141 │ 2055.9436742418875 │  2233.055871822504 │ 0.017483316361904144 │  4990.333333333333 │  413.9034423828125 │   6.086520671844482 │  0.35155820846557617 │                   1.0 │  0.35155820846557617 │   5880.39111328125 │   5880.03955078125 │        1419724.0 │  1191.521728515625 │       1.9025282859802246 │       28.001052856445312 │              26.09852409362793 │    2.484309196472168 │  9.187787055969238 │  3.159975051879883 │  -36.901607513427734 │    -39.733985900878906 │   -52.11603546142578 │                      1.0 │  -52.11603546142578 │  -9.881946563720703 │     42.23408889770508 │  118.30469512939453 │  10.876795768737793 │          -44.78276062011719 │          -33.10483169555664 │                11.677928924560547 │        4.44814920425415 │  0.39267826080322266 │    1.091941237449646 │  0.13794395327568054 │  -0.7102599143981934 │  -38.69055938720703 │               1.0 │  -38.69055938720703 │ 117.44342803955078 │  156.1339874267578 │    323.10498046875 │ 17.975120544433594 │   -2.999722480773926 │    2.374061346054077 │          5.373784065246582 │ 19.704181671142578 │  3.301420211791992 │ 21.705282205051983 │    23.03648105458493 │ 14.834225827122962 │                    1.0 │ 14.834225827122962 │   33.0956086757418 │  18.261382848618837 │  34.67065856712863 │  5.888179563084726 │        16.541104875910953 │         23.94422506304614 │               7.403120187135187 │    1.9102910512939173 │  -0.5565950382649896 │ 0.6340797071637071 │\n",
       "│ Anniepoo-20140308-hns │  6.387964039165185 │  2.4863380315356816 │  2.807354922057604 │    0.03724888392857143 │  0.000518798828125 │  0.017120361328125 │ -0.036224365234375 │ 0.280792236328125 │  0.011869681644297782 │ 0.10894806856616496 │   -0.009429931640625 │   0.0172576904296875 │   0.3170166015625 │         0.0266876220703125 │ 0.18897916666666667 │ -0.0005997065389398331 │  4.265077601762108 │ 2286.0287038246593 │  2260.782053076939 │  0.03836056590080261 │  5451.333333333333 │  126.6573257446289 │    7.87260627746582 │ 0.025838684290647507 │                   1.0 │ 0.025838684290647507 │ 1893.4102783203125 │ 1893.3843994140625 │    96681.8203125 │    310.93701171875 │       3.4420413970947266 │       36.556053161621094 │                33.114013671875 │    2.933669090270996 │ 13.360918045043945 │ 3.4954752922058105 │    -36.9324951171875 │     -38.61530303955078 │  -63.453304290771484 │                      1.0 │ -63.453304290771484 │ -14.803558349609375 │     48.64974594116211 │    96.1334228515625 │   9.804765701293945 │          -42.20807647705078 │         -31.980003356933594 │                10.228073120117188 │       4.462069511413574 │ -0.06338334083557129 │   0.3450964689254761 │  -1.2969231605529785 │  -1.1664127111434937 │  -53.62556457519531 │               1.0 │  -53.62556457519531 │ 116.00178527832031 │ 169.62734985351562 │  290.4571228027344 │ 17.042802810668945 │   -4.787046432495117 │   1.8935686349868774 │          6.680614948272705 │ 25.678882598876953 │ 3.7010297775268555 │ 21.976944839532102 │   19.725570317264783 │   13.5466033662122 │                    1.0 │   13.5466033662122 │  34.44580761425432 │   20.89920424804212 │  46.01946784262255 │  6.783765019708639 │         18.01608930982097 │         25.04422697967572 │                7.02813766985475 │    1.9004967473312453 │  -0.7734468304876159 │ 0.7468282312031783 │\n",
       "│ Anniepoo-20140308-hns │   7.87933606737764 │   0.923199907007559 │  4.807354922057602 │  -0.005591256277901786 │ -0.000152587890625 │  -0.10821533203125 │ -0.221710205078125 │ 0.280792236328125 │   0.00615358989804037 │ 0.07844482072157709 │ -0.01331329345703125 │    0.014556884765625 │  0.50250244140625 │        0.02787017822265625 │ 0.14685416666666667 │ -0.0008801783023083153 │  6.786027576358395 │ 2562.2592675425326 │  2463.535049536976 │   0.0607038289308548 │  6032.333333333333 │  329.1438903808594 │  25.108951568603516 │   1.1857130527496338 │                   1.0 │   1.1857130527496338 │    5124.4072265625 │    5123.2216796875 │       675434.125 │  821.8480224609375 │        9.232163429260254 │        71.43487548828125 │              62.20271301269531 │    2.915508508682251 │ 13.660696029663086 │   3.50598406791687 │   -31.80100440979004 │    -33.581947326660156 │  -46.836212158203125 │                      1.0 │ -46.836212158203125 │ -10.479572296142578 │     36.35663986206055 │   71.90304565429688 │    8.47956657409668 │          -37.92300033569336 │          -29.03695297241211 │                  8.88604736328125 │       4.459710121154785 │ -0.12165689468383789 │   0.8836596608161926 │   0.6565721035003662 │  -0.5647968053817749 │  -31.68325424194336 │               1.0 │  -31.68325424194336 │ 176.11798095703125 │ 207.80123901367188 │ 448.37005615234375 │  21.17475128173828 │  -2.6885151863098145 │   1.8057830333709717 │          4.494297981262207 │ 50.225887298583984 │  6.369202136993408 │  20.59223036962183 │   17.075998085554026 │ 15.780143710268078 │                    1.0 │ 15.780143710268078 │  37.94699921897566 │  22.166855508707584 │ 54.348234889648076 │  7.372125534040239 │          16.6519336096306 │         20.01930217664693 │              3.3673685670163316 │    1.8911229333906678 │    1.449227257363538 │  1.756852122529502 │\n",
       "│ Anniepoo-20140308-hns │  8.745925656099823 │  0.9438940710900312 │  4.754887502163471 │ -0.0017903645833333333 │   9.1552734375e-05 │ -0.000396728515625 │ -0.221710205078125 │ 0.280792236328125 │  0.005970198589448745 │ 0.07726706018381148 │   -0.009429931640625 │    0.015411376953125 │  0.50250244140625 │           0.02484130859375 │ 0.09510416666666667 │  -0.001353058409601066 │  8.275358401065672 │ 1479.3578783711455 │ 1573.7046418555747 │ 0.015148244798183441 │             3227.0 │  372.0045166015625 │   24.88509178161621 │  0.12103454023599625 │                   1.0 │  0.12103454023599625 │      5608.67578125 │       5608.5546875 │      792934.0625 │  890.4684448242188 │         5.29500150680542 │       157.02182006835938 │             151.72682189941406 │    2.997100591659546 │ 16.004484176635742 │ 3.7365331649780273 │   -33.26667404174805 │    -33.616756439208984 │   -56.74691390991211 │                      1.0 │  -56.74691390991211 │ -10.087406158447266 │    46.659507751464844 │  130.76153564453125 │  11.435101509094238 │           -40.3375358581543 │         -25.616823196411133 │                14.720712661743164 │      4.4372639656066895 │  -0.6491265296936035 │ 0.042229894548654556 │   0.8655156493186951 │ -0.20312932133674622 │ -30.823909759521484 │               1.0 │ -30.823909759521484 │ 159.15322875976562 │ 189.97714233398438 │  471.8707580566406 │ 21.722585678100586 │  -2.6519415378570557 │   1.3633654117584229 │         4.0153069496154785 │  34.60051345825195 │  5.411907196044922 │  18.70594617578672 │   16.388275757920738 │ 13.726376384991607 │                    1.0 │ 13.726376384991607 │   29.5301601644877 │  15.803783779496094 │  23.51861163442428 │  4.849599121002093 │        15.971423796482139 │         19.67698166507135 │                3.70555786858921 │    1.9151928647788887 │   0.7432842552740833 │   1.36872099118453 │\n",
       "│ Anniepoo-20140308-hns │  8.374709042938164 │   0.930649630647262 │   4.70043971814109 │ -0.0018439659705528845 │    0.0001220703125 │  0.062225341796875 │ -0.221710205078125 │ 0.280792236328125 │  0.006208925856134065 │ 0.07879673759829188 │  -0.0095672607421875 │    0.016265869140625 │  0.50250244140625 │         0.0258331298828125 │ 0.10633333333333334 │ -0.0013499152258412029 │  8.317198022047087 │ 1532.1144029270386 │ 1900.6807617087318 │ 0.013761419802904129 │             3529.0 │  534.3131103515625 │  14.426004409790039 │   0.6700883507728577 │                   1.0 │   0.6700883507728577 │    7863.9541015625 │    7863.2841796875 │      2027434.875 │ 1423.8802490234375 │        4.105998516082764 │        70.81238555908203 │              66.70639038085938 │   2.7150750160217285 │ 11.421053886413574 │  3.371502161026001 │   -33.70632553100586 │     -35.98719024658203 │    -49.3146858215332 │                      1.0 │   -49.3146858215332 │  -8.619598388671875 │     40.69508743286133 │  116.66657257080078 │  10.801230430603027 │          -41.44377899169922 │         -29.077537536621094 │                12.366241455078125 │       4.440379619598389 │  -0.3459751605987549 │    0.803957998752594 │   0.8435468673706055 │ -0.35341963171958923 │  -33.03518295288086 │               1.0 │  -33.03518295288086 │ 154.25906372070312 │ 187.29425048828125 │   431.055908203125 │ 20.761886596679688 │  -2.5680766105651855 │   2.2628657817840576 │          4.830942153930664 │ 35.117549896240234 │ 5.3633646965026855 │ 19.747611780441698 │   17.573498673381216 │ 14.520877672918928 │                    1.0 │ 14.520877672918928 │  34.54847806936428 │   20.02760039644535 │  41.63959748719861 │  6.452875133395858 │         15.85923776772799 │        19.935976255985732 │               4.076738488257742 │    1.8988852608239768 │   1.0748519936591885 │ 1.5682126890069001 │\n",
       "│ Anniepoo-20140308-hns │  8.781814199749164 │  1.0355125871857487 │  4.643856189774723 │      -0.00440673828125 │   9.1552734375e-05 │   -0.1160888671875 │ -0.221710205078125 │ 0.280792236328125 │  0.006289753131568431 │ 0.07930796385968077 │    -0.00970458984375 │    0.013702392578125 │  0.50250244140625 │          0.023406982421875 │ 0.11710416666666666 │ -0.0012844815857073334 │  8.598213648273255 │ 2020.0663314009357 │ 2205.4808683003703 │  0.03742097690701485 │  5242.333333333333 │  412.1584777832031 │  36.903297424316406 │   0.8713830709457397 │                   1.0 │   0.8713830709457397 │   4169.59912109375 │    4168.7275390625 │      718487.4375 │  847.6363525390625 │        6.841658592224121 │        258.0736999511719 │             251.23204040527344 │   3.1557960510253906 │  6.532938003540039 │   2.60780668258667 │  -31.023298263549805 │    -31.905536651611328 │   -48.17391586303711 │                      1.0 │  -48.17391586303711 │ -11.375064849853516 │    36.798851013183594 │   94.98316955566406 │   9.745930671691895 │          -39.22568130493164 │         -23.502307891845703 │                15.723373413085938 │       4.446025848388672 │  -0.8916051387786865 │  0.42473506927490234 │    1.317025899887085 │ -0.26141953468322754 │  -41.43595886230469 │               1.0 │  -41.43595886230469 │  184.7030792236328 │  226.1390380859375 │  514.8353881835938 │ 22.689983367919922 │  -2.4748587608337402 │    2.439511775970459 │          4.914370536804199 │ 46.719547271728516 │  6.297151565551758 │ 19.775889496419868 │   17.390395962304957 │   13.7808345122783 │                    1.0 │   13.7808345122783 │ 37.203953447916845 │  23.423118935638545 │  53.44689117012499 │   7.31073807287096 │           16.367471583436 │        18.660549692783476 │              2.2930781093474764 │    1.8879187841066565 │   1.7007890217651447 │ 1.8131750317887718 │\n",
       "│ Anniepoo-20140308-hns │ 10.122758372692966 │  1.1097865056114429 │  4.584962500721156 │  0.0002466837565104167 │    0.0001220703125 │   0.02716064453125 │ -0.221710205078125 │ 0.280792236328125 │  0.005998324920031904 │ 0.07744885357467794 │  -0.0092926025390625 │    0.014556884765625 │  0.50250244140625 │         0.0238494873046875 │           0.1211875 │  -0.001261071251944133 │  8.160160357169199 │ 1841.2891830357778 │ 2000.1317385608602 │ 0.027073848992586136 │  4308.333333333333 │ 414.15399169921875 │   32.29523468017578 │   0.6139161586761475 │                   1.0 │   0.6139161586761475 │    4764.5966796875 │   4763.98291015625 │      870156.4375 │    932.82177734375 │         5.01039981842041 │       149.69065856933594 │              144.6802520751953 │   3.0188188552856445 │  7.324362754821777 │  2.788456678390503 │  -31.822221755981445 │     -32.48468780517578 │  -49.694915771484375 │                      1.0 │ -49.694915771484375 │ -10.795745849609375 │       38.899169921875 │   99.89955139160156 │   9.994976043701172 │          -40.57899856567383 │          -25.83016014099121 │                14.748838424682617 │       4.445581912994385 │   -0.748978853225708 │  0.46804505586624146 │  0.20211870968341827 │ -0.34550565481185913 │  -38.39680480957031 │               1.0 │  -38.39680480957031 │  175.0802459716797 │    213.47705078125 │  488.0985107421875 │  22.09295082092285 │   -4.639239311218262 │   1.7824242115020752 │          6.421663284301758 │ 43.583316802978516 │  6.069267749786377 │  20.09738250725919 │   16.796156735992913 │ 15.106610870971885 │                    1.0 │ 15.106610870971885 │ 36.484695370114146 │   21.37808449914226 │ 49.006540813579996 │  7.000467185379844 │        16.248188539110142 │         19.89891874775756 │               3.650730208647417 │    1.8936439315422173 │   1.3630710370309194 │ 1.7152759515471723 │\n",
       "│ Anniepoo-20140308-hns │  9.890757014063253 │  1.1454359661790687 │  4.523561956057013 │ -0.0009234884510869565 │   9.1552734375e-05 │ -0.024139404296875 │ -0.221710205078125 │ 0.280792236328125 │  0.006236618995784301 │ 0.07897226725746387 │   -0.009429931640625 │   0.0112762451171875 │  0.50250244140625 │         0.0207061767578125 │             0.16125 │ -0.0016727835936527244 │ 10.015015210933715 │ 1315.7112430536781 │  1665.107629725094 │ 0.005632421001791954 │ 2570.6666666666665 │  991.0392456054688 │  21.449344635009766 │ 0.016887344419956207 │                   1.0 │ 0.016887344419956207 │           36506.75 │       36506.734375 │       16597441.0 │   4073.99560546875 │       2.1586930751800537 │        89.65664672851562 │              87.49795532226562 │    2.283996105194092 │   61.3941650390625 │ 7.5013017654418945 │   -33.84894561767578 │     -34.27050018310547 │    -65.3003921508789 │                      1.0 │   -65.3003921508789 │ -1.9522743225097656 │     63.34811782836914 │  161.53343200683594 │  12.709580421447754 │         -44.234519958496094 │         -28.050214767456055 │                 16.18430519104004 │       4.418919086456299 │  -0.4012160301208496 │  0.39422908425331116 │  -1.6031349897384644 │  -1.3894212245941162 │ -41.821739196777344 │               1.0 │ -41.821739196777344 │ 150.52259826660156 │ 192.34432983398438 │   487.548095703125 │  22.08049201965332 │   -5.602543354034424 │   1.3757764101028442 │         6.9783196449279785 │ 28.888322830200195 │  4.725570201873779 │ 21.705754074443206 │    18.93632814830139 │ 13.594534826288514 │                    1.0 │ 13.594534826288514 │  33.50240212813855 │  19.907867301850033 │  57.37317232197932 │  7.574508058083992 │         16.56507267817921 │         26.38843403100779 │                9.82336135282858 │    1.8881219229991255 │  -1.1695913780925546 │ 0.7072734317169294 │\n",
       "│ Anniepoo-20140308-hns │  8.214402935742543 │  0.9583009769475451 │  4.857980995127571 │  -0.006143504175646552 │ -0.000396728515625 │   -0.0216064453125 │ -0.221710205078125 │ 0.280792236328125 │  0.005942663184729556 │ 0.07708867092335654 │     -0.0216064453125 │    0.013702392578125 │  0.50250244140625 │          0.035308837890625 │ 0.13339583333333332 │ -0.0008518868204444608 │   8.98659491218076 │ 3185.5644021464573 │  2692.518272072658 │  0.05108282342553139 │  6578.333333333333 │  967.9979858398438 │   38.81602478027344 │   1.3374663591384888 │                   1.0 │   1.3374663591384888 │   14352.2294921875 │   14350.8916015625 │        7376782.0 │  2716.023193359375 │       11.913658142089844 │       169.92330932617188 │              158.0096435546875 │   2.6307623386383057 │ 11.379030227661133 │ 3.4070703983306885 │  -30.080745697021484 │     -31.68651008605957 │   -46.31317901611328 │                      1.0 │  -46.31317901611328 │  -6.006813049316406 │    40.306365966796875 │   96.48368072509766 │   9.822610855102539 │          -36.81571960449219 │         -25.273807525634766 │                11.541912078857422 │       4.436629772186279 │   0.0958702564239502 │    0.840025782585144 │   0.6516241431236267 │ -0.28583699464797974 │  -38.20246887207031 │               1.0 │  -38.20246887207031 │  195.5999755859375 │  233.8024444580078 │  563.4867553710938 │ 23.737876892089844 │  -2.8966617584228516 │   1.5962101221084595 │         4.4928717613220215 │  48.31038284301758 │  6.170187473297119 │ 22.530326712575512 │    19.89674249737905 │ 15.704492837688106 │                    1.0 │ 15.704492837688106 │ 41.284339886523675 │  25.579847048835568 │  67.20242147177716 │  8.197708306092451 │         17.14183071521898 │        23.271525167999897 │               6.129694452780917 │    1.8879061827300534 │   1.0529463090452849 │ 1.5320946482135738 │\n",
       "│ Anniepoo-20140308-hns │  8.998270087344045 │  1.0678806654847175 │   4.39231742277876 │ 0.00013078962053571428 │   9.1552734375e-05 │   9.1552734375e-05 │ -0.221710205078125 │ 0.280792236328125 │  0.006832106983555216 │ 0.08265656043869243 │     -0.0091552734375 │    0.013702392578125 │  0.50250244140625 │          0.022857666015625 │ 0.21177083333333332 │ -0.0005839192871162311 │  4.922450737800664 │ 2795.9921467277054 │  2536.568529943624 │  0.06573253870010376 │  6113.666666666666 │ 198.60028076171875 │  14.016846656799316 │    0.590421199798584 │                   1.0 │    0.590421199798584 │   3329.52783203125 │          3328.9375 │      301935.4375 │  549.4865112304688 │        8.236749649047852 │        35.38127136230469 │             27.144521713256836 │   2.7807130813598633 │ 15.813365936279297 │ 3.8895277976989746 │   -34.19601058959961 │     -36.10950469970703 │   -49.86438751220703 │                      1.0 │  -49.86438751220703 │ -12.352180480957031 │        37.51220703125 │   69.11306762695312 │   8.313426971435547 │         -38.420989990234375 │           -32.0899658203125 │                 6.331024169921875 │       4.466768264770508 │  0.35044097900390625 │     0.88593989610672 │    0.350970983505249 │ -0.27012211084365845 │    -41.281982421875 │               1.0 │    -41.281982421875 │ 148.77415466308594 │ 190.05613708496094 │  345.3078918457031 │ 18.582462310791016 │  -2.8559045791625977 │   1.8173823356628418 │         4.6732869148254395 │ 43.239994049072266 │  5.652978897094727 │ 20.027248098744284 │   17.337516440363782 │ 13.829641803113947 │                    1.0 │ 13.829641803113947 │  37.38438571083491 │  23.554743907720965 │ 53.117942209908115 │  7.288205692069078 │          16.6129362136706 │         19.20666015477807 │                2.59372394110747 │    1.8895396019806423 │   1.6875286654020458 │ 1.8038848926293618 │\n",
       "│           ·           │          ·         │           ·         │           ·        │               ·        │           ·        │           ·        │            ·       │         ·         │            ·          │           ·         │             ·        │            ·         │          ·        │                  ·         │          ·          │            ·           │          ·         │          ·         │          ·         │           ·          │          ·         │          ·         │           ·         │            ·         │                    ·  │            ·         │           ·        │              ·     │            ·     │          ·         │                ·         │                ·         │                      ·         │            ·         │          ·         │          ·         │            ·         │              ·         │            ·         │                       ·  │           ·         │           ·         │               ·       │           ·         │           ·         │                   ·         │                   ·         │                         ·         │               ·         │           ·          │             ·        │            ·         │           ·          │            ·        │                ·  │            ·        │          ·         │          ·         │          ·         │          ·         │           ·          │            ·         │                  ·         │          ·         │          ·         │          ·         │            ·         │          ·         │                     ·  │          ·         │          ·         │           ·         │          ·         │          ·         │                  ·        │                 ·         │                        ·        │             ·         │            ·         │          ·         │\n",
       "│           ·           │          ·         │           ·         │           ·        │               ·        │           ·        │           ·        │            ·       │         ·         │            ·          │           ·         │             ·        │            ·         │          ·        │                  ·         │          ·          │            ·           │          ·         │          ·         │          ·         │           ·          │          ·         │          ·         │           ·         │            ·         │                    ·  │            ·         │           ·        │              ·     │            ·     │          ·         │                ·         │                ·         │                      ·         │            ·         │          ·         │          ·         │            ·         │              ·         │            ·         │                       ·  │           ·         │           ·         │               ·       │           ·         │           ·         │                   ·         │                   ·         │                         ·         │               ·         │           ·          │             ·        │            ·         │           ·          │            ·        │                ·  │            ·        │          ·         │          ·         │          ·         │          ·         │           ·          │            ·         │                  ·         │          ·         │          ·         │          ·         │            ·         │          ·         │                     ·  │          ·         │          ·         │           ·         │          ·         │          ·         │                  ·        │                 ·         │                        ·        │             ·         │            ·         │          ·         │\n",
       "│           ·           │          ·         │           ·         │           ·        │               ·        │           ·        │           ·        │            ·       │         ·         │            ·          │           ·         │             ·        │            ·         │          ·        │                  ·         │          ·          │            ·           │          ·         │          ·         │          ·         │           ·          │          ·         │          ·         │           ·         │            ·         │                    ·  │            ·         │           ·        │              ·     │            ·     │          ·         │                ·         │                ·         │                      ·         │            ·         │          ·         │          ·         │            ·         │              ·         │            ·         │                       ·  │           ·         │           ·         │               ·       │           ·         │           ·         │                   ·         │                   ·         │                         ·         │               ·         │           ·          │             ·        │            ·         │           ·          │            ·        │                ·  │            ·        │          ·         │          ·         │          ·         │          ·         │           ·          │            ·         │                  ·         │          ·         │          ·         │          ·         │            ·         │          ·         │                     ·  │          ·         │          ·         │           ·         │          ·         │          ·         │                  ·        │                 ·         │                        ·        │             ·         │            ·         │          ·         │\n",
       "│ Anniepoo-20140308-nky │ 6.4664511526604285 │ -2.3979029488568235 │  3.321928094887362 │       -0.0635009765625 │ -0.016937255859375 │  -0.04144287109375 │      -0.4833984375 │ 0.093536376953125 │  0.025354616716504096 │   0.159231330825639 │ -0.03609466552734375 │ -0.00159454345703125 │ 0.576934814453125 │         0.0345001220703125 │ 0.18258333333333332 │ -0.0016491167573442253 │  10.15774183859809 │ 1530.0916705205314 │  1628.175390200092 │ 0.012909289449453354 │  3158.333333333333 │  657.1141357421875 │  26.613372802734375 │   0.1841854751110077 │                   1.0 │   0.1841854751110077 │    13528.021484375 │   13527.8369140625 │        3766276.5 │  1940.689697265625 │        4.021611213684082 │       299.42608642578125 │             295.40447998046875 │   2.7715086936950684 │  25.74474334716797 │  4.854804039001465 │  -33.896705627441406 │     -35.51472091674805 │  -57.103057861328125 │                      1.0 │ -57.103057861328125 │   -8.44327163696289 │    48.659786224365234 │  136.09083557128906 │  11.665797233581543 │           -43.7204475402832 │           -24.9948787689209 │                18.725568771362305 │       4.436318874359131 │  -0.8785889148712158 │   0.1562929004430771 │   0.8130217790603638 │ -0.17031630873680115 │  -47.59212875366211 │               1.0 │  -47.59212875366211 │ 175.92213439941406 │ 223.51426696777344 │  542.2344360351562 │  23.28592872619629 │  -3.0334064960479736 │    2.237715005874634 │          5.271121501922607 │  36.90531539916992 │  5.480151653289795 │ 20.508778744154053 │    18.85071613971517 │ 14.736582861292227 │                    1.0 │ 14.736582861292227 │ 31.229451046997234 │  16.492868185705007 │ 24.454774927109714 │  4.945176935874966 │        17.851695957245433 │        21.520654623291446 │               3.668958666046013 │    1.9188508842318668 │   0.4547109579935964 │  1.195264353457162 │\n",
       "│ Anniepoo-20140308-nky │  5.733252364902675 │ -2.2779605408576513 │  3.169925001442312 │    -0.0659518771701389 │ -0.015411376953125 │ -0.012420654296875 │      -0.4833984375 │ 0.093536376953125 │   0.02845636602594621 │  0.1686901479812802 │   -0.020050048828125 │     0.00201416015625 │ 0.576934814453125 │          0.022064208984375 │ 0.20870833333333333 │ -0.0015544322651759957 │ 10.431781988329288 │  2032.536274642495 │ 2009.0838058539587 │ 0.040454745292663574 │  4617.333333333333 │  588.2171020507812 │  40.502044677734375 │     1.32167387008667 │                   1.0 │     1.32167387008667 │     8878.552734375 │    8877.2314453125 │      2068584.875 │  1438.257568359375 │       12.942316055297852 │        348.5075988769531 │              335.5652770996094 │   3.0118319988250732 │ 14.636241912841797 │  3.685527801513672 │  -31.409454345703125 │     -33.68086242675781 │  -48.544368743896484 │                      1.0 │ -48.544368743896484 │  -10.27219009399414 │    38.272178649902344 │    85.6886215209961 │   9.256814956665039 │          -38.63551330566406 │           -24.3343505859375 │                14.301162719726562 │       4.452499866485596 │  -0.7035887241363525 │  0.45511481165885925 │   0.9778894186019897 │  0.24291977286338806 │  -38.81958770751953 │               1.0 │  -38.81958770751953 │  204.0885772705078 │ 242.90817260742188 │  588.3734130859375 │ 24.256410598754883 │  -3.9428882598876953 │   2.2648191452026367 │          6.207707405090332 │   52.5488166809082 │   6.65488338470459 │  21.19801149613346 │    19.35367017830015 │ 16.903062756438043 │                    1.0 │ 16.903062756438043 │  36.59913363497958 │  19.696070878541537 │  40.71545896694607 │  6.380866631339827 │          18.0883887083164 │        19.676718243291834 │              1.5883295349754327 │    1.9069320244997376 │    1.905113176159115 │ 1.9150122272793701 │\n",
       "│ Anniepoo-20140308-nky │  7.492345742850207 │ -2.2658194171146477 │  3.906890595608518 │  -0.027577718098958332 │ -0.012420654296875 │ -0.011016845703125 │      -0.4833984375 │ 0.184722900390625 │  0.021123711773682212 │ 0.14533998683666588 │    -0.01947021484375 │   0.0078582763671875 │ 0.668121337890625 │         0.0273284912109375 │ 0.14008333333333334 │ -0.0018524195675575425 │ 11.378180430272389 │ 1510.2963473896768 │ 1474.3090867867766 │  0.01578070968389511 │ 3129.6666666666665 │  618.9207763671875 │   74.15086364746094 │  0.08907122910022736 │                   1.0 │  0.08907122910022736 │   7383.03173828125 │   7382.94287109375 │      1930732.625 │  1389.508056640625 │       10.928226470947266 │       386.72357177734375 │             375.79534912109375 │   3.1179351806640625 │  9.620500564575195 │ 3.1347713470458984 │   -32.32707595825195 │    -31.054462432861328 │  -60.258235931396484 │                      1.0 │ -60.258235931396484 │ -11.073265075683594 │     49.18497085571289 │  140.06251525878906 │  11.834800720214844 │           -39.3766975402832 │         -23.881624221801758 │                15.495073318481445 │       4.431887149810791 │  -0.5562474727630615 │ -0.33323776721954346 │   1.5391308069229126 │ -0.27124476432800293 │  -36.58062744140625 │               1.0 │  -36.58062744140625 │ 194.29513549804688 │ 230.87576293945312 │     621.3349609375 │ 24.926591873168945 │  -3.7844161987304688 │   2.0648434162139893 │          5.849259376525879 │  41.07252502441406 │  5.984035491943359 │ 17.701300901073672 │   15.964299236300493 │ 14.506616754972615 │                    1.0 │ 14.506616754972615 │ 25.740177742866774 │  11.233560987894158 │  14.83469855257324 │ 3.8515839017958884 │        15.294178945429909 │        18.554827341258008 │               3.260648395828099 │    1.9238737002296156 │ -0.07488337415662683 │ 1.2096873294978447 │\n",
       "│ Anniepoo-20140308-nky │  4.055764557341254 │ -1.9235584399078969 │  2.807354922057604 │   -0.08330862862723214 │ -0.018463134765625 │  -0.15191650390625 │      -0.4833984375 │ 0.093536376953125 │   0.03634285940123456 │  0.1906380324102055 │  -0.0859832763671875 │   -0.001434326171875 │ 0.576934814453125 │         0.0845489501953125 │ 0.16133333333333333 │ -0.0020666326973088796 │ 12.963265882507784 │ 1653.0591273075056 │  1872.306216888567 │  0.01491590403020382 │             3777.0 │ 1082.5208740234375 │   74.82658386230469 │   0.3622931241989136 │                   1.0 │   0.3622931241989136 │     15808.42578125 │   15808.0634765625 │        6860177.0 │   2619.19384765625 │        6.928236961364746 │        359.0643310546875 │              352.1361083984375 │   2.9350476264953613 │ 12.058144569396973 │ 3.3249456882476807 │   -31.88947296142578 │    -31.020709991455078 │  -54.165008544921875 │                      1.0 │ -54.165008544921875 │    -7.7667236328125 │    46.398284912109375 │  144.49246215820312 │  12.020502090454102 │         -41.349388122558594 │         -24.204490661621094 │                  17.1448974609375 │       4.422757625579834 │  -0.9223875999450684 │   0.1622185856103897 │   0.5805135369300842 │  0.08529281616210938 │  -50.00045394897461 │               1.0 │  -50.00045394897461 │ 198.86175537109375 │ 248.86221313476562 │  650.0571899414062 │ 25.496219635009766 │   -2.485140085220337 │   1.7772513628005981 │          4.262391567230225 │  40.34615707397461 │  5.644278049468994 │ 21.034585899608082 │   17.238478433635372 │ 14.793096128348095 │                    1.0 │ 14.793096128348095 │ 37.514237955921494 │  22.721141827573398 │ 56.758544284564515 │  7.533826669400121 │          15.7349432735618 │           23.113201116114 │               7.378257842552198 │     1.888519095578941 │   0.4287351706416511 │ 1.3179228209857194 │\n",
       "│ Anniepoo-20140308-nky │  5.177455112141239 │  -2.193576349382853 │  2.584962500721156 │   -0.07187398274739583 │ -0.016937255859375 │ -0.015411376953125 │      -0.4833984375 │ 0.093536376953125 │   0.04251312181974451 │ 0.20618710391230707 │     -0.0196533203125 │     0.00555419921875 │ 0.576934814453125 │           0.02520751953125 │ 0.12970833333333334 │ -0.0017651062717123896 │ 11.136290796768177 │ 1690.1386658367965 │ 1923.0028899382191 │ 0.018748857080936432 │             3632.0 │  905.7597045898438 │  30.565500259399414 │   1.1943657398223877 │                   1.0 │   1.1943657398223877 │     23328.62890625 │     23327.43359375 │        8747638.0 │        2957.640625 │        9.375408172607422 │        284.6448059082031 │              275.2694091796875 │     2.63900089263916 │  36.60322952270508 │  5.689077854156494 │  -32.131446838378906 │      -34.9036750793457 │   -48.98423767089844 │                      1.0 │  -48.98423767089844 │  -6.076717376708984 │     42.90752029418945 │  108.09017944335938 │  10.396642684936523 │          -40.03572463989258 │         -25.213504791259766 │                14.822219848632812 │       4.441215991973877 │  -0.6245696544647217 │   0.5228832364082336 │   0.9023927450180054 │ -0.31442922353744507 │ -38.173683166503906 │               1.0 │ -38.173683166503906 │ 196.49562072753906 │  234.6693115234375 │   583.808349609375 │ 24.162126541137695 │   -4.385958671569824 │   1.3830945491790771 │         5.7690534591674805 │  46.99848937988281 │    6.3418288230896 │ 19.992669496279635 │   18.299861534008578 │  15.67389396732152 │                    1.0 │  15.67389396732152 │  34.68039239472096 │  19.006498427399443 │   37.4103213453882 │  6.116397742575952 │        16.639120701545274 │        19.008148587407916 │               2.369027885862643 │    1.9055811739913464 │   1.8131359623075323 │ 1.8761435328503773 │\n",
       "│ Anniepoo-20140308-nky │  4.279185626845719 │ -1.9990715959172356 │  2.321928094887362 │      -0.08316650390625 │ -0.018463134765625 │ -0.018463134765625 │      -0.4833984375 │ 0.093536376953125 │   0.05218499451875687 │  0.2284403522120312 │   -0.020050048828125 │    0.012542724609375 │ 0.576934814453125 │            0.0325927734375 │ 0.16779166666666667 │ -0.0018672830260148484 │  12.40340449300673 │ 1981.5316375618768 │  1996.495688254303 │ 0.032934557646512985 │             4183.0 │  982.2339477539062 │   53.35526657104492 │    2.812565565109253 │                   1.0 │    2.812565565109253 │     24737.66796875 │     24734.85546875 │       10289454.0 │    3207.7177734375 │       15.225332260131836 │       405.39068603515625 │             390.16534423828125 │     2.64654278755188 │   33.6198616027832 │  5.471531867980957 │  -30.409765243530273 │     -32.48387908935547 │  -45.264583587646484 │                      1.0 │ -45.264583587646484 │  -5.822025299072266 │     39.44255828857422 │   86.05877685546875 │   9.276786804199219 │          -37.93324279785156 │         -23.676876068115234 │                14.256366729736328 │       4.447393894195557 │  -0.3812239170074463 │   0.6153409481048584 │   1.6719417572021484 │ -0.12230266630649567 │  -47.22197341918945 │               1.0 │  -47.22197341918945 │ 216.51055908203125 │  263.7325439453125 │  642.8772583007812 │ 25.355024337768555 │   -2.514479160308838 │     1.77410888671875 │          4.288588047027588 │ 55.122825622558594 │  6.815568923950195 │  20.57594237398472 │    18.42624724911206 │ 14.528380356617474 │                    1.0 │ 14.528380356617474 │  35.42477793766786 │  20.896397581050387 │  40.34424707524142 │ 6.3517121373092325 │        17.375919822323514 │          20.4501757149243 │              3.0742558926007852 │     1.903993451617554 │   1.4054095108639801 │ 1.6589318284748373 │\n",
       "│ Anniepoo-20140308-nky │ 3.4041687318181824 │ -1.7950855684241944 │                2.0 │   -0.09934234619140625 │ -0.003753662109375 │      -0.4833984375 │      -0.4833984375 │ 0.093536376953125 │    0.0678356068674475 │ 0.26045269602645216 │ -0.13588714599609375 │   0.0327911376953125 │ 0.576934814453125 │        0.16867828369140625 │ 0.21202083333333333 │ -0.0021094235350185902 │ 15.243239990858472 │ 2346.7606239305705 │ 2243.9031330716766 │  0.04039205610752106 │  5313.333333333333 │  2105.028564453125 │    135.341552734375 │   0.4771496653556824 │                   1.0 │   0.4771496653556824 │      94528.1953125 │        94527.71875 │      109804056.0 │   10478.7431640625 │       45.489559173583984 │        598.0284423828125 │              552.5388793945312 │    2.055582046508789 │  64.78534698486328 │  7.856995105743408 │  -27.266080856323242 │    -28.441604614257812 │   -52.96906661987305 │                      1.0 │  -52.96906661987305 │                 0.0 │     52.96906661987305 │    73.5921630859375 │   8.578587532043457 │         -33.191871643066406 │         -21.989526748657227 │                 11.20234489440918 │      4.4419965744018555 │   1.0013561248779297 │   0.3349117040634155 │   0.3610139489173889 │  -0.9422894716262817 │  -35.63887023925781 │               1.0 │  -35.63887023925781 │ 251.02096557617188 │ 286.65985107421875 │  807.0220336914062 │ 28.408132553100586 │   -3.879265546798706 │   1.3513964414596558 │          5.230661869049072 │    64.559814453125 │ 7.6299614906311035 │ 21.569256597081978 │    18.89878716244977 │ 16.023716997190945 │                    1.0 │ 16.023716997190945 │  35.95964073798059 │  19.935923740789647 │  41.54297882742453 │  6.445384304091148 │        17.357139816589836 │         22.69418582438643 │               5.337046007796594 │    1.9057887449714968 │    0.692092332055164 │ 1.4245724693263517 │\n",
       "│ Anniepoo-20140308-nky │  8.806338915104966 │  1.1468733906551682 │ 1.5849625007211559 │   0.028676350911458332 │  0.012542724609375 │ -0.020050048828125 │ -0.020050048828125 │ 0.093536376953125 │ 0.0034206894536813097 │ 0.05848666047639675 │   -0.003753662109375 │     0.05303955078125 │  0.11358642578125 │          0.056793212890625 │ 0.18970833333333334 │  -0.001775316976385515 │  14.66979974912815 │  2748.879383127745 │  2310.976128304265 │   0.1248638927936554 │  5732.666666666666 │   956.001708984375 │      225.5517578125 │    0.295183926820755 │                   1.0 │    0.295183926820755 │    10328.591796875 │       10328.296875 │       3362570.75 │ 1833.7313232421875 │        77.56251525878906 │        750.2158813476562 │              672.6533813476562 │   3.4229536056518555 │  9.689461708068848 │ 3.0279650688171387 │  -25.807188034057617 │    -26.223581314086914 │  -55.054683685302734 │                      1.0 │ -55.054683685302734 │   -9.61520004272461 │    45.439483642578125 │   58.77297592163086 │   7.666353702545166 │           -30.8609561920166 │         -21.003925323486328 │                 9.857030868530273 │       4.454824447631836 │    1.479416847229004 │ -0.38193202018737793 │ -0.08954848349094391 │   -1.189513921737671 │ -39.273536682128906 │               1.0 │ -39.273536682128906 │  267.8042297363281 │  307.0777587890625 │  887.6793212890625 │ 29.793947219848633 │   -4.813683032989502 │   0.6675233840942383 │           5.48120641708374 │  69.72734069824219 │  8.045337677001953 │ 21.664866720906918 │    16.36626664182963 │ 15.644048533687194 │                    1.0 │ 15.644048533687194 │  40.33468853959508 │  24.690640005907884 │  77.28175587455962 │   8.79100425859069 │         16.20788149574487 │        23.446650169873394 │               7.238768674128522 │    1.8732244821570783 │  0.07387404024659361 │ 1.2950734090042342 │\n",
       "│ Anniepoo-20140308-nky │  8.806338915104966 │  -2.339435118446312 │                1.0 │       0.05303955078125 │   0.05303955078125 │  0.012542724609375 │  0.012542724609375 │ 0.093536376953125 │   0.00327998585999012 │ 0.05727116080533133 │   0.0327911376953125 │   0.0732879638671875 │  0.08099365234375 │          0.040496826171875 │             0.18075 │ -0.0020636787559935735 │ 13.725819397923695 │ 1988.1202889407841 │ 1831.9452853282548 │   0.0399521179497242 │  3744.333333333333 │  856.5139770507812 │  101.41520690917969 │  0.02700120024383068 │                   1.0 │  0.02700120024383068 │    11955.103515625 │    11955.076171875 │        4310946.0 │   2076.28173828125 │       20.323963165283203 │       483.02593994140625 │             462.70196533203125 │   3.0577383041381836 │ 13.483036041259766 │  3.630781412124634 │  -29.734149932861328 │        -29.69482421875 │   -65.44178009033203 │                      1.0 │  -65.44178009033203 │  -8.980079650878906 │    56.461700439453125 │  105.95262908935547 │  10.293329238891602 │          -36.67589569091797 │         -22.919435501098633 │                13.756460189819336 │       4.438297271728516 │   0.5221166610717773 │   -0.336946576833725 │  -0.9360955953598022 │  -0.6576181650161743 │  -42.75093078613281 │               1.0 │  -42.75093078613281 │ 223.10279846191406 │  265.8537292480469 │  713.5519409179688 │ 26.712392807006836 │   -4.343473434448242 │     1.35120689868927 │          5.694680213928223 │ 52.523162841796875 │ 6.5376691818237305 │ 22.418147642957642 │   18.059854932761414 │ 16.706499279545042 │                    1.0 │ 16.706499279545042 │ 36.248799841403255 │  19.542300561858212 │  60.01837886864722 │  7.747152952449514 │         17.22795827557814 │         25.72798144791876 │               8.500023172340622 │    1.8910073395609457 │  -0.9569245433959224 │ 0.9722935863073418 │\n",
       "│ Anniepoo-20140308-nky │  4.899381475547537 │ -2.1130689777673943 │                3.0 │   -0.07264328002929688 │ -0.016937255859375 │   0.00201416015625 │      -0.4833984375 │ 0.093536376953125 │   0.03206101962963918 │  0.1790559120209081 │ -0.05301666259765625 │  0.00464630126953125 │ 0.576934814453125 │         0.0576629638671875 │ 0.19691666666666666 │ -0.0009227487168361598 │  7.434621675552669 │  2685.302554562863 │ 2415.6950372590336 │  0.06449263542890549 │             5799.0 │ 377.75177001953125 │   31.32292938232422 │  0.11119899153709412 │                   1.0 │  0.11119899153709412 │   6562.84326171875 │   6562.73193359375 │      1074834.875 │  1036.742431640625 │       11.625972747802734 │       113.90300750732422 │             102.27703857421875 │   2.8480944633483887 │ 18.356908798217773 │  4.149118900299072 │  -33.627830505371094 │     -34.79934310913086 │   -59.29460144042969 │                      1.0 │  -59.29460144042969 │  -11.58469009399414 │     47.70991134643555 │   85.00513458251953 │   9.219822883605957 │           -39.1016845703125 │           -29.1945858001709 │                 9.907098770141602 │       4.459636688232422 │   0.4261455535888672 │  0.21115335822105408 │  -0.3001948595046997 │ -0.28845515847206116 │ -41.855323791503906 │               1.0 │ -41.855323791503906 │ 178.67355346679688 │ 220.52886962890625 │ 480.31854248046875 │ 21.916170120239258 │   -4.249503135681152 │   2.1217904090881348 │          6.371293544769287 │  46.95256042480469 │  5.918945789337158 │ 22.765415237621774 │    20.26646981594689 │  16.19377787182867 │                    1.0 │  16.19377787182867 │ 38.573001958970465 │  22.379224087141797 │  64.82150469315562 │  8.051180329191219 │         16.42042142374897 │        25.741907084554228 │               9.321485660805259 │    1.8884063223427239 │  -0.5415583238769215 │ 1.0112332544813278 │\n",
       "├───────────────────────┴────────────────────┴─────────────────────┴────────────────────┴────────────────────────┴────────────────────┴────────────────────┴────────────────────┴───────────────────┴───────────────────────┴─────────────────────┴──────────────────────┴──────────────────────┴───────────────────┴────────────────────────────┴─────────────────────┴────────────────────────┴────────────────────┴────────────────────┴────────────────────┴──────────────────────┴────────────────────┴────────────────────┴─────────────────────┴──────────────────────┴───────────────────────┴──────────────────────┴────────────────────┴────────────────────┴──────────────────┴────────────────────┴──────────────────────────┴──────────────────────────┴────────────────────────────────┴──────────────────────┴────────────────────┴────────────────────┴──────────────────────┴────────────────────────┴──────────────────────┴──────────────────────────┴─────────────────────┴─────────────────────┴───────────────────────┴─────────────────────┴─────────────────────┴─────────────────────────────┴─────────────────────────────┴───────────────────────────────────┴─────────────────────────┴──────────────────────┴──────────────────────┴──────────────────────┴──────────────────────┴─────────────────────┴───────────────────┴─────────────────────┴────────────────────┴────────────────────┴────────────────────┴────────────────────┴──────────────────────┴──────────────────────┴────────────────────────────┴────────────────────┴────────────────────┴────────────────────┴──────────────────────┴────────────────────┴────────────────────────┴────────────────────┴────────────────────┴─────────────────────┴────────────────────┴────────────────────┴───────────────────────────┴───────────────────────────┴─────────────────────────────────┴───────────────────────┴──────────────────────┴────────────────────┤\n",
       "│ 402 rows (20 shown)                                                                                                                                                                                                                                                                                                                                                                                                                                                                                                                                                                                                                                                                                                                                                                                                                                                                                                                                                                                                                                                                                                                                                                                                                                                                                                                                                                                                                                                                                                                                                                                                                                                                                                                                                                                                                                                                                                                         81 columns │\n",
       "└────────────────────────────────────────────────────────────────────────────────────────────────────────────────────────────────────────────────────────────────────────────────────────────────────────────────────────────────────────────────────────────────────────────────────────────────────────────────────────────────────────────────────────────────────────────────────────────────────────────────────────────────────────────────────────────────────────────────────────────────────────────────────────────────────────────────────────────────────────────────────────────────────────────────────────────────────────────────────────────────────────────────────────────────────────────────────────────────────────────────────────────────────────────────────────────────────────────────────────────────────────────────────────────────────────────────────────────────────────────────────────────────────────────────────────────────────────────────────────────────────────────────────────────────────────────────────────────────────────────────────────────────────────────────────────────────────────────────────────────────────────────────────────────────────────────────────────────────────────────────────────────────────────────────────────────────────────────────────────────────────────────────────────────────────────────────────────────────────────────────────────────────────────────────────────────────────────────────────────────────────────────────────────────────────────────────────────────────────────────────────────────────────────────────────────────────────────────────────────────────────────────────────────────────────────────────────────────────────────────────────────────────────────────────────────────────────────────────────────────────────────────────────────────────────────────────────────────────────────────────────────────────────────────────────────┘"
      ]
     },
     "execution_count": 57,
     "metadata": {},
     "output_type": "execute_result"
    }
   ],
   "source": [
    "conn.sql(\"\"\"\n",
    "    SELECT * FROM features_imp\n",
    "\"\"\")"
   ]
  },
  {
   "cell_type": "markdown",
   "id": "1eee8d5e",
   "metadata": {},
   "source": [
    "# split the imputed feature table into train, val, and test sets and with it replace categorical values of label column to a numerical one "
   ]
  },
  {
   "cell_type": "code",
   "execution_count": 58,
   "id": "6f8269c8",
   "metadata": {},
   "outputs": [],
   "source": [
    "conn.sql(\"\"\"    \n",
    "    CREATE OR REPLACE TEMPORARY TABLE train_data AS (\n",
    "        WITH feature_label AS (\n",
    "            SELECT \n",
    "                f.*,\n",
    "                l.value AS label\n",
    "            FROM train_labels l\n",
    "            INNER JOIN features_imp f\n",
    "            ON f.subjectId = l.subjectId\n",
    "        )\n",
    "        \n",
    "        SELECT \n",
    "            * EXCLUDE (label, subjectId),\n",
    "            CASE \n",
    "                WHEN label = 'male' THEN 0\n",
    "                ELSE 1\n",
    "            END AS label\n",
    "        FROM feature_label\n",
    "    )\n",
    "\"\"\")"
   ]
  },
  {
   "cell_type": "code",
   "execution_count": 59,
   "id": "29307356",
   "metadata": {},
   "outputs": [
    {
     "data": {
      "text/plain": [
       "┌──────────────┐\n",
       "│ count_star() │\n",
       "│    int64     │\n",
       "├──────────────┤\n",
       "│          256 │\n",
       "└──────────────┘"
      ]
     },
     "execution_count": 59,
     "metadata": {},
     "output_type": "execute_result"
    }
   ],
   "source": [
    "conn.sql(\"\"\"\n",
    "    SELECT COUNT(*) FROM train_data\n",
    "\"\"\")"
   ]
  },
  {
   "cell_type": "markdown",
   "id": "9267a577",
   "metadata": {},
   "source": [
    "# if for example the last 3 windows of freq_kurt is null then for all 4350 subjects there would be 13050 nulls in total which we ought to impute during the final preprocessing"
   ]
  },
  {
   "cell_type": "code",
   "execution_count": 60,
   "id": "259a447a",
   "metadata": {},
   "outputs": [],
   "source": [
    "conn.sql(\"\"\"    \n",
    "    CREATE OR REPLACE TEMPORARY TABLE val_data AS (\n",
    "        WITH feature_label AS (\n",
    "            SELECT \n",
    "                f.*,\n",
    "                l.value AS label\n",
    "            FROM val_labels l\n",
    "            INNER JOIN features_imp f\n",
    "            ON f.subjectId = l.subjectId\n",
    "        )\n",
    "        \n",
    "        SELECT \n",
    "            * EXCLUDE (label, subjectId),\n",
    "            CASE \n",
    "                WHEN label = 'male' THEN 0\n",
    "                ELSE 1\n",
    "            END AS label\n",
    "        FROM feature_label\n",
    "    )\n",
    "\"\"\")"
   ]
  },
  {
   "cell_type": "code",
   "execution_count": 61,
   "id": "2bf5521c",
   "metadata": {},
   "outputs": [
    {
     "data": {
      "text/plain": [
       "┌──────────────┐\n",
       "│ count_star() │\n",
       "│    int64     │\n",
       "├──────────────┤\n",
       "│           50 │\n",
       "└──────────────┘"
      ]
     },
     "execution_count": 61,
     "metadata": {},
     "output_type": "execute_result"
    }
   ],
   "source": [
    "conn.sql(\"\"\"\n",
    "    SELECT COUNT(*) FROM val_data\n",
    "\"\"\")"
   ]
  },
  {
   "cell_type": "code",
   "execution_count": 62,
   "id": "060c049f",
   "metadata": {},
   "outputs": [],
   "source": [
    "conn.sql(\"\"\"    \n",
    "    CREATE OR REPLACE TEMPORARY TABLE test_data AS (\n",
    "        WITH feature_label AS (\n",
    "            SELECT \n",
    "                f.*,\n",
    "                l.value AS label\n",
    "            FROM test_labels l\n",
    "            INNER JOIN features_imp f\n",
    "            ON f.subjectId = l.subjectId\n",
    "        )\n",
    "        \n",
    "        SELECT \n",
    "            * EXCLUDE (label, subjectId),\n",
    "            CASE \n",
    "                WHEN label = 'male' THEN 0\n",
    "                ELSE 1\n",
    "            END AS label\n",
    "        FROM feature_label\n",
    "    )\n",
    "\"\"\")"
   ]
  },
  {
   "cell_type": "code",
   "execution_count": 63,
   "id": "6f8b759a",
   "metadata": {},
   "outputs": [
    {
     "data": {
      "text/plain": [
       "┌──────────────┐\n",
       "│ count_star() │\n",
       "│    int64     │\n",
       "├──────────────┤\n",
       "│           96 │\n",
       "└──────────────┘"
      ]
     },
     "execution_count": 63,
     "metadata": {},
     "output_type": "execute_result"
    }
   ],
   "source": [
    "conn.sql(\"\"\"\n",
    "    SELECT COUNT(*) FROM test_data\n",
    "\"\"\")"
   ]
  },
  {
   "cell_type": "markdown",
   "id": "16b1b417",
   "metadata": {},
   "source": [
    "# We check how much our each split of our dataset is imbalanced"
   ]
  },
  {
   "cell_type": "code",
   "execution_count": 64,
   "id": "af194756",
   "metadata": {},
   "outputs": [
    {
     "data": {
      "text/plain": [
       "┌───────────┬───────┐\n",
       "│ label_cnt │ label │\n",
       "│   int64   │ int32 │\n",
       "├───────────┼───────┤\n",
       "│       110 │     0 │\n",
       "│       146 │     1 │\n",
       "└───────────┴───────┘"
      ]
     },
     "execution_count": 64,
     "metadata": {},
     "output_type": "execute_result"
    }
   ],
   "source": [
    "conn.sql(\"\"\"\n",
    "    SELECT COUNT(label) AS label_cnt, label FROM train_data\n",
    "    GROUP BY label\n",
    "\"\"\")"
   ]
  },
  {
   "cell_type": "code",
   "execution_count": 65,
   "id": "4ede8421",
   "metadata": {},
   "outputs": [
    {
     "data": {
      "text/plain": [
       "┌───────────┬───────┐\n",
       "│ label_cnt │ label │\n",
       "│   int64   │ int32 │\n",
       "├───────────┼───────┤\n",
       "│        23 │     0 │\n",
       "│        27 │     1 │\n",
       "└───────────┴───────┘"
      ]
     },
     "execution_count": 65,
     "metadata": {},
     "output_type": "execute_result"
    }
   ],
   "source": [
    "conn.sql(\"\"\"\n",
    "    SELECT COUNT(label) AS label_cnt, label FROM val_data\n",
    "    GROUP BY label\n",
    "\"\"\")"
   ]
  },
  {
   "cell_type": "code",
   "execution_count": 66,
   "id": "84078ac3",
   "metadata": {},
   "outputs": [
    {
     "data": {
      "text/plain": [
       "┌───────────┬───────┐\n",
       "│ label_cnt │ label │\n",
       "│   int64   │ int32 │\n",
       "├───────────┼───────┤\n",
       "│        33 │     0 │\n",
       "│        63 │     1 │\n",
       "└───────────┴───────┘"
      ]
     },
     "execution_count": 66,
     "metadata": {},
     "output_type": "execute_result"
    }
   ],
   "source": [
    "conn.sql(\"\"\"\n",
    "    SELECT COUNT(label) AS label_cnt, label FROM test_data\n",
    "    GROUP BY label\n",
    "\"\"\")"
   ]
  },
  {
   "cell_type": "markdown",
   "id": "7717657e",
   "metadata": {},
   "source": [
    "# once data is split and now recombined to our labels we save each into individual parquet files again  "
   ]
  },
  {
   "cell_type": "code",
   "execution_count": 68,
   "id": "c5d05a2a",
   "metadata": {},
   "outputs": [
    {
     "data": {
      "text/plain": [
       "'abfss://sgppipelinesa-silver@sgppipelinesa.dfs.core.windows.net/stage-03'"
      ]
     },
     "execution_count": 68,
     "metadata": {},
     "output_type": "execute_result"
    }
   ],
   "source": [
    "# # local\n",
    "# SAVE_DIR = SILVER_DATA_DIR.format(\n",
    "#     DATA_DIR=DATA_DIR,\n",
    "#     FOLDER_NAME=SILVER_FOLDER_NAME,\n",
    "#     SUB_FOLDER_NAME=\"stage-03\"\n",
    "# )\n",
    "# os.makedirs(SAVE_DIR, exist_ok=True)\n",
    "# SAVE_DIR\n",
    "\n",
    "# cloud\n",
    "SAVE_DIR = SILVER_DATA_DIR.format(\n",
    "    FOLDER_NAME=SILVER_FOLDER_NAME,\n",
    "    SUB_FOLDER_NAME=\"stage-03\"\n",
    ")\n",
    "SAVE_DIR"
   ]
  },
  {
   "cell_type": "code",
   "execution_count": null,
   "id": "8713b1fb",
   "metadata": {},
   "outputs": [],
   "source": [
    "# conn.sql(f\"\"\"\n",
    "#     COPY (SELECT * FROM train_data) TO '{SAVE_DIR}/train_data.parquet' (FORMAT parquet)\n",
    "# \"\"\")"
   ]
  },
  {
   "cell_type": "code",
   "execution_count": null,
   "id": "61df64ee",
   "metadata": {},
   "outputs": [],
   "source": [
    "# conn.sql(f\"\"\"\n",
    "#     COPY (SELECT * FROM val_data) TO '{SAVE_DIR}/val_data.parquet' (FORMAT parquet)\n",
    "# \"\"\")"
   ]
  },
  {
   "cell_type": "code",
   "execution_count": null,
   "id": "34af0c52",
   "metadata": {},
   "outputs": [],
   "source": [
    "# conn.sql(f\"\"\"\n",
    "#     COPY (SELECT * FROM test_data) TO '{SAVE_DIR}/test_data.parquet' (FORMAT parquet)\n",
    "# \"\"\")"
   ]
  },
  {
   "cell_type": "code",
   "execution_count": 69,
   "id": "fe1a8172",
   "metadata": {},
   "outputs": [],
   "source": [
    "train_data_table = conn.sql(\"SELECT * FROM train_data\").to_arrow_table()\n",
    "val_data_table = conn.sql(\"SELECT * FROM val_data\").to_arrow_table()\n",
    "test_data_table = conn.sql(\"SELECT * FROM test_data\").to_arrow_table()"
   ]
  },
  {
   "cell_type": "code",
   "execution_count": 70,
   "id": "cded22a2",
   "metadata": {},
   "outputs": [],
   "source": [
    "handler = pa_adl.AccountHandler.from_account_name(storage_account_name, credential=credential)\n",
    "fs = pa.fs.PyFileSystem(handler)"
   ]
  },
  {
   "cell_type": "code",
   "execution_count": 73,
   "id": "66ab24b2",
   "metadata": {},
   "outputs": [],
   "source": [
    "pq.write_table(train_data_table, \"sgppipelinesa-silver/stage-03/train_data.parquet\", filesystem=fs)\n",
    "pq.write_table(val_data_table, \"sgppipelinesa-silver/stage-03/val_data.parquet\", filesystem=fs)\n",
    "pq.write_table(test_data_table, \"sgppipelinesa-silver/stage-03/test_data.parquet\", filesystem=fs)"
   ]
  }
 ],
 "metadata": {
  "kernelspec": {
   "display_name": "tech-interview",
   "language": "python",
   "name": "python3"
  },
  "language_info": {
   "codemirror_mode": {
    "name": "ipython",
    "version": 3
   },
   "file_extension": ".py",
   "mimetype": "text/x-python",
   "name": "python",
   "nbconvert_exporter": "python",
   "pygments_lexer": "ipython3",
   "version": "3.11.8"
  }
 },
 "nbformat": 4,
 "nbformat_minor": 5
}
