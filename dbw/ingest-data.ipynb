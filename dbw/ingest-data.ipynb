{
 "cells": [
  {
   "cell_type": "code",
   "execution_count": 0,
   "metadata": {
    "application/vnd.databricks.v1+cell": {
     "cellMetadata": {
      "byteLimit": 2048000,
      "rowLimit": 10000
     },
     "inputWidgets": {},
     "nuid": "ee1a92e0-fe2a-44d6-9a12-fe3f8524c819",
     "showTitle": false,
     "tableResultSettingsMap": {},
     "title": ""
    }
   },
   "outputs": [],
   "source": [
    "import re\n",
    "import os\n",
    "import numpy as np\n",
    "from concurrent.futures import ThreadPoolExecutor\n",
    "import matplotlib.pyplot as plt\n",
    "import pyspark.sql.functions as F\n",
    "\n",
    "from pyspark.sql import SparkSession, Window\n",
    "from pyspark.conf import SparkConf\n",
    "from pyspark.context import SparkContext\n",
    "from pyspark.sql.types import StringType, ArrayType, StructField, StructType, FloatType, DoubleType, IntegerType"
   ]
  },
  {
   "cell_type": "code",
   "execution_count": 0,
   "metadata": {
    "application/vnd.databricks.v1+cell": {
     "cellMetadata": {
      "byteLimit": 2048000,
      "rowLimit": 10000
     },
     "inputWidgets": {},
     "nuid": "80ba5ea9-0e29-49bd-b917-33e6050b70fc",
     "showTitle": false,
     "tableResultSettingsMap": {},
     "title": ""
    }
   },
   "outputs": [],
   "source": [
    "spark = SparkSession.builder.appName(\"test\")\\\n",
    "    .config(\"spark.driver.memory\", \"14g\")\\\n",
    "    .config(\"spark.sql.execution.arrow.maxRecordsPerBatch\", \"100\")\\\n",
    "    .getOrCreate()"
   ]
  },
  {
   "cell_type": "code",
   "execution_count": 0,
   "metadata": {
    "application/vnd.databricks.v1+cell": {
     "cellMetadata": {
      "byteLimit": 2048000,
      "rowLimit": 10000
     },
     "inputWidgets": {},
     "nuid": "6643cd3c-e0b7-4146-a488-84d84b20d87a",
     "showTitle": false,
     "tableResultSettingsMap": {},
     "title": ""
    }
   },
   "outputs": [],
   "source": [
    "url = \"abfss://sgppipelinesa-bronze@sgppipelinesa.dfs.core.windows.net/\"\n",
    "folder_infos = dbutils.fs.ls(url)"
   ]
  },
  {
   "cell_type": "code",
   "execution_count": 0,
   "metadata": {
    "application/vnd.databricks.v1+cell": {
     "cellMetadata": {
      "byteLimit": 2048000,
      "rowLimit": 10000
     },
     "inputWidgets": {},
     "nuid": "608751f0-344b-467b-9672-45433aa9ecc0",
     "showTitle": false,
     "tableResultSettingsMap": {},
     "title": ""
    }
   },
   "outputs": [
    {
     "output_type": "execute_result",
     "data": {
      "text/plain": [
       "'abfss://sgppipelinesa-bronze@sgppipelinesa.dfs.core.windows.net/1337ad-20170321-ajg/'"
      ]
     },
     "execution_count": 35,
     "metadata": {},
     "output_type": "execute_result"
    }
   ],
   "source": [
    "sample_folder = folder_infos[-1].path\n",
    "sample_folder"
   ]
  },
  {
   "cell_type": "code",
   "execution_count": 0,
   "metadata": {
    "application/vnd.databricks.v1+cell": {
     "cellMetadata": {
      "byteLimit": 2048000,
      "rowLimit": 10000
     },
     "inputWidgets": {},
     "nuid": "b8829f80-e22c-4a4a-9aa1-1381ab00f8d0",
     "showTitle": false,
     "tableResultSettingsMap": {},
     "title": ""
    }
   },
   "outputs": [
    {
     "output_type": "execute_result",
     "data": {
      "text/plain": [
       "'1337ad-20170321-ajg'"
      ]
     },
     "execution_count": 37,
     "metadata": {},
     "output_type": "execute_result"
    }
   ],
   "source": [
    "sample_folder.strip('/').split('/')[-1]"
   ]
  },
  {
   "cell_type": "code",
   "execution_count": 0,
   "metadata": {
    "application/vnd.databricks.v1+cell": {
     "cellMetadata": {
      "byteLimit": 2048000,
      "rowLimit": 10000
     },
     "inputWidgets": {},
     "nuid": "4e982f28-f272-4576-91d9-b07ec18c3ffa",
     "showTitle": false,
     "tableResultSettingsMap": {},
     "title": ""
    }
   },
   "outputs": [
    {
     "output_type": "execute_result",
     "data": {
      "text/plain": [
       "dbruntime.dbutils.FileInfo"
      ]
     },
     "execution_count": 24,
     "metadata": {},
     "output_type": "execute_result"
    }
   ],
   "source": [
    "type(folder_infos[-1])"
   ]
  },
  {
   "cell_type": "code",
   "execution_count": 0,
   "metadata": {
    "application/vnd.databricks.v1+cell": {
     "cellMetadata": {
      "byteLimit": 2048000,
      "rowLimit": 10000
     },
     "inputWidgets": {},
     "nuid": "a1e55de7-a37a-4e39-8889-bf57f0092284",
     "showTitle": false,
     "tableResultSettingsMap": {},
     "title": ""
    }
   },
   "outputs": [
    {
     "output_type": "execute_result",
     "data": {
      "text/plain": [
       "[FileInfo(path='abfss://sgppipelinesa-bronze@sgppipelinesa.dfs.core.windows.net/1337ad-20170321-ajg/LICENSE', name='LICENSE', size=659, modificationTime=1753875338000),\n",
       " FileInfo(path='abfss://sgppipelinesa-bronze@sgppipelinesa.dfs.core.windows.net/1337ad-20170321-ajg/etc/', name='etc/', size=0, modificationTime=1753875338000),\n",
       " FileInfo(path='abfss://sgppipelinesa-bronze@sgppipelinesa.dfs.core.windows.net/1337ad-20170321-ajg/wav/', name='wav/', size=0, modificationTime=1753875339000)]"
      ]
     },
     "execution_count": 25,
     "metadata": {},
     "output_type": "execute_result"
    }
   ],
   "source": [
    "dbutils.fs.ls(folder_infos[-1].path)"
   ]
  },
  {
   "cell_type": "code",
   "execution_count": 0,
   "metadata": {
    "application/vnd.databricks.v1+cell": {
     "cellMetadata": {
      "byteLimit": 2048000,
      "rowLimit": 10000
     },
     "inputWidgets": {},
     "nuid": "666191bd-6f0b-40bd-ad5b-8316ef4aa662",
     "showTitle": false,
     "tableResultSettingsMap": {},
     "title": ""
    }
   },
   "outputs": [],
   "source": [
    "f = dbutils.fs.head(\"abfss://sgppipelinesa-bronze@sgppipelinesa.dfs.core.windows.net/1028-20100710-hne/etc/README\")"
   ]
  },
  {
   "cell_type": "code",
   "execution_count": 0,
   "metadata": {
    "application/vnd.databricks.v1+cell": {
     "cellMetadata": {
      "byteLimit": 2048000,
      "rowLimit": 10000
     },
     "inputWidgets": {},
     "nuid": "b7c542d4-1c8e-41de-8bc7-80d35f56a786",
     "showTitle": false,
     "tableResultSettingsMap": {},
     "title": ""
    }
   },
   "outputs": [
    {
     "output_type": "execute_result",
     "data": {
      "text/plain": [
       "'User Name:1028\\n\\nSpeaker Characteristics:\\n\\nGender: Male\\nAge Range: Adult\\nLanguage: EN\\nPronunciation dialect: American English\\n\\nRecording Information:\\n\\nMicrophone make: n/a\\nMicrophone type: Headset mic\\nAudio card make: unknown\\nAudio card type: unknown\\nAudio Recording Software: VoxForge Speech Submission Application\\nO/S:\\n\\nFile Info:\\n\\nFile type: wav\\nSampling Rate: 48000\\nSample rate format: 16\\nNumber of channels: 1\\n'"
      ]
     },
     "execution_count": 45,
     "metadata": {},
     "output_type": "execute_result"
    }
   ],
   "source": [
    "f"
   ]
  },
  {
   "cell_type": "code",
   "execution_count": 0,
   "metadata": {
    "application/vnd.databricks.v1+cell": {
     "cellMetadata": {
      "byteLimit": 2048000,
      "rowLimit": 10000
     },
     "inputWidgets": {},
     "nuid": "f978569b-1c1f-4d9e-a385-5c1bd68873e6",
     "showTitle": false,
     "tableResultSettingsMap": {},
     "title": ""
    }
   },
   "outputs": [],
   "source": [
    "df = spark.read.format('text')\\\n",
    "    .option(\"lineSep\", \"\\n\")\\\n",
    "    .load(\"abfss://sgppipelinesa-bronze@sgppipelinesa.dfs.core.windows.net/1028-20100710-hne/etc/README\")"
   ]
  },
  {
   "cell_type": "code",
   "execution_count": 0,
   "metadata": {
    "application/vnd.databricks.v1+cell": {
     "cellMetadata": {
      "byteLimit": 2048000,
      "rowLimit": 10000
     },
     "inputWidgets": {},
     "nuid": "ee5e370f-9202-4f52-bfda-5ff0c7095ef9",
     "showTitle": false,
     "tableResultSettingsMap": {},
     "title": ""
    }
   },
   "outputs": [
    {
     "output_type": "stream",
     "name": "stdout",
     "output_type": "stream",
     "text": [
      "+--------------------+\n|               value|\n+--------------------+\n|      User Name:1028|\n|                    |\n|Speaker Character...|\n|                    |\n|        Gender: Male|\n|    Age Range: Adult|\n|        Language: EN|\n|Pronunciation dia...|\n|                    |\n|Recording Informa...|\n|                    |\n|Microphone make: n/a|\n|Microphone type: ...|\n|Audio card make: ...|\n|Audio card type: ...|\n|Audio Recording S...|\n|                O/S:|\n|                    |\n|          File Info:|\n|                    |\n+--------------------+\nonly showing top 20 rows\n"
     ]
    }
   ],
   "source": [
    "df.show()"
   ]
  },
  {
   "cell_type": "code",
   "execution_count": 0,
   "metadata": {
    "application/vnd.databricks.v1+cell": {
     "cellMetadata": {
      "byteLimit": 2048000,
      "rowLimit": 10000
     },
     "inputWidgets": {},
     "nuid": "ea272060-c34c-4dfd-8c41-58ce029e6739",
     "showTitle": false,
     "tableResultSettingsMap": {},
     "title": ""
    }
   },
   "outputs": [
    {
     "output_type": "display_data",
     "data": {
      "text/plain": [
       "\u001B[0;31m---------------------------------------------------------------------------\u001B[0m\n",
       "\u001B[0;31mAttributeError\u001B[0m                            Traceback (most recent call last)\n",
       "File \u001B[0;32m<command-7372681937682615>, line 1\u001B[0m\n",
       "\u001B[0;32m----> 1\u001B[0m dbutils\u001B[38;5;241m.\u001B[39mfs\u001B[38;5;241m.\u001B[39mreadFile(\u001B[38;5;124m\"\u001B[39m\u001B[38;5;124mabfss://sgppipelinesa-bronze@sgppipelinesa.dfs.core.windows.net/1028-20100710-hne/etc/README\u001B[39m\u001B[38;5;124m\"\u001B[39m)\n",
       "\n",
       "\u001B[0;31mAttributeError\u001B[0m: 'RemoteFsHandler' object has no attribute 'readFile'"
      ]
     },
     "metadata": {
      "application/vnd.databricks.v1+output": {
       "addedWidgets": {},
       "arguments": {},
       "datasetInfos": [],
       "jupyterProps": {
        "ename": "AttributeError",
        "evalue": "'RemoteFsHandler' object has no attribute 'readFile'"
       },
       "metadata": {
        "errorSummary": "<span class='ansi-red-fg'>AttributeError</span>: 'RemoteFsHandler' object has no attribute 'readFile'"
       },
       "removedWidgets": [],
       "sqlProps": null,
       "stackFrames": [
        "\u001B[0;31m---------------------------------------------------------------------------\u001B[0m",
        "\u001B[0;31mAttributeError\u001B[0m                            Traceback (most recent call last)",
        "File \u001B[0;32m<command-7372681937682615>, line 1\u001B[0m\n\u001B[0;32m----> 1\u001B[0m dbutils\u001B[38;5;241m.\u001B[39mfs\u001B[38;5;241m.\u001B[39mreadFile(\u001B[38;5;124m\"\u001B[39m\u001B[38;5;124mabfss://sgppipelinesa-bronze@sgppipelinesa.dfs.core.windows.net/1028-20100710-hne/etc/README\u001B[39m\u001B[38;5;124m\"\u001B[39m)\n",
        "\u001B[0;31mAttributeError\u001B[0m: 'RemoteFsHandler' object has no attribute 'readFile'"
       ],
       "type": "baseError"
      }
     },
     "output_type": "display_data"
    }
   ],
   "source": [
    "dbutils.fs.readFile(\"abfss://sgppipelinesa-bronze@sgppipelinesa.dfs.core.windows.net/1028-20100710-hne/etc/README\")"
   ]
  },
  {
   "cell_type": "code",
   "execution_count": 0,
   "metadata": {
    "application/vnd.databricks.v1+cell": {
     "cellMetadata": {
      "byteLimit": 2048000,
      "rowLimit": 10000
     },
     "inputWidgets": {},
     "nuid": "40d407e5-25a8-4955-a794-09e500ea08e2",
     "showTitle": false,
     "tableResultSettingsMap": {},
     "title": ""
    }
   },
   "outputs": [],
   "source": [
    "# what I want to do is list the files get all the file names in the bronze \n",
    "# container, which will give me a list, and then use that list to concurrently\n",
    "# list the files inside these list of directories\n",
    "def load_labels(DIR, folder_infos):\n",
    "    def helper(folder_info):\n",
    "        try:\n",
    "            # remove trailing backslash\n",
    "            folder = folder_info.path.strip('/').split('/')[-1]\n",
    "            file_path = os.path.join(DIR, folder, \"etc\", \"README\")\n",
    "            \n",
    "            # print(file_path)\n",
    "            # with open(file_path, \"r\") as file:\n",
    "            #     lines = [line for line in file.readlines() if \"gender\" in line.lower()]\n",
    "            #     file.close()\n",
    "\n",
    "            file_content = dbutils.fs.head(file_path)\n",
    "\n",
    "            print(lines)\n",
    "\n",
    "            # extract only the gender of the subject in meta data\n",
    "            # print(lines[0].lower())\n",
    "            string = re.sub(r\"(gender)\", \"\", lines[0].lower())\n",
    "            string = re.sub(r\"[:;\\[\\]\\t\\n\\s]\", \"\", string)\n",
    "\n",
    "            if string:\n",
    "                gender = string\n",
    "                if gender.startswith(\"ma\") or gender.startswith(\"mä\"):\n",
    "                    return folder, string, \"male\"\n",
    "                elif gender.startswith(\"fem\") or gender.startswith(\"wei\"):\n",
    "                    return folder, string, \"female\"\n",
    "                else:\n",
    "                    return folder, string, \"unknown\"\n",
    "            \n",
    "        except IndexError:\n",
    "            return folder, \"unknown\", \"unknown\"\n",
    "        \n",
    "        except FileNotFoundError:\n",
    "            return folder, \"unknown\", \"unknown\"\n",
    "\n",
    "    with ThreadPoolExecutor(max_workers=5) as exe:\n",
    "        subjects_labels = list(exe.map(helper, folder_infos))\n",
    "        \n",
    "        \n",
    "    return subjects_labels"
   ]
  },
  {
   "cell_type": "code",
   "execution_count": 0,
   "metadata": {
    "application/vnd.databricks.v1+cell": {
     "cellMetadata": {
      "byteLimit": 2048000,
      "rowLimit": 10000
     },
     "inputWidgets": {},
     "nuid": "3ef9cc82-a5cd-425f-9095-76ebe54a2189",
     "showTitle": false,
     "tableResultSettingsMap": {},
     "title": ""
    }
   },
   "outputs": [
    {
     "output_type": "stream",
     "name": "stdout",
     "output_type": "stream",
     "text": [
      "abfss://sgppipelinesa-bronze@sgppipelinesa.dfs.core.windows.net/1028-20100710-hne/etc/README\nabfss://sgppipelinesa-bronze@sgppipelinesa.dfs.core.windows.net/1337ad-20170321-ajg/etc/README\n"
     ]
    }
   ],
   "source": [
    "labels = load_labels(url, folder_infos)"
   ]
  },
  {
   "cell_type": "code",
   "execution_count": 0,
   "metadata": {
    "application/vnd.databricks.v1+cell": {
     "cellMetadata": {
      "byteLimit": 2048000,
      "rowLimit": 10000
     },
     "inputWidgets": {},
     "nuid": "a0771fef-32e8-4c36-8d5d-5077a333d296",
     "showTitle": false,
     "tableResultSettingsMap": {},
     "title": ""
    }
   },
   "outputs": [
    {
     "output_type": "execute_result",
     "data": {
      "text/plain": [
       "[('1028-20100710-hne', 'unknown', 'unknown'),\n",
       " ('1337ad-20170321-ajg', 'unknown', 'unknown')]"
      ]
     },
     "execution_count": 40,
     "metadata": {},
     "output_type": "execute_result"
    }
   ],
   "source": [
    "labels"
   ]
  },
  {
   "cell_type": "code",
   "execution_count": 0,
   "metadata": {
    "application/vnd.databricks.v1+cell": {
     "cellMetadata": {},
     "inputWidgets": {},
     "nuid": "30c1292c-4397-4a15-ac2c-37b5d48bf77b",
     "showTitle": false,
     "tableResultSettingsMap": {},
     "title": ""
    }
   },
   "outputs": [],
   "source": [
    "def load_audio(DIR: str, folders: list, hertz=16000):\n",
    "    \"\"\"\n",
    "    loads audio signals from each .wav file of each subject\n",
    "    \"\"\"\n",
    "\n",
    "    def helper(folder):\n",
    "    # for folder in folders:\n",
    "        try:\n",
    "            wavs_dir = os.path.join(DIR, folder, \"wav\")\n",
    "            path_to_wavs = os.listdir(wavs_dir)\n",
    "\n",
    "        # this is if a .wav file is not used as a directory so \n",
    "        # try flac \n",
    "        except FileNotFoundError:\n",
    "            wavs_dir = os.path.join(DIR, folder, \"flac\")\n",
    "            path_to_wavs = os.listdir(wavs_dir)\n",
    "\n",
    "        finally:\n",
    "            # create storage for list of signals to all be \n",
    "            # concatenated later\n",
    "            ys = []\n",
    "\n",
    "            # create figure, and axis\n",
    "            # fig, axes = plt.subplots(nrows=len(path_to_wavs), ncols=1, figsize=(12, 30))\n",
    "            \n",
    "            for index, wav in enumerate(path_to_wavs):\n",
    "\n",
    "                wav_path = os.path.join(wavs_dir, wav)\n",
    "                # print(wav_path)\n",
    "\n",
    "                # each .wav file has a sampling frequency is 16000 hertz \n",
    "                y, sr = librosa.load(wav_path, sr=hertz)\n",
    "\n",
    "                # audio recordings can have different length\n",
    "                print(f\"shape of audio signals {y.shape}\")\n",
    "                print(f\"sampling rate of audio signals after interpolation: {sr}\")\n",
    "\n",
    "                # top_db is set to 20 representing any signal below\n",
    "                # 20 decibels will be considered silence\n",
    "                y_trimmed, _ = librosa.effects.trim(y, top_db=20)\n",
    "\n",
    "                # append y to ys \n",
    "                ys.append(y_trimmed)\n",
    "\n",
    "            # concatenate all audio signals into one final signal as \n",
    "            # this is all anyway recorded in the voice of the same gender\n",
    "            final = np.concatenate(ys, axis=0)\n",
    "            print(f\"shape of final signal: {final.shape}\")\n",
    "            # print(f\"shape of signal: {y.shape}\")\n",
    "            # print(f\"shape of trimmed signal: {y_trimmed.shape}\")\n",
    "            # print(f\"sampling rate: {sr}\")\n",
    "            # librosa.display.waveshow(final, alpha=0.5)\n",
    "\n",
    "            # plt.tight_layout()\n",
    "            # plt.show()\n",
    "\n",
    "            return folder, final\n",
    "        \n",
    "    # concurrently load .wav files and trim  each .wav files\n",
    "    # audio signal and combine into one signal for each subject \n",
    "    with ThreadPoolExecutor(max_workers=5) as exe:\n",
    "        signals = list(exe.map(helper, folders))\n",
    "        \n",
    "    return signals"
   ]
  }
 ],
 "metadata": {
  "application/vnd.databricks.v1+notebook": {
   "computePreferences": null,
   "dashboards": [],
   "environmentMetadata": {
    "base_environment": "",
    "environment_version": "2"
   },
   "inputWidgetPreferences": null,
   "language": "python",
   "notebookMetadata": {
    "pythonIndentUnit": 4
   },
   "notebookName": "ingest-data",
   "widgets": {}
  },
  "language_info": {
   "name": "python"
  }
 },
 "nbformat": 4,
 "nbformat_minor": 0
}