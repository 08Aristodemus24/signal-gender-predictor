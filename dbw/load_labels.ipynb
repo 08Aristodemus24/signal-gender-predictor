{
 "cells": [
  {
   "cell_type": "code",
   "execution_count": 0,
   "metadata": {
    "application/vnd.databricks.v1+cell": {
     "cellMetadata": {
      "byteLimit": 2048000,
      "rowLimit": 10000
     },
     "inputWidgets": {},
     "nuid": "ee1a92e0-fe2a-44d6-9a12-fe3f8524c819",
     "showTitle": false,
     "tableResultSettingsMap": {},
     "title": ""
    }
   },
   "outputs": [],
   "source": [
    "import os\n",
    "import io\n",
    "import pyspark\n",
    "import numpy as np\n",
    "import matplotlib.pyplot as plt\n",
    "import pyspark.sql.functions as F\n",
    "\n",
    "from pyspark.sql import SparkSession, Window\n",
    "from pyspark.conf import SparkConf\n",
    "# from pyspark.context import SparkContext\n",
    "from pyspark.sql.types import StringType, ArrayType, StructField, StructType, FloatType, DoubleType, IntegerType\n",
    "\n",
    "from concurrent.futures import ThreadPoolExecutor\n",
    "\n",
    "%load_ext autoreload\n",
    "%autoreload 2"
   ]
  },
  {
   "cell_type": "code",
   "execution_count": 0,
   "metadata": {
    "application/vnd.databricks.v1+cell": {
     "cellMetadata": {
      "byteLimit": 2048000,
      "rowLimit": 10000
     },
     "inputWidgets": {},
     "nuid": "80ba5ea9-0e29-49bd-b917-33e6050b70fc",
     "showTitle": false,
     "tableResultSettingsMap": {},
     "title": ""
    }
   },
   "outputs": [],
   "source": [
    "# `sparksession is none: typeerror: 'javapackage' object is not \n",
    "# callable` can be raised if the pyspark version being used is 4.0.0\n",
    "# which is not compatible to a python 3.11.8 version\n",
    "\n",
    "# if we have 24 gb of installed ram and 23 gb usable and have\n",
    "# 8 cores in our CPU we can utilize this memory to partition \n",
    "# it across all 8 cores of our cpu for concurrent processing \n",
    "# in spark. We need to also take note of background processes \n",
    "# in our task manager taking up our memory so if need be we \n",
    "# have to end these background processes that take up too much \n",
    "# memory in order to free up space for our spark driver memory \n",
    "# and spark executor memory\n",
    "\n",
    "# lets say we have 8 cores per node/CPU and currently 23gb usable ram\n",
    "# we can partition this 23gb ram across all 8 cores of the CPU\n",
    "# since there are other background processes we can reserve 1 core\n",
    "# for this as well as 1gb of ram, and so we will have only 7 cores \n",
    "# available and 22gb of ram\n",
    "\n",
    "# executors utilize cores the ff. are different kinds of executor\n",
    "# sizes\n",
    "# executor 1: [<core 1>, <core 2>, ..., <core 7>] where 22gb of ram is\n",
    "# spread out across the executors. Since there is only a single executor \n",
    "# here executor will only have 22gb of memory and then this memory will \n",
    "# be divided into its individual cores which currently have 7 so 22 / 7 \n",
    "# is 3gb of memory per core\n",
    "\n",
    "# the main idea is we can have any number of executors so long as there\n",
    "# are any number of cores but we cannot have any number of cores for\n",
    "# any number of executors. If there are 7 cores we can have at most\n",
    "# 7 executors and divide the ram across these executors and their cores\n",
    "# themselves. \n",
    "\n",
    "# executor 1: [<core 1>]\n",
    "# executor 2: [<core 2>]\n",
    "# executor 3: [<core 3>]\n",
    "# executor 4: [<core 4>]\n",
    "# executor 5: [<core 5>]\n",
    "# executor 6: [<core 6>]\n",
    "# executor 1: [<core 7>]\n",
    "# where the 22fb of ram we have is spread out across these executors\n",
    "# if we have 7 executors we will have 22 / 7 or 3gb. Therefore 3gb will\n",
    "# be the memory of each executor with one actually 4gb as 3gb + 3gb + \n",
    "# 3gb + 3gb + 3gb + 3gb + 4gb = 22gb. And \n",
    "\n",
    "# again our starting memory and cores is 24gb and 8 cores\n",
    "# we will minus 1gb and 1core for yarn/hadoop processes\n",
    "# making it 23gb and 7 cores. Yarn application master\n",
    "# can take either 1gb of ram or 1 core therefore it may make\n",
    "# our total memory and cores 22gb and 7 cores or 23gb and 6 cores;\n",
    "# say we picked the former. Now we choose our number of executors\n",
    "# which can be the mid range of our number of cores. Say we want\n",
    "# 3 executors then each executor will have 22gb / 3 or 7gb, 7gb, \n",
    "# 8gb respectively for all 3 executors.\n",
    "# executor 1 (7gb): []\n",
    "# executor 2 (7gb): []\n",
    "# executor 3 (8gb): []\n",
    "# we also take into consideration memory overhead for each\n",
    "# executor which is `memory per executor` - `max(384mb, 10 % of spark.executor.memory)`\n",
    "# after calculation our executor memories will now have the ff.\n",
    "# 7000mb - max(384mb, 10% of 7gb is 0.7gb or 700mb) = 6300mb or 6.3gb\n",
    "# 7000mb - max(384mb, 10% of 7gb is 0.7gb or 700mb) = 6300mb or 6.3gb\n",
    "# 8000mb - max(384mb, 10% of 8gb is 0.8gb or 800mb) = 7200mb or 7.2gb\n",
    "# executor 1 (6.3gb): []\n",
    "# executor 2 (6.3gb): []\n",
    "# executor 3 (7.2gb): []\n",
    "# since we havee 7 cores we can divide these cores across all these\n",
    "# executors. if distributed evenly each executor will have 2, 2, and 3\n",
    "# cores respectively\n",
    "\n",
    "\n",
    "# driver memory default is 1g\n",
    "# executor memory default is 1g\n",
    "# executor cores default is 1\n",
    "# sql execution arrow maxRecordsPerBatch default 10000 \n",
    "# maximum number of records that can be written to a single ArrowRecordBatch in memory\n",
    "\n",
    "# spark = SparkSession.builder.appName(\"app\")\\\n",
    "    # .config(\"spark.driver.memory\", \"16g\")\\\n",
    "    # .config(\"spark.executor.memory\", \"4g\")\\\n",
    "    # .config(\"spark.executor.cores\", \"2\")\\\n",
    "    # .config(\"spark.executor.instances\", \"3\")\\\n",
    "    # .config(\"spark.sql.execution.arrow.maxRecordsPerBatch\", \"100\")\\\n",
    "    # .getOrCreate()\n",
    "\n",
    "spark = SparkSession.builder.appName(\"app\")\\\n",
    "    .getOrCreate()"
   ]
  },
  {
   "cell_type": "code",
   "execution_count": 0,
   "metadata": {
    "application/vnd.databricks.v1+cell": {
     "cellMetadata": {
      "byteLimit": 2048000,
      "rowLimit": 10000
     },
     "inputWidgets": {},
     "nuid": "6643cd3c-e0b7-4146-a488-84d84b20d87a",
     "showTitle": false,
     "tableResultSettingsMap": {},
     "title": ""
    }
   },
   "outputs": [
    {
     "output_type": "execute_result",
     "data": {
      "text/plain": [
       "('abfss://sgppipelinesa-bronze@sgppipelinesa.dfs.core.windows.net/',\n",
       " [FileInfo(path='abfss://sgppipelinesa-bronze@sgppipelinesa.dfs.core.windows.net/1028-20100710-hne/', name='1028-20100710-hne/', size=0, modificationTime=1753875440000),\n",
       "  FileInfo(path='abfss://sgppipelinesa-bronze@sgppipelinesa.dfs.core.windows.net/1337ad-20170321-ajg/', name='1337ad-20170321-ajg/', size=0, modificationTime=1753875338000),\n",
       "  FileInfo(path='abfss://sgppipelinesa-bronze@sgppipelinesa.dfs.core.windows.net/1337ad-20170321-tkg/', name='1337ad-20170321-tkg/', size=0, modificationTime=1753948729000),\n",
       "  FileInfo(path='abfss://sgppipelinesa-bronze@sgppipelinesa.dfs.core.windows.net/1snoke-20120412-hge/', name='1snoke-20120412-hge/', size=0, modificationTime=1754033527000),\n",
       "  FileInfo(path='abfss://sgppipelinesa-bronze@sgppipelinesa.dfs.core.windows.net/23yipikaye-20100807-ujm/', name='23yipikaye-20100807-ujm/', size=0, modificationTime=1754033526000),\n",
       "  FileInfo(path='abfss://sgppipelinesa-bronze@sgppipelinesa.dfs.core.windows.net/Aaron-20080318-kdl/', name='Aaron-20080318-kdl/', size=0, modificationTime=1754033526000),\n",
       "  FileInfo(path='abfss://sgppipelinesa-bronze@sgppipelinesa.dfs.core.windows.net/Anniepoo-20140308-bft/', name='Anniepoo-20140308-bft/', size=0, modificationTime=1754033526000),\n",
       "  FileInfo(path='abfss://sgppipelinesa-bronze@sgppipelinesa.dfs.core.windows.net/Anniepoo-20140308-cqj/', name='Anniepoo-20140308-cqj/', size=0, modificationTime=1754033526000),\n",
       "  FileInfo(path='abfss://sgppipelinesa-bronze@sgppipelinesa.dfs.core.windows.net/Anniepoo-20140308-fcp/', name='Anniepoo-20140308-fcp/', size=0, modificationTime=1754033526000),\n",
       "  FileInfo(path='abfss://sgppipelinesa-bronze@sgppipelinesa.dfs.core.windows.net/Anniepoo-20140308-hns/', name='Anniepoo-20140308-hns/', size=0, modificationTime=1754033527000),\n",
       "  FileInfo(path='abfss://sgppipelinesa-bronze@sgppipelinesa.dfs.core.windows.net/Anniepoo-20140308-nky/', name='Anniepoo-20140308-nky/', size=0, modificationTime=1754033527000),\n",
       "  FileInfo(path='abfss://sgppipelinesa-bronze@sgppipelinesa.dfs.core.windows.net/Coren-20141121-pxp/', name='Coren-20141121-pxp/', size=0, modificationTime=1754033527000)])"
      ]
     },
     "execution_count": 11,
     "metadata": {},
     "output_type": "execute_result"
    }
   ],
   "source": [
    "# cloud\n",
    "BRONZE_FOLDER_NAME = \"sgppipelinesa-bronze\"\n",
    "URL = \"abfss://{FOLDER_NAME}@sgppipelinesa.dfs.core.windows.net/\"\n",
    "BRONZE_DATA_PATH = URL.format(FOLDER_NAME=BRONZE_FOLDER_NAME)\n",
    "BRONZE_DATA_PATH\n",
    "\n",
    "# local\n",
    "# BRONZE_FOLDER_NAME = \"bronze/\"\n",
    "# DATA_PATH = \"../include/data/\"\n",
    "# BRONZE_DATA_PATH = os.path.join(DATA_PATH, BRONZE_FOLDER_NAME)"
   ]
  },
  {
   "cell_type": "code",
   "execution_count": 0,
   "metadata": {
    "application/vnd.databricks.v1+cell": {
     "cellMetadata": {
      "byteLimit": 2048000,
      "rowLimit": 10000
     },
     "inputWidgets": {},
     "nuid": "608751f0-344b-467b-9672-45433aa9ecc0",
     "showTitle": false,
     "tableResultSettingsMap": {},
     "title": ""
    }
   },
   "outputs": [],
   "source": [
    "# sample_folder = folder_infos[-1].path\n",
    "# sample_folder"
   ]
  },
  {
   "cell_type": "code",
   "execution_count": 0,
   "metadata": {
    "application/vnd.databricks.v1+cell": {
     "cellMetadata": {
      "byteLimit": 2048000,
      "rowLimit": 10000
     },
     "inputWidgets": {},
     "nuid": "b8829f80-e22c-4a4a-9aa1-1381ab00f8d0",
     "showTitle": false,
     "tableResultSettingsMap": {},
     "title": ""
    }
   },
   "outputs": [],
   "source": [
    "# sample_folder.strip('/').split('/')[-1]"
   ]
  },
  {
   "cell_type": "code",
   "execution_count": 0,
   "metadata": {
    "application/vnd.databricks.v1+cell": {
     "cellMetadata": {
      "byteLimit": 2048000,
      "rowLimit": 10000
     },
     "inputWidgets": {},
     "nuid": "4e982f28-f272-4576-91d9-b07ec18c3ffa",
     "showTitle": false,
     "tableResultSettingsMap": {},
     "title": ""
    }
   },
   "outputs": [],
   "source": [
    "# type(folder_infos[-1])"
   ]
  },
  {
   "cell_type": "code",
   "execution_count": 0,
   "metadata": {
    "application/vnd.databricks.v1+cell": {
     "cellMetadata": {
      "byteLimit": 2048000,
      "rowLimit": 10000
     },
     "inputWidgets": {},
     "nuid": "a1e55de7-a37a-4e39-8889-bf57f0092284",
     "showTitle": false,
     "tableResultSettingsMap": {},
     "title": ""
    }
   },
   "outputs": [],
   "source": [
    "# dbutils.fs.ls(folder_infos[-1].path)"
   ]
  },
  {
   "cell_type": "code",
   "execution_count": 0,
   "metadata": {
    "application/vnd.databricks.v1+cell": {
     "cellMetadata": {
      "byteLimit": 2048000,
      "rowLimit": 10000
     },
     "inputWidgets": {},
     "nuid": "4afdf976-964e-4946-99e8-f2d21bea1f18",
     "showTitle": false,
     "tableResultSettingsMap": {},
     "title": ""
    }
   },
   "outputs": [
    {
     "output_type": "execute_result",
     "data": {
      "text/plain": [
       "['abfss://sgppipelinesa-bronze@sgppipelinesa.dfs.core.windows.net/1028-20100710-hne/',\n",
       " 'abfss://sgppipelinesa-bronze@sgppipelinesa.dfs.core.windows.net/1337ad-20170321-ajg/',\n",
       " 'abfss://sgppipelinesa-bronze@sgppipelinesa.dfs.core.windows.net/1337ad-20170321-tkg/',\n",
       " 'abfss://sgppipelinesa-bronze@sgppipelinesa.dfs.core.windows.net/1snoke-20120412-hge/',\n",
       " 'abfss://sgppipelinesa-bronze@sgppipelinesa.dfs.core.windows.net/23yipikaye-20100807-ujm/',\n",
       " 'abfss://sgppipelinesa-bronze@sgppipelinesa.dfs.core.windows.net/Aaron-20080318-kdl/',\n",
       " 'abfss://sgppipelinesa-bronze@sgppipelinesa.dfs.core.windows.net/Anniepoo-20140308-bft/',\n",
       " 'abfss://sgppipelinesa-bronze@sgppipelinesa.dfs.core.windows.net/Anniepoo-20140308-cqj/',\n",
       " 'abfss://sgppipelinesa-bronze@sgppipelinesa.dfs.core.windows.net/Anniepoo-20140308-fcp/',\n",
       " 'abfss://sgppipelinesa-bronze@sgppipelinesa.dfs.core.windows.net/Anniepoo-20140308-hns/',\n",
       " 'abfss://sgppipelinesa-bronze@sgppipelinesa.dfs.core.windows.net/Anniepoo-20140308-nky/',\n",
       " 'abfss://sgppipelinesa-bronze@sgppipelinesa.dfs.core.windows.net/Coren-20141121-pxp/']"
      ]
     },
     "execution_count": 14,
     "metadata": {},
     "output_type": "execute_result"
    }
   ],
   "source": [
    "# cloud\n",
    "file_infos = [file_info.path for file_info in dbutils.fs.ls(BRONZE_DATA_PATH)]\n",
    "file_infos\n",
    "\n",
    "# local\n",
    "# file_infos = os.listdir(BRONZE_DATA_PATH)\n",
    "# file_infos"
   ]
  },
  {
   "cell_type": "code",
   "execution_count": 0,
   "metadata": {
    "application/vnd.databricks.v1+cell": {
     "cellMetadata": {
      "byteLimit": 2048000,
      "rowLimit": 10000
     },
     "inputWidgets": {},
     "nuid": "f978569b-1c1f-4d9e-a385-5c1bd68873e6",
     "showTitle": false,
     "tableResultSettingsMap": {},
     "title": ""
    }
   },
   "outputs": [],
   "source": [
    "# labels_df = spark.read.format('text')\\\n",
    "#     .option(\"lineSep\", \"\\n\")\\\n",
    "#     .load(os.path.join(BRONZE_DATA_PATH, \"1337ad-20170321-ajg\", \"etc\", \"README\"))\n",
    "# labels_df.show()"
   ]
  },
  {
   "cell_type": "code",
   "execution_count": 0,
   "metadata": {
    "application/vnd.databricks.v1+cell": {
     "cellMetadata": {
      "byteLimit": 2048000,
      "rowLimit": 10000
     },
     "inputWidgets": {},
     "nuid": "c51a6e32-2db6-400d-850a-b27df0c056f2",
     "showTitle": false,
     "tableResultSettingsMap": {},
     "title": ""
    }
   },
   "outputs": [
    {
     "output_type": "stream",
     "name": "stdout",
     "output_type": "stream",
     "text": [
      "+--------------------+--------------------+\n|               value|           file_path|\n+--------------------+--------------------+\n|    User Name:1337ad|abfss://sgppipeli...|\n|                    |abfss://sgppipeli...|\n|Speaker Character...|abfss://sgppipeli...|\n|                    |abfss://sgppipeli...|\n|      Gender: Female|abfss://sgppipeli...|\n|    Age Range: Adult|abfss://sgppipeli...|\n|        Language: EN|abfss://sgppipeli...|\n|Pronunciation dia...|abfss://sgppipeli...|\n|                    |abfss://sgppipeli...|\n|Recording Informa...|abfss://sgppipeli...|\n|                    |abfss://sgppipeli...|\n|Microphone make: n/a|abfss://sgppipeli...|\n|Microphone type: ...|abfss://sgppipeli...|\n|Audio card make: ...|abfss://sgppipeli...|\n|Audio card type: ...|abfss://sgppipeli...|\n|Audio Recording S...|abfss://sgppipeli...|\n|                O/S:|abfss://sgppipeli...|\n|                    |abfss://sgppipeli...|\n|          File Info:|abfss://sgppipeli...|\n|                    |abfss://sgppipeli...|\n+--------------------+--------------------+\nonly showing top 20 rows\n"
     ]
    }
   ],
   "source": [
    "# cloud\n",
    "labels_df = spark.read.format(\"text\")\\\n",
    "    .option(\"lineSep\", \"\\n\")\\\n",
    "    .load([os.path.join(file_info, \"etc\", \"README\") for file_info in file_infos])\\\n",
    "    .select(\"*\", \"_metadata.file_path\")\n",
    "\n",
    "# local\n",
    "# labels_df = spark.read.format(\"text\")\\\n",
    "#     .option(\"lineSep\", \"\\n\")\\\n",
    "#     .load([os.path.join(BRONZE_DATA_PATH, file_info, \"etc\", \"README\") for file_info in file_infos])\n",
    "labels_df.show()"
   ]
  },
  {
   "cell_type": "code",
   "execution_count": 0,
   "metadata": {
    "application/vnd.databricks.v1+cell": {
     "cellMetadata": {},
     "inputWidgets": {},
     "nuid": "15f914d7-b5fc-4c80-a7c4-f56e2bd695ee",
     "showTitle": false,
     "tableResultSettingsMap": {},
     "title": ""
    }
   },
   "outputs": [],
   "source": [
    "# labels_df.count()"
   ]
  },
  {
   "cell_type": "code",
   "execution_count": 0,
   "metadata": {
    "application/vnd.databricks.v1+cell": {
     "cellMetadata": {},
     "inputWidgets": {},
     "nuid": "fa05cc71-89c4-48cb-aa30-ea21fa972c68",
     "showTitle": false,
     "tableResultSettingsMap": {},
     "title": ""
    }
   },
   "outputs": [],
   "source": [
    "# labels_df.withColumn(\"filePath\", F.input_file_name()).show()"
   ]
  },
  {
   "cell_type": "code",
   "execution_count": 0,
   "metadata": {
    "application/vnd.databricks.v1+cell": {
     "cellMetadata": {
      "byteLimit": 2048000,
      "rowLimit": 10000
     },
     "inputWidgets": {},
     "nuid": "ee5e370f-9202-4f52-bfda-5ff0c7095ef9",
     "showTitle": false,
     "tableResultSettingsMap": {},
     "title": ""
    }
   },
   "outputs": [],
   "source": [
    "# labels_df.withColumn(\"filePath\", F.input_file_name()).where(\n",
    "#     F.lower(F.col(\"value\")).contains(\"gender\")\n",
    "# ).collect()"
   ]
  },
  {
   "cell_type": "code",
   "execution_count": 0,
   "metadata": {
    "application/vnd.databricks.v1+cell": {
     "cellMetadata": {
      "byteLimit": 2048000,
      "rowLimit": 10000
     },
     "inputWidgets": {},
     "nuid": "4e081e2e-0baf-43ce-866b-836041459fd5",
     "showTitle": false,
     "tableResultSettingsMap": {},
     "title": ""
    }
   },
   "outputs": [],
   "source": [
    "# local\n",
    "# labels_df = labels_df.withColumn(\"filePath\", F.input_file_name())"
   ]
  },
  {
   "cell_type": "code",
   "execution_count": 0,
   "metadata": {
    "application/vnd.databricks.v1+cell": {
     "cellMetadata": {
      "byteLimit": 2048000,
      "rowLimit": 10000
     },
     "inputWidgets": {},
     "nuid": "e99b5258-9209-4372-874f-f09b041d2fde",
     "showTitle": false,
     "tableResultSettingsMap": {},
     "title": ""
    }
   },
   "outputs": [],
   "source": [
    "labels_df = labels_df.where(F.lower(F.col(\"value\")).contains(\"gender\"))\n",
    "# labels_df.show()"
   ]
  },
  {
   "cell_type": "markdown",
   "metadata": {
    "application/vnd.databricks.v1+cell": {
     "cellMetadata": {},
     "inputWidgets": {},
     "nuid": "73b2d0b2-5317-4939-821d-d44409fe212d",
     "showTitle": false,
     "tableResultSettingsMap": {},
     "title": ""
    }
   },
   "source": [
    "# Clean value columns"
   ]
  },
  {
   "cell_type": "code",
   "execution_count": 0,
   "metadata": {
    "application/vnd.databricks.v1+cell": {
     "cellMetadata": {
      "byteLimit": 2048000,
      "rowLimit": 10000
     },
     "inputWidgets": {},
     "nuid": "0fb51cba-11fa-4752-8317-9b63289d9bfc",
     "showTitle": false,
     "tableResultSettingsMap": {},
     "title": ""
    }
   },
   "outputs": [],
   "source": [
    "labels_df = labels_df.withColumn(\n",
    "    \"value\", \n",
    "    # extract only the gender of the subject in meta data\n",
    "    F.regexp_replace(\n",
    "        F.lower(F.col(\"value\")), \n",
    "        r\"(gender)|[:;\\[\\]\\t\\n\\s]+\", \n",
    "        \"\"\n",
    "    )\n",
    ")\n",
    "# labels_df.show()"
   ]
  },
  {
   "cell_type": "code",
   "execution_count": 0,
   "metadata": {
    "application/vnd.databricks.v1+cell": {
     "cellMetadata": {
      "byteLimit": 2048000,
      "rowLimit": 10000
     },
     "inputWidgets": {},
     "nuid": "af0c8558-f26b-4253-925c-ab32ed12d711",
     "showTitle": false,
     "tableResultSettingsMap": {},
     "title": ""
    }
   },
   "outputs": [],
   "source": [
    "labels_df = labels_df.withColumn(\n",
    "    \"value\",\n",
    "    # sometimes the gender may be in a different language\n",
    "    # e.g. the 'male' in german may have the string start\n",
    "    # with 'mä' so we should return male if this is the case\n",
    "    # and vice versa for females translated to a different\n",
    "    # language \n",
    "    F.when(\n",
    "        F.col(\"value\").startswith(\"ma\") | F.col(\"value\").startswith(\"mä\"),\n",
    "        \"male\"\n",
    "    ).when(\n",
    "        F.col(\"value\").startswith(\"fem\") | F.col(\"value\").startswith(\"wei\"),\n",
    "        \"female\"\n",
    "    ).otherwise(\n",
    "        \"unknown\"\n",
    "    )\n",
    ")\n",
    "# labels_df.show()"
   ]
  },
  {
   "cell_type": "markdown",
   "metadata": {
    "application/vnd.databricks.v1+cell": {
     "cellMetadata": {},
     "inputWidgets": {},
     "nuid": "6be5f784-1060-4094-a26c-29e3dacbaf69",
     "showTitle": false,
     "tableResultSettingsMap": {},
     "title": ""
    }
   },
   "source": [
    "# clean filePath column"
   ]
  },
  {
   "cell_type": "code",
   "execution_count": 0,
   "metadata": {
    "application/vnd.databricks.v1+cell": {
     "cellMetadata": {
      "byteLimit": 2048000,
      "rowLimit": 10000
     },
     "inputWidgets": {},
     "nuid": "6a403dfe-2347-4b42-9c1d-8972d1674725",
     "showTitle": false,
     "tableResultSettingsMap": {},
     "title": ""
    }
   },
   "outputs": [],
   "source": [
    "# labels_df.withColumn(\n",
    "#     \"subjectId\",\n",
    "#     F.element_at(\n",
    "#         # splits the filepath from 'file:///c:/Users/LARRY/Documents/Scripts/.../bronze/1337ad-20170321-ajg/etc/README\n",
    "#         # to array of the directory tree of the files path e.g. \n",
    "#         # ['file:', ..., 'Scripts', ..., 'bronze', '<subject id>, 'etc', 'readme']\n",
    "#         # so in order to extract subject id or the file name we have to \n",
    "#         # get the 3rd to the last element\n",
    "#         F.split(\n",
    "#             F.col(\"file_path\"),\n",
    "#             r\"\\/\"\n",
    "#         ),\n",
    "#         -3\n",
    "#     )\n",
    "# ).collect()"
   ]
  },
  {
   "cell_type": "code",
   "execution_count": 0,
   "metadata": {
    "application/vnd.databricks.v1+cell": {
     "cellMetadata": {
      "byteLimit": 2048000,
      "rowLimit": 10000
     },
     "inputWidgets": {},
     "nuid": "854164e5-7d7b-4d39-8f7f-ddeb81f1ec61",
     "showTitle": false,
     "tableResultSettingsMap": {},
     "title": ""
    }
   },
   "outputs": [
    {
     "output_type": "stream",
     "name": "stdout",
     "output_type": "stream",
     "text": [
      "+------+--------------------+--------------------+\n| value|           file_path|           subjectId|\n+------+--------------------+--------------------+\n|female|abfss://sgppipeli...| 1337ad-20170321-ajg|\n|female|abfss://sgppipeli...| 1337ad-20170321-tkg|\n|female|abfss://sgppipeli...|Anniepoo-20140308...|\n|female|abfss://sgppipeli...|Anniepoo-20140308...|\n|female|abfss://sgppipeli...|Anniepoo-20140308...|\n|female|abfss://sgppipeli...|Anniepoo-20140308...|\n|female|abfss://sgppipeli...|Anniepoo-20140308...|\n|  male|abfss://sgppipeli...|  Aaron-20080318-kdl|\n|  male|abfss://sgppipeli...| 1snoke-20120412-hge|\n|  male|abfss://sgppipeli...|  Coren-20141121-pxp|\n|  male|abfss://sgppipeli...|   1028-20100710-hne|\n|  male|abfss://sgppipeli...|23yipikaye-201008...|\n+------+--------------------+--------------------+\n\n"
     ]
    }
   ],
   "source": [
    "labels_df = labels_df.withColumn(\n",
    "    \"subjectId\",\n",
    "    F.element_at(\n",
    "        # splits the filepath from 'file:///c:/Users/LARRY/Documents/Scripts/.../bronze/1337ad-20170321-ajg/etc/README\n",
    "        # to array of the directory tree of the files path e.g. \n",
    "        # ['file:', ..., 'Scripts', ..., 'bronze', '<subject id>, 'etc', 'readme']\n",
    "        # so in order to extract subject id or the file name we have to \n",
    "        # get the 3rd to the last element\n",
    "        F.split(\n",
    "            F.col(\"file_path\"),\n",
    "            r\"\\/\"\n",
    "        ),\n",
    "        -3\n",
    "    )\n",
    ")\n",
    "labels_df.show()"
   ]
  },
  {
   "cell_type": "code",
   "execution_count": 0,
   "metadata": {
    "application/vnd.databricks.v1+cell": {
     "cellMetadata": {
      "byteLimit": 2048000,
      "rowLimit": 10000
     },
     "inputWidgets": {},
     "nuid": "e31a0eaa-f47f-4633-8132-9b8dce911bbc",
     "showTitle": false,
     "tableResultSettingsMap": {},
     "title": ""
    }
   },
   "outputs": [
    {
     "output_type": "execute_result",
     "data": {
      "text/plain": [
       "'abfss://sgppipelinesa-silver@sgppipelinesa.dfs.core.windows.net/stage-01'"
      ]
     },
     "execution_count": 65,
     "metadata": {},
     "output_type": "execute_result"
    }
   ],
   "source": [
    "# cloud\n",
    "SILVER_FOLDER_NAME = \"sgppipelinesa-silver\"\n",
    "SUB_FOLDER_NAME = \"stage-01\"\n",
    "SILVER_DATA_DIR = os.path.join(URL.format(FOLDER_NAME=SILVER_FOLDER_NAME), SUB_FOLDER_NAME)\n",
    "SILVER_DATA_DIR\n",
    "\n",
    "# local\n",
    "# SILVER_FOLDER_NAME = \"silver\"\n",
    "# SUB_FOLDER_NAME = \"stage-01\"\n",
    "# SILVER_DATA_DIR = os.path.join(DATA_DIR, os.path.join(SILVER_FOLDER_NAME, SUB_FOLDER_NAME))\n",
    "# SILVER_DATA_DIR"
   ]
  },
  {
   "cell_type": "code",
   "execution_count": 0,
   "metadata": {
    "application/vnd.databricks.v1+cell": {
     "cellMetadata": {
      "byteLimit": 2048000,
      "rowLimit": 10000
     },
     "inputWidgets": {},
     "nuid": "46f24c9c-8fb8-4a32-8992-9206c58cafdb",
     "showTitle": false,
     "tableResultSettingsMap": {},
     "title": ""
    }
   },
   "outputs": [],
   "source": [
    "labels_df.write.mode(\"overwrite\").parquet(f\"{SILVER_DATA_DIR}/labels.parquet\")"
   ]
  }
 ],
 "metadata": {
  "application/vnd.databricks.v1+notebook": {
   "computePreferences": {
    "hardware": {
     "accelerator": null,
     "gpuPoolId": null,
     "memory": null
    }
   },
   "dashboards": [],
   "environmentMetadata": {
    "base_environment": "",
    "environment_version": "2"
   },
   "inputWidgetPreferences": null,
   "language": "python",
   "notebookMetadata": {
    "pythonIndentUnit": 4
   },
   "notebookName": "load_labels",
   "widgets": {}
  },
  "kernelspec": {
   "display_name": "tech-interview",
   "language": "python",
   "name": "python3"
  },
  "language_info": {
   "name": "python"
  }
 },
 "nbformat": 4,
 "nbformat_minor": 0
}